{
 "cells": [
  {
   "cell_type": "code",
   "execution_count": 1,
   "id": "55295b0a",
   "metadata": {
    "id": "55295b0a"
   },
   "outputs": [],
   "source": [
    "import time\n",
    "import numpy as np\n",
    "import pandas as pd\n",
    "import seaborn as sn\n",
    "import tensorflow as tf\n",
    "import matplotlib.pyplot as plt\n",
    "from sklearn.utils import shuffle\n",
    "from sklearn.metrics import confusion_matrix, classification_report, accuracy_score, roc_curve, roc_auc_score, auc\n",
    "from sklearn.feature_selection import chi2, SelectKBest\n",
    "from sklearn.model_selection import train_test_split, StratifiedKFold\n",
    "from sklearn.preprocessing import LabelEncoder, MinMaxScaler\n",
    "from tensorflow import keras\n",
    "from tensorflow.keras import callbacks\n",
    "from tensorflow.keras.optimizers import Adam\n",
    "from tensorflow.keras.models import Sequential\n",
    "from tensorflow.keras.layers import Dense, Conv2D, MaxPooling2D, Flatten, Activation, Dropout"
   ]
  },
  {
   "cell_type": "code",
   "execution_count": 2,
   "id": "jrjvlFpLD7zL",
   "metadata": {
    "colab": {
     "base_uri": "https://localhost:8080/",
     "height": 73,
     "resources": {
      "http://localhost:8080/nbextensions/google.colab/files.js": {
       "data": "Ly8gQ29weXJpZ2h0IDIwMTcgR29vZ2xlIExMQwovLwovLyBMaWNlbnNlZCB1bmRlciB0aGUgQXBhY2hlIExpY2Vuc2UsIFZlcnNpb24gMi4wICh0aGUgIkxpY2Vuc2UiKTsKLy8geW91IG1heSBub3QgdXNlIHRoaXMgZmlsZSBleGNlcHQgaW4gY29tcGxpYW5jZSB3aXRoIHRoZSBMaWNlbnNlLgovLyBZb3UgbWF5IG9idGFpbiBhIGNvcHkgb2YgdGhlIExpY2Vuc2UgYXQKLy8KLy8gICAgICBodHRwOi8vd3d3LmFwYWNoZS5vcmcvbGljZW5zZXMvTElDRU5TRS0yLjAKLy8KLy8gVW5sZXNzIHJlcXVpcmVkIGJ5IGFwcGxpY2FibGUgbGF3IG9yIGFncmVlZCB0byBpbiB3cml0aW5nLCBzb2Z0d2FyZQovLyBkaXN0cmlidXRlZCB1bmRlciB0aGUgTGljZW5zZSBpcyBkaXN0cmlidXRlZCBvbiBhbiAiQVMgSVMiIEJBU0lTLAovLyBXSVRIT1VUIFdBUlJBTlRJRVMgT1IgQ09ORElUSU9OUyBPRiBBTlkgS0lORCwgZWl0aGVyIGV4cHJlc3Mgb3IgaW1wbGllZC4KLy8gU2VlIHRoZSBMaWNlbnNlIGZvciB0aGUgc3BlY2lmaWMgbGFuZ3VhZ2UgZ292ZXJuaW5nIHBlcm1pc3Npb25zIGFuZAovLyBsaW1pdGF0aW9ucyB1bmRlciB0aGUgTGljZW5zZS4KCi8qKgogKiBAZmlsZW92ZXJ2aWV3IEhlbHBlcnMgZm9yIGdvb2dsZS5jb2xhYiBQeXRob24gbW9kdWxlLgogKi8KKGZ1bmN0aW9uKHNjb3BlKSB7CmZ1bmN0aW9uIHNwYW4odGV4dCwgc3R5bGVBdHRyaWJ1dGVzID0ge30pIHsKICBjb25zdCBlbGVtZW50ID0gZG9jdW1lbnQuY3JlYXRlRWxlbWVudCgnc3BhbicpOwogIGVsZW1lbnQudGV4dENvbnRlbnQgPSB0ZXh0OwogIGZvciAoY29uc3Qga2V5IG9mIE9iamVjdC5rZXlzKHN0eWxlQXR0cmlidXRlcykpIHsKICAgIGVsZW1lbnQuc3R5bGVba2V5XSA9IHN0eWxlQXR0cmlidXRlc1trZXldOwogIH0KICByZXR1cm4gZWxlbWVudDsKfQoKLy8gTWF4IG51bWJlciBvZiBieXRlcyB3aGljaCB3aWxsIGJlIHVwbG9hZGVkIGF0IGEgdGltZS4KY29uc3QgTUFYX1BBWUxPQURfU0laRSA9IDEwMCAqIDEwMjQ7CgpmdW5jdGlvbiBfdXBsb2FkRmlsZXMoaW5wdXRJZCwgb3V0cHV0SWQpIHsKICBjb25zdCBzdGVwcyA9IHVwbG9hZEZpbGVzU3RlcChpbnB1dElkLCBvdXRwdXRJZCk7CiAgY29uc3Qgb3V0cHV0RWxlbWVudCA9IGRvY3VtZW50LmdldEVsZW1lbnRCeUlkKG91dHB1dElkKTsKICAvLyBDYWNoZSBzdGVwcyBvbiB0aGUgb3V0cHV0RWxlbWVudCB0byBtYWtlIGl0IGF2YWlsYWJsZSBmb3IgdGhlIG5leHQgY2FsbAogIC8vIHRvIHVwbG9hZEZpbGVzQ29udGludWUgZnJvbSBQeXRob24uCiAgb3V0cHV0RWxlbWVudC5zdGVwcyA9IHN0ZXBzOwoKICByZXR1cm4gX3VwbG9hZEZpbGVzQ29udGludWUob3V0cHV0SWQpOwp9CgovLyBUaGlzIGlzIHJvdWdobHkgYW4gYXN5bmMgZ2VuZXJhdG9yIChub3Qgc3VwcG9ydGVkIGluIHRoZSBicm93c2VyIHlldCksCi8vIHdoZXJlIHRoZXJlIGFyZSBtdWx0aXBsZSBhc3luY2hyb25vdXMgc3RlcHMgYW5kIHRoZSBQeXRob24gc2lkZSBpcyBnb2luZwovLyB0byBwb2xsIGZvciBjb21wbGV0aW9uIG9mIGVhY2ggc3RlcC4KLy8gVGhpcyB1c2VzIGEgUHJvbWlzZSB0byBibG9jayB0aGUgcHl0aG9uIHNpZGUgb24gY29tcGxldGlvbiBvZiBlYWNoIHN0ZXAsCi8vIHRoZW4gcGFzc2VzIHRoZSByZXN1bHQgb2YgdGhlIHByZXZpb3VzIHN0ZXAgYXMgdGhlIGlucHV0IHRvIHRoZSBuZXh0IHN0ZXAuCmZ1bmN0aW9uIF91cGxvYWRGaWxlc0NvbnRpbnVlKG91dHB1dElkKSB7CiAgY29uc3Qgb3V0cHV0RWxlbWVudCA9IGRvY3VtZW50LmdldEVsZW1lbnRCeUlkKG91dHB1dElkKTsKICBjb25zdCBzdGVwcyA9IG91dHB1dEVsZW1lbnQuc3RlcHM7CgogIGNvbnN0IG5leHQgPSBzdGVwcy5uZXh0KG91dHB1dEVsZW1lbnQubGFzdFByb21pc2VWYWx1ZSk7CiAgcmV0dXJuIFByb21pc2UucmVzb2x2ZShuZXh0LnZhbHVlLnByb21pc2UpLnRoZW4oKHZhbHVlKSA9PiB7CiAgICAvLyBDYWNoZSB0aGUgbGFzdCBwcm9taXNlIHZhbHVlIHRvIG1ha2UgaXQgYXZhaWxhYmxlIHRvIHRoZSBuZXh0CiAgICAvLyBzdGVwIG9mIHRoZSBnZW5lcmF0b3IuCiAgICBvdXRwdXRFbGVtZW50Lmxhc3RQcm9taXNlVmFsdWUgPSB2YWx1ZTsKICAgIHJldHVybiBuZXh0LnZhbHVlLnJlc3BvbnNlOwogIH0pOwp9CgovKioKICogR2VuZXJhdG9yIGZ1bmN0aW9uIHdoaWNoIGlzIGNhbGxlZCBiZXR3ZWVuIGVhY2ggYXN5bmMgc3RlcCBvZiB0aGUgdXBsb2FkCiAqIHByb2Nlc3MuCiAqIEBwYXJhbSB7c3RyaW5nfSBpbnB1dElkIEVsZW1lbnQgSUQgb2YgdGhlIGlucHV0IGZpbGUgcGlja2VyIGVsZW1lbnQuCiAqIEBwYXJhbSB7c3RyaW5nfSBvdXRwdXRJZCBFbGVtZW50IElEIG9mIHRoZSBvdXRwdXQgZGlzcGxheS4KICogQHJldHVybiB7IUl0ZXJhYmxlPCFPYmplY3Q+fSBJdGVyYWJsZSBvZiBuZXh0IHN0ZXBzLgogKi8KZnVuY3Rpb24qIHVwbG9hZEZpbGVzU3RlcChpbnB1dElkLCBvdXRwdXRJZCkgewogIGNvbnN0IGlucHV0RWxlbWVudCA9IGRvY3VtZW50LmdldEVsZW1lbnRCeUlkKGlucHV0SWQpOwogIGlucHV0RWxlbWVudC5kaXNhYmxlZCA9IGZhbHNlOwoKICBjb25zdCBvdXRwdXRFbGVtZW50ID0gZG9jdW1lbnQuZ2V0RWxlbWVudEJ5SWQob3V0cHV0SWQpOwogIG91dHB1dEVsZW1lbnQuaW5uZXJIVE1MID0gJyc7CgogIGNvbnN0IHBpY2tlZFByb21pc2UgPSBuZXcgUHJvbWlzZSgocmVzb2x2ZSkgPT4gewogICAgaW5wdXRFbGVtZW50LmFkZEV2ZW50TGlzdGVuZXIoJ2NoYW5nZScsIChlKSA9PiB7CiAgICAgIHJlc29sdmUoZS50YXJnZXQuZmlsZXMpOwogICAgfSk7CiAgfSk7CgogIGNvbnN0IGNhbmNlbCA9IGRvY3VtZW50LmNyZWF0ZUVsZW1lbnQoJ2J1dHRvbicpOwogIGlucHV0RWxlbWVudC5wYXJlbnRFbGVtZW50LmFwcGVuZENoaWxkKGNhbmNlbCk7CiAgY2FuY2VsLnRleHRDb250ZW50ID0gJ0NhbmNlbCB1cGxvYWQnOwogIGNvbnN0IGNhbmNlbFByb21pc2UgPSBuZXcgUHJvbWlzZSgocmVzb2x2ZSkgPT4gewogICAgY2FuY2VsLm9uY2xpY2sgPSAoKSA9PiB7CiAgICAgIHJlc29sdmUobnVsbCk7CiAgICB9OwogIH0pOwoKICAvLyBXYWl0IGZvciB0aGUgdXNlciB0byBwaWNrIHRoZSBmaWxlcy4KICBjb25zdCBmaWxlcyA9IHlpZWxkIHsKICAgIHByb21pc2U6IFByb21pc2UucmFjZShbcGlja2VkUHJvbWlzZSwgY2FuY2VsUHJvbWlzZV0pLAogICAgcmVzcG9uc2U6IHsKICAgICAgYWN0aW9uOiAnc3RhcnRpbmcnLAogICAgfQogIH07CgogIGNhbmNlbC5yZW1vdmUoKTsKCiAgLy8gRGlzYWJsZSB0aGUgaW5wdXQgZWxlbWVudCBzaW5jZSBmdXJ0aGVyIHBpY2tzIGFyZSBub3QgYWxsb3dlZC4KICBpbnB1dEVsZW1lbnQuZGlzYWJsZWQgPSB0cnVlOwoKICBpZiAoIWZpbGVzKSB7CiAgICByZXR1cm4gewogICAgICByZXNwb25zZTogewogICAgICAgIGFjdGlvbjogJ2NvbXBsZXRlJywKICAgICAgfQogICAgfTsKICB9CgogIGZvciAoY29uc3QgZmlsZSBvZiBmaWxlcykgewogICAgY29uc3QgbGkgPSBkb2N1bWVudC5jcmVhdGVFbGVtZW50KCdsaScpOwogICAgbGkuYXBwZW5kKHNwYW4oZmlsZS5uYW1lLCB7Zm9udFdlaWdodDogJ2JvbGQnfSkpOwogICAgbGkuYXBwZW5kKHNwYW4oCiAgICAgICAgYCgke2ZpbGUudHlwZSB8fCAnbi9hJ30pIC0gJHtmaWxlLnNpemV9IGJ5dGVzLCBgICsKICAgICAgICBgbGFzdCBtb2RpZmllZDogJHsKICAgICAgICAgICAgZmlsZS5sYXN0TW9kaWZpZWREYXRlID8gZmlsZS5sYXN0TW9kaWZpZWREYXRlLnRvTG9jYWxlRGF0ZVN0cmluZygpIDoKICAgICAgICAgICAgICAgICAgICAgICAgICAgICAgICAgICAgJ24vYSd9IC0gYCkpOwogICAgY29uc3QgcGVyY2VudCA9IHNwYW4oJzAlIGRvbmUnKTsKICAgIGxpLmFwcGVuZENoaWxkKHBlcmNlbnQpOwoKICAgIG91dHB1dEVsZW1lbnQuYXBwZW5kQ2hpbGQobGkpOwoKICAgIGNvbnN0IGZpbGVEYXRhUHJvbWlzZSA9IG5ldyBQcm9taXNlKChyZXNvbHZlKSA9PiB7CiAgICAgIGNvbnN0IHJlYWRlciA9IG5ldyBGaWxlUmVhZGVyKCk7CiAgICAgIHJlYWRlci5vbmxvYWQgPSAoZSkgPT4gewogICAgICAgIHJlc29sdmUoZS50YXJnZXQucmVzdWx0KTsKICAgICAgfTsKICAgICAgcmVhZGVyLnJlYWRBc0FycmF5QnVmZmVyKGZpbGUpOwogICAgfSk7CiAgICAvLyBXYWl0IGZvciB0aGUgZGF0YSB0byBiZSByZWFkeS4KICAgIGxldCBmaWxlRGF0YSA9IHlpZWxkIHsKICAgICAgcHJvbWlzZTogZmlsZURhdGFQcm9taXNlLAogICAgICByZXNwb25zZTogewogICAgICAgIGFjdGlvbjogJ2NvbnRpbnVlJywKICAgICAgfQogICAgfTsKCiAgICAvLyBVc2UgYSBjaHVua2VkIHNlbmRpbmcgdG8gYXZvaWQgbWVzc2FnZSBzaXplIGxpbWl0cy4gU2VlIGIvNjIxMTU2NjAuCiAgICBsZXQgcG9zaXRpb24gPSAwOwogICAgZG8gewogICAgICBjb25zdCBsZW5ndGggPSBNYXRoLm1pbihmaWxlRGF0YS5ieXRlTGVuZ3RoIC0gcG9zaXRpb24sIE1BWF9QQVlMT0FEX1NJWkUpOwogICAgICBjb25zdCBjaHVuayA9IG5ldyBVaW50OEFycmF5KGZpbGVEYXRhLCBwb3NpdGlvbiwgbGVuZ3RoKTsKICAgICAgcG9zaXRpb24gKz0gbGVuZ3RoOwoKICAgICAgY29uc3QgYmFzZTY0ID0gYnRvYShTdHJpbmcuZnJvbUNoYXJDb2RlLmFwcGx5KG51bGwsIGNodW5rKSk7CiAgICAgIHlpZWxkIHsKICAgICAgICByZXNwb25zZTogewogICAgICAgICAgYWN0aW9uOiAnYXBwZW5kJywKICAgICAgICAgIGZpbGU6IGZpbGUubmFtZSwKICAgICAgICAgIGRhdGE6IGJhc2U2NCwKICAgICAgICB9LAogICAgICB9OwoKICAgICAgbGV0IHBlcmNlbnREb25lID0gZmlsZURhdGEuYnl0ZUxlbmd0aCA9PT0gMCA/CiAgICAgICAgICAxMDAgOgogICAgICAgICAgTWF0aC5yb3VuZCgocG9zaXRpb24gLyBmaWxlRGF0YS5ieXRlTGVuZ3RoKSAqIDEwMCk7CiAgICAgIHBlcmNlbnQudGV4dENvbnRlbnQgPSBgJHtwZXJjZW50RG9uZX0lIGRvbmVgOwoKICAgIH0gd2hpbGUgKHBvc2l0aW9uIDwgZmlsZURhdGEuYnl0ZUxlbmd0aCk7CiAgfQoKICAvLyBBbGwgZG9uZS4KICB5aWVsZCB7CiAgICByZXNwb25zZTogewogICAgICBhY3Rpb246ICdjb21wbGV0ZScsCiAgICB9CiAgfTsKfQoKc2NvcGUuZ29vZ2xlID0gc2NvcGUuZ29vZ2xlIHx8IHt9OwpzY29wZS5nb29nbGUuY29sYWIgPSBzY29wZS5nb29nbGUuY29sYWIgfHwge307CnNjb3BlLmdvb2dsZS5jb2xhYi5fZmlsZXMgPSB7CiAgX3VwbG9hZEZpbGVzLAogIF91cGxvYWRGaWxlc0NvbnRpbnVlLAp9Owp9KShzZWxmKTsK",
       "headers": [
        [
         "content-type",
         "application/javascript"
        ]
       ],
       "ok": true,
       "status": 200,
       "status_text": ""
      }
     }
    },
    "id": "jrjvlFpLD7zL",
    "outputId": "c326ca82-399f-451a-d705-3a8a0c7b81b1"
   },
   "outputs": [
    {
     "data": {
      "text/html": [
       "\n",
       "     <input type=\"file\" id=\"files-ad24974b-0345-4530-8b35-00e604c90d18\" name=\"files[]\" multiple disabled\n",
       "        style=\"border:none\" />\n",
       "     <output id=\"result-ad24974b-0345-4530-8b35-00e604c90d18\">\n",
       "      Upload widget is only available when the cell has been executed in the\n",
       "      current browser session. Please rerun this cell to enable.\n",
       "      </output>\n",
       "      <script src=\"/nbextensions/google.colab/files.js\"></script> "
      ],
      "text/plain": [
       "<IPython.core.display.HTML object>"
      ]
     },
     "metadata": {
      "tags": []
     },
     "output_type": "display_data"
    },
    {
     "name": "stdout",
     "output_type": "stream",
     "text": [
      "Saving All.csv to All.csv\n"
     ]
    }
   ],
   "source": [
    "from google.colab import files\n",
    "up = files.upload()"
   ]
  },
  {
   "cell_type": "code",
   "execution_count": 3,
   "id": "s4ZyNOmIEaNN",
   "metadata": {
    "id": "s4ZyNOmIEaNN"
   },
   "outputs": [],
   "source": [
    "import io"
   ]
  },
  {
   "cell_type": "markdown",
   "id": "a4e754d9",
   "metadata": {
    "id": "a4e754d9"
   },
   "source": [
    "# Data Pre-processing"
   ]
  },
  {
   "cell_type": "code",
   "execution_count": 4,
   "id": "fd51f032",
   "metadata": {
    "colab": {
     "base_uri": "https://localhost:8080/",
     "height": 243
    },
    "id": "fd51f032",
    "outputId": "b3099782-8f97-4c0c-8e6a-b59bbc4af083",
    "scrolled": true
   },
   "outputs": [
    {
     "data": {
      "text/html": [
       "<div>\n",
       "<style scoped>\n",
       "    .dataframe tbody tr th:only-of-type {\n",
       "        vertical-align: middle;\n",
       "    }\n",
       "\n",
       "    .dataframe tbody tr th {\n",
       "        vertical-align: top;\n",
       "    }\n",
       "\n",
       "    .dataframe thead th {\n",
       "        text-align: right;\n",
       "    }\n",
       "</style>\n",
       "<table border=\"1\" class=\"dataframe\">\n",
       "  <thead>\n",
       "    <tr style=\"text-align: right;\">\n",
       "      <th></th>\n",
       "      <th>Querylength</th>\n",
       "      <th>domain_token_count</th>\n",
       "      <th>path_token_count</th>\n",
       "      <th>avgdomaintokenlen</th>\n",
       "      <th>longdomaintokenlen</th>\n",
       "      <th>avgpathtokenlen</th>\n",
       "      <th>tld</th>\n",
       "      <th>charcompvowels</th>\n",
       "      <th>charcompace</th>\n",
       "      <th>ldl_url</th>\n",
       "      <th>ldl_domain</th>\n",
       "      <th>ldl_path</th>\n",
       "      <th>ldl_filename</th>\n",
       "      <th>ldl_getArg</th>\n",
       "      <th>dld_url</th>\n",
       "      <th>dld_domain</th>\n",
       "      <th>dld_path</th>\n",
       "      <th>dld_filename</th>\n",
       "      <th>dld_getArg</th>\n",
       "      <th>urlLen</th>\n",
       "      <th>domainlength</th>\n",
       "      <th>pathLength</th>\n",
       "      <th>subDirLen</th>\n",
       "      <th>fileNameLen</th>\n",
       "      <th>this.fileExtLen</th>\n",
       "      <th>ArgLen</th>\n",
       "      <th>pathurlRatio</th>\n",
       "      <th>ArgUrlRatio</th>\n",
       "      <th>argDomanRatio</th>\n",
       "      <th>domainUrlRatio</th>\n",
       "      <th>pathDomainRatio</th>\n",
       "      <th>argPathRatio</th>\n",
       "      <th>executable</th>\n",
       "      <th>isPortEighty</th>\n",
       "      <th>NumberofDotsinURL</th>\n",
       "      <th>ISIpAddressInDomainName</th>\n",
       "      <th>CharacterContinuityRate</th>\n",
       "      <th>LongestVariableValue</th>\n",
       "      <th>URL_DigitCount</th>\n",
       "      <th>host_DigitCount</th>\n",
       "      <th>Directory_DigitCount</th>\n",
       "      <th>File_name_DigitCount</th>\n",
       "      <th>Extension_DigitCount</th>\n",
       "      <th>Query_DigitCount</th>\n",
       "      <th>URL_Letter_Count</th>\n",
       "      <th>host_letter_count</th>\n",
       "      <th>Directory_LetterCount</th>\n",
       "      <th>Filename_LetterCount</th>\n",
       "      <th>Extension_LetterCount</th>\n",
       "      <th>Query_LetterCount</th>\n",
       "      <th>LongestPathTokenLength</th>\n",
       "      <th>Domain_LongestWordLength</th>\n",
       "      <th>Path_LongestWordLength</th>\n",
       "      <th>sub-Directory_LongestWordLength</th>\n",
       "      <th>Arguments_LongestWordLength</th>\n",
       "      <th>URL_sensitiveWord</th>\n",
       "      <th>URLQueries_variable</th>\n",
       "      <th>spcharUrl</th>\n",
       "      <th>delimeter_Domain</th>\n",
       "      <th>delimeter_path</th>\n",
       "      <th>delimeter_Count</th>\n",
       "      <th>NumberRate_URL</th>\n",
       "      <th>NumberRate_Domain</th>\n",
       "      <th>NumberRate_DirectoryName</th>\n",
       "      <th>NumberRate_FileName</th>\n",
       "      <th>NumberRate_Extension</th>\n",
       "      <th>NumberRate_AfterPath</th>\n",
       "      <th>SymbolCount_URL</th>\n",
       "      <th>SymbolCount_Domain</th>\n",
       "      <th>SymbolCount_Directoryname</th>\n",
       "      <th>SymbolCount_FileName</th>\n",
       "      <th>SymbolCount_Extension</th>\n",
       "      <th>SymbolCount_Afterpath</th>\n",
       "      <th>Entropy_URL</th>\n",
       "      <th>Entropy_Domain</th>\n",
       "      <th>Entropy_DirectoryName</th>\n",
       "      <th>Entropy_Filename</th>\n",
       "      <th>Entropy_Extension</th>\n",
       "      <th>Entropy_Afterpath</th>\n",
       "      <th>URL_Type_obf_Type</th>\n",
       "    </tr>\n",
       "  </thead>\n",
       "  <tbody>\n",
       "    <tr>\n",
       "      <th>0</th>\n",
       "      <td>0</td>\n",
       "      <td>4</td>\n",
       "      <td>5</td>\n",
       "      <td>5.5</td>\n",
       "      <td>14</td>\n",
       "      <td>4.400000</td>\n",
       "      <td>4</td>\n",
       "      <td>8</td>\n",
       "      <td>3</td>\n",
       "      <td>0</td>\n",
       "      <td>0</td>\n",
       "      <td>0</td>\n",
       "      <td>0</td>\n",
       "      <td>0</td>\n",
       "      <td>0</td>\n",
       "      <td>0</td>\n",
       "      <td>0</td>\n",
       "      <td>0</td>\n",
       "      <td>0</td>\n",
       "      <td>58</td>\n",
       "      <td>25</td>\n",
       "      <td>26</td>\n",
       "      <td>26</td>\n",
       "      <td>13</td>\n",
       "      <td>1</td>\n",
       "      <td>2</td>\n",
       "      <td>0.448276</td>\n",
       "      <td>0.034483</td>\n",
       "      <td>0.08</td>\n",
       "      <td>0.431034</td>\n",
       "      <td>1.04</td>\n",
       "      <td>0.076923</td>\n",
       "      <td>0</td>\n",
       "      <td>-1</td>\n",
       "      <td>5</td>\n",
       "      <td>-1</td>\n",
       "      <td>0.6</td>\n",
       "      <td>-1</td>\n",
       "      <td>1</td>\n",
       "      <td>0</td>\n",
       "      <td>0</td>\n",
       "      <td>0</td>\n",
       "      <td>1</td>\n",
       "      <td>-1</td>\n",
       "      <td>47</td>\n",
       "      <td>22</td>\n",
       "      <td>8</td>\n",
       "      <td>13</td>\n",
       "      <td>0</td>\n",
       "      <td>-1</td>\n",
       "      <td>13</td>\n",
       "      <td>14</td>\n",
       "      <td>13</td>\n",
       "      <td>5</td>\n",
       "      <td>-1</td>\n",
       "      <td>0</td>\n",
       "      <td>0</td>\n",
       "      <td>3</td>\n",
       "      <td>0</td>\n",
       "      <td>2</td>\n",
       "      <td>-1</td>\n",
       "      <td>0.017241</td>\n",
       "      <td>0.0</td>\n",
       "      <td>0.0</td>\n",
       "      <td>0.066667</td>\n",
       "      <td>1.0</td>\n",
       "      <td>-1.0</td>\n",
       "      <td>8</td>\n",
       "      <td>3</td>\n",
       "      <td>2</td>\n",
       "      <td>1</td>\n",
       "      <td>0</td>\n",
       "      <td>-1</td>\n",
       "      <td>0.726298</td>\n",
       "      <td>0.784493</td>\n",
       "      <td>0.894886</td>\n",
       "      <td>0.850608</td>\n",
       "      <td>NaN</td>\n",
       "      <td>-1.0</td>\n",
       "      <td>Defacement</td>\n",
       "    </tr>\n",
       "    <tr>\n",
       "      <th>1</th>\n",
       "      <td>0</td>\n",
       "      <td>4</td>\n",
       "      <td>5</td>\n",
       "      <td>5.5</td>\n",
       "      <td>14</td>\n",
       "      <td>6.000000</td>\n",
       "      <td>4</td>\n",
       "      <td>12</td>\n",
       "      <td>4</td>\n",
       "      <td>0</td>\n",
       "      <td>0</td>\n",
       "      <td>0</td>\n",
       "      <td>0</td>\n",
       "      <td>0</td>\n",
       "      <td>0</td>\n",
       "      <td>0</td>\n",
       "      <td>0</td>\n",
       "      <td>0</td>\n",
       "      <td>0</td>\n",
       "      <td>66</td>\n",
       "      <td>25</td>\n",
       "      <td>34</td>\n",
       "      <td>34</td>\n",
       "      <td>2</td>\n",
       "      <td>2</td>\n",
       "      <td>2</td>\n",
       "      <td>0.515151</td>\n",
       "      <td>0.030303</td>\n",
       "      <td>0.08</td>\n",
       "      <td>0.378788</td>\n",
       "      <td>1.36</td>\n",
       "      <td>0.058824</td>\n",
       "      <td>0</td>\n",
       "      <td>-1</td>\n",
       "      <td>4</td>\n",
       "      <td>-1</td>\n",
       "      <td>0.6</td>\n",
       "      <td>-1</td>\n",
       "      <td>0</td>\n",
       "      <td>0</td>\n",
       "      <td>0</td>\n",
       "      <td>0</td>\n",
       "      <td>0</td>\n",
       "      <td>-1</td>\n",
       "      <td>56</td>\n",
       "      <td>22</td>\n",
       "      <td>8</td>\n",
       "      <td>13</td>\n",
       "      <td>9</td>\n",
       "      <td>-1</td>\n",
       "      <td>13</td>\n",
       "      <td>14</td>\n",
       "      <td>13</td>\n",
       "      <td>5</td>\n",
       "      <td>-1</td>\n",
       "      <td>0</td>\n",
       "      <td>0</td>\n",
       "      <td>4</td>\n",
       "      <td>0</td>\n",
       "      <td>1</td>\n",
       "      <td>-1</td>\n",
       "      <td>0.000000</td>\n",
       "      <td>0.0</td>\n",
       "      <td>0.0</td>\n",
       "      <td>0.000000</td>\n",
       "      <td>NaN</td>\n",
       "      <td>-1.0</td>\n",
       "      <td>8</td>\n",
       "      <td>3</td>\n",
       "      <td>3</td>\n",
       "      <td>0</td>\n",
       "      <td>0</td>\n",
       "      <td>-1</td>\n",
       "      <td>0.688635</td>\n",
       "      <td>0.784493</td>\n",
       "      <td>0.814725</td>\n",
       "      <td>0.859793</td>\n",
       "      <td>0.0</td>\n",
       "      <td>-1.0</td>\n",
       "      <td>Defacement</td>\n",
       "    </tr>\n",
       "    <tr>\n",
       "      <th>2</th>\n",
       "      <td>0</td>\n",
       "      <td>4</td>\n",
       "      <td>5</td>\n",
       "      <td>5.5</td>\n",
       "      <td>14</td>\n",
       "      <td>5.800000</td>\n",
       "      <td>4</td>\n",
       "      <td>12</td>\n",
       "      <td>5</td>\n",
       "      <td>0</td>\n",
       "      <td>0</td>\n",
       "      <td>0</td>\n",
       "      <td>0</td>\n",
       "      <td>0</td>\n",
       "      <td>0</td>\n",
       "      <td>0</td>\n",
       "      <td>0</td>\n",
       "      <td>0</td>\n",
       "      <td>0</td>\n",
       "      <td>65</td>\n",
       "      <td>25</td>\n",
       "      <td>33</td>\n",
       "      <td>33</td>\n",
       "      <td>2</td>\n",
       "      <td>2</td>\n",
       "      <td>2</td>\n",
       "      <td>0.507692</td>\n",
       "      <td>0.030769</td>\n",
       "      <td>0.08</td>\n",
       "      <td>0.384615</td>\n",
       "      <td>1.32</td>\n",
       "      <td>0.060606</td>\n",
       "      <td>0</td>\n",
       "      <td>-1</td>\n",
       "      <td>4</td>\n",
       "      <td>-1</td>\n",
       "      <td>0.6</td>\n",
       "      <td>-1</td>\n",
       "      <td>0</td>\n",
       "      <td>0</td>\n",
       "      <td>0</td>\n",
       "      <td>0</td>\n",
       "      <td>0</td>\n",
       "      <td>-1</td>\n",
       "      <td>55</td>\n",
       "      <td>22</td>\n",
       "      <td>8</td>\n",
       "      <td>13</td>\n",
       "      <td>8</td>\n",
       "      <td>-1</td>\n",
       "      <td>13</td>\n",
       "      <td>14</td>\n",
       "      <td>13</td>\n",
       "      <td>5</td>\n",
       "      <td>-1</td>\n",
       "      <td>0</td>\n",
       "      <td>0</td>\n",
       "      <td>4</td>\n",
       "      <td>0</td>\n",
       "      <td>1</td>\n",
       "      <td>-1</td>\n",
       "      <td>0.000000</td>\n",
       "      <td>0.0</td>\n",
       "      <td>0.0</td>\n",
       "      <td>0.000000</td>\n",
       "      <td>NaN</td>\n",
       "      <td>-1.0</td>\n",
       "      <td>8</td>\n",
       "      <td>3</td>\n",
       "      <td>3</td>\n",
       "      <td>0</td>\n",
       "      <td>0</td>\n",
       "      <td>-1</td>\n",
       "      <td>0.695049</td>\n",
       "      <td>0.784493</td>\n",
       "      <td>0.814725</td>\n",
       "      <td>0.801880</td>\n",
       "      <td>0.0</td>\n",
       "      <td>-1.0</td>\n",
       "      <td>Defacement</td>\n",
       "    </tr>\n",
       "    <tr>\n",
       "      <th>3</th>\n",
       "      <td>0</td>\n",
       "      <td>4</td>\n",
       "      <td>12</td>\n",
       "      <td>5.5</td>\n",
       "      <td>14</td>\n",
       "      <td>5.500000</td>\n",
       "      <td>4</td>\n",
       "      <td>32</td>\n",
       "      <td>16</td>\n",
       "      <td>0</td>\n",
       "      <td>0</td>\n",
       "      <td>0</td>\n",
       "      <td>0</td>\n",
       "      <td>0</td>\n",
       "      <td>0</td>\n",
       "      <td>0</td>\n",
       "      <td>0</td>\n",
       "      <td>0</td>\n",
       "      <td>0</td>\n",
       "      <td>109</td>\n",
       "      <td>25</td>\n",
       "      <td>77</td>\n",
       "      <td>77</td>\n",
       "      <td>2</td>\n",
       "      <td>2</td>\n",
       "      <td>2</td>\n",
       "      <td>0.706422</td>\n",
       "      <td>0.018349</td>\n",
       "      <td>0.08</td>\n",
       "      <td>0.229358</td>\n",
       "      <td>3.08</td>\n",
       "      <td>0.025974</td>\n",
       "      <td>0</td>\n",
       "      <td>-1</td>\n",
       "      <td>4</td>\n",
       "      <td>-1</td>\n",
       "      <td>0.6</td>\n",
       "      <td>-1</td>\n",
       "      <td>0</td>\n",
       "      <td>0</td>\n",
       "      <td>0</td>\n",
       "      <td>0</td>\n",
       "      <td>0</td>\n",
       "      <td>-1</td>\n",
       "      <td>92</td>\n",
       "      <td>22</td>\n",
       "      <td>8</td>\n",
       "      <td>13</td>\n",
       "      <td>45</td>\n",
       "      <td>-1</td>\n",
       "      <td>52</td>\n",
       "      <td>14</td>\n",
       "      <td>13</td>\n",
       "      <td>13</td>\n",
       "      <td>-1</td>\n",
       "      <td>0</td>\n",
       "      <td>0</td>\n",
       "      <td>4</td>\n",
       "      <td>0</td>\n",
       "      <td>8</td>\n",
       "      <td>-1</td>\n",
       "      <td>0.000000</td>\n",
       "      <td>0.0</td>\n",
       "      <td>0.0</td>\n",
       "      <td>0.000000</td>\n",
       "      <td>NaN</td>\n",
       "      <td>-1.0</td>\n",
       "      <td>8</td>\n",
       "      <td>3</td>\n",
       "      <td>3</td>\n",
       "      <td>0</td>\n",
       "      <td>0</td>\n",
       "      <td>-1</td>\n",
       "      <td>0.640130</td>\n",
       "      <td>0.784493</td>\n",
       "      <td>0.814725</td>\n",
       "      <td>0.663210</td>\n",
       "      <td>0.0</td>\n",
       "      <td>-1.0</td>\n",
       "      <td>Defacement</td>\n",
       "    </tr>\n",
       "    <tr>\n",
       "      <th>4</th>\n",
       "      <td>0</td>\n",
       "      <td>4</td>\n",
       "      <td>6</td>\n",
       "      <td>5.5</td>\n",
       "      <td>14</td>\n",
       "      <td>7.333334</td>\n",
       "      <td>4</td>\n",
       "      <td>18</td>\n",
       "      <td>11</td>\n",
       "      <td>0</td>\n",
       "      <td>0</td>\n",
       "      <td>0</td>\n",
       "      <td>0</td>\n",
       "      <td>0</td>\n",
       "      <td>0</td>\n",
       "      <td>0</td>\n",
       "      <td>0</td>\n",
       "      <td>0</td>\n",
       "      <td>0</td>\n",
       "      <td>81</td>\n",
       "      <td>25</td>\n",
       "      <td>49</td>\n",
       "      <td>49</td>\n",
       "      <td>2</td>\n",
       "      <td>2</td>\n",
       "      <td>2</td>\n",
       "      <td>0.604938</td>\n",
       "      <td>0.024691</td>\n",
       "      <td>0.08</td>\n",
       "      <td>0.308642</td>\n",
       "      <td>1.96</td>\n",
       "      <td>0.040816</td>\n",
       "      <td>0</td>\n",
       "      <td>-1</td>\n",
       "      <td>4</td>\n",
       "      <td>-1</td>\n",
       "      <td>0.6</td>\n",
       "      <td>-1</td>\n",
       "      <td>0</td>\n",
       "      <td>0</td>\n",
       "      <td>0</td>\n",
       "      <td>0</td>\n",
       "      <td>0</td>\n",
       "      <td>-1</td>\n",
       "      <td>70</td>\n",
       "      <td>22</td>\n",
       "      <td>8</td>\n",
       "      <td>13</td>\n",
       "      <td>23</td>\n",
       "      <td>-1</td>\n",
       "      <td>24</td>\n",
       "      <td>14</td>\n",
       "      <td>13</td>\n",
       "      <td>13</td>\n",
       "      <td>-1</td>\n",
       "      <td>0</td>\n",
       "      <td>0</td>\n",
       "      <td>4</td>\n",
       "      <td>0</td>\n",
       "      <td>2</td>\n",
       "      <td>-1</td>\n",
       "      <td>0.000000</td>\n",
       "      <td>0.0</td>\n",
       "      <td>0.0</td>\n",
       "      <td>0.000000</td>\n",
       "      <td>NaN</td>\n",
       "      <td>-1.0</td>\n",
       "      <td>8</td>\n",
       "      <td>3</td>\n",
       "      <td>3</td>\n",
       "      <td>0</td>\n",
       "      <td>0</td>\n",
       "      <td>-1</td>\n",
       "      <td>0.681307</td>\n",
       "      <td>0.784493</td>\n",
       "      <td>0.814725</td>\n",
       "      <td>0.804526</td>\n",
       "      <td>0.0</td>\n",
       "      <td>-1.0</td>\n",
       "      <td>Defacement</td>\n",
       "    </tr>\n",
       "  </tbody>\n",
       "</table>\n",
       "</div>"
      ],
      "text/plain": [
       "   Querylength  domain_token_count  ...  Entropy_Afterpath  URL_Type_obf_Type\n",
       "0            0                   4  ...               -1.0         Defacement\n",
       "1            0                   4  ...               -1.0         Defacement\n",
       "2            0                   4  ...               -1.0         Defacement\n",
       "3            0                   4  ...               -1.0         Defacement\n",
       "4            0                   4  ...               -1.0         Defacement\n",
       "\n",
       "[5 rows x 80 columns]"
      ]
     },
     "execution_count": 4,
     "metadata": {
      "tags": []
     },
     "output_type": "execute_result"
    }
   ],
   "source": [
    "dataset = pd.read_csv(io.BytesIO(up['All.csv']))\n",
    "dataset.head()"
   ]
  },
  {
   "cell_type": "code",
   "execution_count": 5,
   "id": "2549243d",
   "metadata": {
    "colab": {
     "base_uri": "https://localhost:8080/",
     "height": 283
    },
    "id": "2549243d",
    "outputId": "b8f5ba0a-1a94-40f0-aed0-bb6d70867b96"
   },
   "outputs": [
    {
     "data": {
      "text/plain": [
       "<matplotlib.axes._subplots.AxesSubplot at 0x7f052e821fd0>"
      ]
     },
     "execution_count": 5,
     "metadata": {
      "tags": []
     },
     "output_type": "execute_result"
    },
    {
     "data": {
      "image/png": "[encoded data removed]",
      "text/plain": [
       "<Figure size 432x288 with 1 Axes>"
      ]
     },
     "metadata": {
      "needs_background": "light",
      "tags": []
     },
     "output_type": "display_data"
    }
   ],
   "source": [
    "dataset['URL_Type_obf_Type'].value_counts().plot(kind = 'barh')"
   ]
  },
  {
   "cell_type": "code",
   "execution_count": 6,
   "id": "67a99204",
   "metadata": {
    "colab": {
     "base_uri": "https://localhost:8080/"
    },
    "id": "67a99204",
    "outputId": "f598aa6d-3c82-42d5-b5c3-731db151e557"
   },
   "outputs": [
    {
     "name": "stdout",
     "output_type": "stream",
     "text": [
      "Querylength                       0\n",
      "domain_token_count                4\n",
      "path_token_count                  5\n",
      "avgdomaintokenlen               5.5\n",
      "longdomaintokenlen               14\n",
      "                            ...    \n",
      "Entropy_DirectoryName      0.894886\n",
      "Entropy_Filename           0.850608\n",
      "Entropy_Extension               NaN\n",
      "Entropy_Afterpath                -1\n",
      "URL_Type_obf_Type        Defacement\n",
      "Name: 0, Length: 80, dtype: object\n"
     ]
    }
   ],
   "source": [
    "print(dataset.iloc[0])"
   ]
  },
  {
   "cell_type": "code",
   "execution_count": 7,
   "id": "37e2ec65",
   "metadata": {
    "colab": {
     "base_uri": "https://localhost:8080/"
    },
    "id": "37e2ec65",
    "outputId": "fe157e27-2b75-4a25-e8ad-8667a59c8bb7",
    "scrolled": true
   },
   "outputs": [
    {
     "name": "stdout",
     "output_type": "stream",
     "text": [
      "Defacement    7930\n",
      "benign        7781\n",
      "phishing      7586\n",
      "malware       6712\n",
      "spam          6698\n",
      "Name: URL_Type_obf_Type, dtype: int64\n"
     ]
    }
   ],
   "source": [
    "lb = 'URL_Type_obf_Type'\n",
    "print(dataset[lb].value_counts())"
   ]
  },
  {
   "cell_type": "code",
   "execution_count": 8,
   "id": "19912bbb",
   "metadata": {
    "colab": {
     "base_uri": "https://localhost:8080/",
     "height": 243
    },
    "id": "19912bbb",
    "outputId": "40a6b910-9aeb-41a9-8228-4241cfabfc26"
   },
   "outputs": [
    {
     "data": {
      "text/html": [
       "<div>\n",
       "<style scoped>\n",
       "    .dataframe tbody tr th:only-of-type {\n",
       "        vertical-align: middle;\n",
       "    }\n",
       "\n",
       "    .dataframe tbody tr th {\n",
       "        vertical-align: top;\n",
       "    }\n",
       "\n",
       "    .dataframe thead th {\n",
       "        text-align: right;\n",
       "    }\n",
       "</style>\n",
       "<table border=\"1\" class=\"dataframe\">\n",
       "  <thead>\n",
       "    <tr style=\"text-align: right;\">\n",
       "      <th></th>\n",
       "      <th>Querylength</th>\n",
       "      <th>domain_token_count</th>\n",
       "      <th>path_token_count</th>\n",
       "      <th>avgdomaintokenlen</th>\n",
       "      <th>longdomaintokenlen</th>\n",
       "      <th>tld</th>\n",
       "      <th>charcompvowels</th>\n",
       "      <th>charcompace</th>\n",
       "      <th>ldl_url</th>\n",
       "      <th>ldl_domain</th>\n",
       "      <th>ldl_path</th>\n",
       "      <th>ldl_filename</th>\n",
       "      <th>ldl_getArg</th>\n",
       "      <th>dld_url</th>\n",
       "      <th>dld_domain</th>\n",
       "      <th>dld_path</th>\n",
       "      <th>dld_filename</th>\n",
       "      <th>dld_getArg</th>\n",
       "      <th>urlLen</th>\n",
       "      <th>domainlength</th>\n",
       "      <th>pathLength</th>\n",
       "      <th>subDirLen</th>\n",
       "      <th>fileNameLen</th>\n",
       "      <th>this.fileExtLen</th>\n",
       "      <th>ArgLen</th>\n",
       "      <th>pathurlRatio</th>\n",
       "      <th>ArgUrlRatio</th>\n",
       "      <th>argDomanRatio</th>\n",
       "      <th>domainUrlRatio</th>\n",
       "      <th>pathDomainRatio</th>\n",
       "      <th>argPathRatio</th>\n",
       "      <th>executable</th>\n",
       "      <th>isPortEighty</th>\n",
       "      <th>NumberofDotsinURL</th>\n",
       "      <th>ISIpAddressInDomainName</th>\n",
       "      <th>CharacterContinuityRate</th>\n",
       "      <th>LongestVariableValue</th>\n",
       "      <th>URL_DigitCount</th>\n",
       "      <th>host_DigitCount</th>\n",
       "      <th>Directory_DigitCount</th>\n",
       "      <th>File_name_DigitCount</th>\n",
       "      <th>Extension_DigitCount</th>\n",
       "      <th>Query_DigitCount</th>\n",
       "      <th>URL_Letter_Count</th>\n",
       "      <th>host_letter_count</th>\n",
       "      <th>Directory_LetterCount</th>\n",
       "      <th>Filename_LetterCount</th>\n",
       "      <th>Extension_LetterCount</th>\n",
       "      <th>Query_LetterCount</th>\n",
       "      <th>LongestPathTokenLength</th>\n",
       "      <th>Domain_LongestWordLength</th>\n",
       "      <th>Path_LongestWordLength</th>\n",
       "      <th>sub-Directory_LongestWordLength</th>\n",
       "      <th>Arguments_LongestWordLength</th>\n",
       "      <th>URL_sensitiveWord</th>\n",
       "      <th>URLQueries_variable</th>\n",
       "      <th>spcharUrl</th>\n",
       "      <th>delimeter_Domain</th>\n",
       "      <th>delimeter_path</th>\n",
       "      <th>delimeter_Count</th>\n",
       "      <th>NumberRate_URL</th>\n",
       "      <th>NumberRate_Domain</th>\n",
       "      <th>SymbolCount_URL</th>\n",
       "      <th>SymbolCount_Domain</th>\n",
       "      <th>SymbolCount_Directoryname</th>\n",
       "      <th>SymbolCount_FileName</th>\n",
       "      <th>SymbolCount_Extension</th>\n",
       "      <th>SymbolCount_Afterpath</th>\n",
       "      <th>Entropy_URL</th>\n",
       "      <th>Entropy_Domain</th>\n",
       "      <th>URL_Type_obf_Type</th>\n",
       "    </tr>\n",
       "  </thead>\n",
       "  <tbody>\n",
       "    <tr>\n",
       "      <th>0</th>\n",
       "      <td>0</td>\n",
       "      <td>4</td>\n",
       "      <td>5</td>\n",
       "      <td>5.5</td>\n",
       "      <td>14</td>\n",
       "      <td>4</td>\n",
       "      <td>8</td>\n",
       "      <td>3</td>\n",
       "      <td>0</td>\n",
       "      <td>0</td>\n",
       "      <td>0</td>\n",
       "      <td>0</td>\n",
       "      <td>0</td>\n",
       "      <td>0</td>\n",
       "      <td>0</td>\n",
       "      <td>0</td>\n",
       "      <td>0</td>\n",
       "      <td>0</td>\n",
       "      <td>58</td>\n",
       "      <td>25</td>\n",
       "      <td>26</td>\n",
       "      <td>26</td>\n",
       "      <td>13</td>\n",
       "      <td>1</td>\n",
       "      <td>2</td>\n",
       "      <td>0.448276</td>\n",
       "      <td>0.034483</td>\n",
       "      <td>0.08</td>\n",
       "      <td>0.431034</td>\n",
       "      <td>1.04</td>\n",
       "      <td>0.076923</td>\n",
       "      <td>0</td>\n",
       "      <td>-1</td>\n",
       "      <td>5</td>\n",
       "      <td>-1</td>\n",
       "      <td>0.6</td>\n",
       "      <td>-1</td>\n",
       "      <td>1</td>\n",
       "      <td>0</td>\n",
       "      <td>0</td>\n",
       "      <td>0</td>\n",
       "      <td>1</td>\n",
       "      <td>-1</td>\n",
       "      <td>47</td>\n",
       "      <td>22</td>\n",
       "      <td>8</td>\n",
       "      <td>13</td>\n",
       "      <td>0</td>\n",
       "      <td>-1</td>\n",
       "      <td>13</td>\n",
       "      <td>14</td>\n",
       "      <td>13</td>\n",
       "      <td>5</td>\n",
       "      <td>-1</td>\n",
       "      <td>0</td>\n",
       "      <td>0</td>\n",
       "      <td>3</td>\n",
       "      <td>0</td>\n",
       "      <td>2</td>\n",
       "      <td>-1</td>\n",
       "      <td>0.017241</td>\n",
       "      <td>0.0</td>\n",
       "      <td>8</td>\n",
       "      <td>3</td>\n",
       "      <td>2</td>\n",
       "      <td>1</td>\n",
       "      <td>0</td>\n",
       "      <td>-1</td>\n",
       "      <td>0.726298</td>\n",
       "      <td>0.784493</td>\n",
       "      <td>Defacement</td>\n",
       "    </tr>\n",
       "    <tr>\n",
       "      <th>1</th>\n",
       "      <td>0</td>\n",
       "      <td>4</td>\n",
       "      <td>5</td>\n",
       "      <td>5.5</td>\n",
       "      <td>14</td>\n",
       "      <td>4</td>\n",
       "      <td>12</td>\n",
       "      <td>4</td>\n",
       "      <td>0</td>\n",
       "      <td>0</td>\n",
       "      <td>0</td>\n",
       "      <td>0</td>\n",
       "      <td>0</td>\n",
       "      <td>0</td>\n",
       "      <td>0</td>\n",
       "      <td>0</td>\n",
       "      <td>0</td>\n",
       "      <td>0</td>\n",
       "      <td>66</td>\n",
       "      <td>25</td>\n",
       "      <td>34</td>\n",
       "      <td>34</td>\n",
       "      <td>2</td>\n",
       "      <td>2</td>\n",
       "      <td>2</td>\n",
       "      <td>0.515151</td>\n",
       "      <td>0.030303</td>\n",
       "      <td>0.08</td>\n",
       "      <td>0.378788</td>\n",
       "      <td>1.36</td>\n",
       "      <td>0.058824</td>\n",
       "      <td>0</td>\n",
       "      <td>-1</td>\n",
       "      <td>4</td>\n",
       "      <td>-1</td>\n",
       "      <td>0.6</td>\n",
       "      <td>-1</td>\n",
       "      <td>0</td>\n",
       "      <td>0</td>\n",
       "      <td>0</td>\n",
       "      <td>0</td>\n",
       "      <td>0</td>\n",
       "      <td>-1</td>\n",
       "      <td>56</td>\n",
       "      <td>22</td>\n",
       "      <td>8</td>\n",
       "      <td>13</td>\n",
       "      <td>9</td>\n",
       "      <td>-1</td>\n",
       "      <td>13</td>\n",
       "      <td>14</td>\n",
       "      <td>13</td>\n",
       "      <td>5</td>\n",
       "      <td>-1</td>\n",
       "      <td>0</td>\n",
       "      <td>0</td>\n",
       "      <td>4</td>\n",
       "      <td>0</td>\n",
       "      <td>1</td>\n",
       "      <td>-1</td>\n",
       "      <td>0.000000</td>\n",
       "      <td>0.0</td>\n",
       "      <td>8</td>\n",
       "      <td>3</td>\n",
       "      <td>3</td>\n",
       "      <td>0</td>\n",
       "      <td>0</td>\n",
       "      <td>-1</td>\n",
       "      <td>0.688635</td>\n",
       "      <td>0.784493</td>\n",
       "      <td>Defacement</td>\n",
       "    </tr>\n",
       "    <tr>\n",
       "      <th>2</th>\n",
       "      <td>0</td>\n",
       "      <td>4</td>\n",
       "      <td>5</td>\n",
       "      <td>5.5</td>\n",
       "      <td>14</td>\n",
       "      <td>4</td>\n",
       "      <td>12</td>\n",
       "      <td>5</td>\n",
       "      <td>0</td>\n",
       "      <td>0</td>\n",
       "      <td>0</td>\n",
       "      <td>0</td>\n",
       "      <td>0</td>\n",
       "      <td>0</td>\n",
       "      <td>0</td>\n",
       "      <td>0</td>\n",
       "      <td>0</td>\n",
       "      <td>0</td>\n",
       "      <td>65</td>\n",
       "      <td>25</td>\n",
       "      <td>33</td>\n",
       "      <td>33</td>\n",
       "      <td>2</td>\n",
       "      <td>2</td>\n",
       "      <td>2</td>\n",
       "      <td>0.507692</td>\n",
       "      <td>0.030769</td>\n",
       "      <td>0.08</td>\n",
       "      <td>0.384615</td>\n",
       "      <td>1.32</td>\n",
       "      <td>0.060606</td>\n",
       "      <td>0</td>\n",
       "      <td>-1</td>\n",
       "      <td>4</td>\n",
       "      <td>-1</td>\n",
       "      <td>0.6</td>\n",
       "      <td>-1</td>\n",
       "      <td>0</td>\n",
       "      <td>0</td>\n",
       "      <td>0</td>\n",
       "      <td>0</td>\n",
       "      <td>0</td>\n",
       "      <td>-1</td>\n",
       "      <td>55</td>\n",
       "      <td>22</td>\n",
       "      <td>8</td>\n",
       "      <td>13</td>\n",
       "      <td>8</td>\n",
       "      <td>-1</td>\n",
       "      <td>13</td>\n",
       "      <td>14</td>\n",
       "      <td>13</td>\n",
       "      <td>5</td>\n",
       "      <td>-1</td>\n",
       "      <td>0</td>\n",
       "      <td>0</td>\n",
       "      <td>4</td>\n",
       "      <td>0</td>\n",
       "      <td>1</td>\n",
       "      <td>-1</td>\n",
       "      <td>0.000000</td>\n",
       "      <td>0.0</td>\n",
       "      <td>8</td>\n",
       "      <td>3</td>\n",
       "      <td>3</td>\n",
       "      <td>0</td>\n",
       "      <td>0</td>\n",
       "      <td>-1</td>\n",
       "      <td>0.695049</td>\n",
       "      <td>0.784493</td>\n",
       "      <td>Defacement</td>\n",
       "    </tr>\n",
       "    <tr>\n",
       "      <th>3</th>\n",
       "      <td>0</td>\n",
       "      <td>4</td>\n",
       "      <td>12</td>\n",
       "      <td>5.5</td>\n",
       "      <td>14</td>\n",
       "      <td>4</td>\n",
       "      <td>32</td>\n",
       "      <td>16</td>\n",
       "      <td>0</td>\n",
       "      <td>0</td>\n",
       "      <td>0</td>\n",
       "      <td>0</td>\n",
       "      <td>0</td>\n",
       "      <td>0</td>\n",
       "      <td>0</td>\n",
       "      <td>0</td>\n",
       "      <td>0</td>\n",
       "      <td>0</td>\n",
       "      <td>109</td>\n",
       "      <td>25</td>\n",
       "      <td>77</td>\n",
       "      <td>77</td>\n",
       "      <td>2</td>\n",
       "      <td>2</td>\n",
       "      <td>2</td>\n",
       "      <td>0.706422</td>\n",
       "      <td>0.018349</td>\n",
       "      <td>0.08</td>\n",
       "      <td>0.229358</td>\n",
       "      <td>3.08</td>\n",
       "      <td>0.025974</td>\n",
       "      <td>0</td>\n",
       "      <td>-1</td>\n",
       "      <td>4</td>\n",
       "      <td>-1</td>\n",
       "      <td>0.6</td>\n",
       "      <td>-1</td>\n",
       "      <td>0</td>\n",
       "      <td>0</td>\n",
       "      <td>0</td>\n",
       "      <td>0</td>\n",
       "      <td>0</td>\n",
       "      <td>-1</td>\n",
       "      <td>92</td>\n",
       "      <td>22</td>\n",
       "      <td>8</td>\n",
       "      <td>13</td>\n",
       "      <td>45</td>\n",
       "      <td>-1</td>\n",
       "      <td>52</td>\n",
       "      <td>14</td>\n",
       "      <td>13</td>\n",
       "      <td>13</td>\n",
       "      <td>-1</td>\n",
       "      <td>0</td>\n",
       "      <td>0</td>\n",
       "      <td>4</td>\n",
       "      <td>0</td>\n",
       "      <td>8</td>\n",
       "      <td>-1</td>\n",
       "      <td>0.000000</td>\n",
       "      <td>0.0</td>\n",
       "      <td>8</td>\n",
       "      <td>3</td>\n",
       "      <td>3</td>\n",
       "      <td>0</td>\n",
       "      <td>0</td>\n",
       "      <td>-1</td>\n",
       "      <td>0.640130</td>\n",
       "      <td>0.784493</td>\n",
       "      <td>Defacement</td>\n",
       "    </tr>\n",
       "    <tr>\n",
       "      <th>4</th>\n",
       "      <td>0</td>\n",
       "      <td>4</td>\n",
       "      <td>6</td>\n",
       "      <td>5.5</td>\n",
       "      <td>14</td>\n",
       "      <td>4</td>\n",
       "      <td>18</td>\n",
       "      <td>11</td>\n",
       "      <td>0</td>\n",
       "      <td>0</td>\n",
       "      <td>0</td>\n",
       "      <td>0</td>\n",
       "      <td>0</td>\n",
       "      <td>0</td>\n",
       "      <td>0</td>\n",
       "      <td>0</td>\n",
       "      <td>0</td>\n",
       "      <td>0</td>\n",
       "      <td>81</td>\n",
       "      <td>25</td>\n",
       "      <td>49</td>\n",
       "      <td>49</td>\n",
       "      <td>2</td>\n",
       "      <td>2</td>\n",
       "      <td>2</td>\n",
       "      <td>0.604938</td>\n",
       "      <td>0.024691</td>\n",
       "      <td>0.08</td>\n",
       "      <td>0.308642</td>\n",
       "      <td>1.96</td>\n",
       "      <td>0.040816</td>\n",
       "      <td>0</td>\n",
       "      <td>-1</td>\n",
       "      <td>4</td>\n",
       "      <td>-1</td>\n",
       "      <td>0.6</td>\n",
       "      <td>-1</td>\n",
       "      <td>0</td>\n",
       "      <td>0</td>\n",
       "      <td>0</td>\n",
       "      <td>0</td>\n",
       "      <td>0</td>\n",
       "      <td>-1</td>\n",
       "      <td>70</td>\n",
       "      <td>22</td>\n",
       "      <td>8</td>\n",
       "      <td>13</td>\n",
       "      <td>23</td>\n",
       "      <td>-1</td>\n",
       "      <td>24</td>\n",
       "      <td>14</td>\n",
       "      <td>13</td>\n",
       "      <td>13</td>\n",
       "      <td>-1</td>\n",
       "      <td>0</td>\n",
       "      <td>0</td>\n",
       "      <td>4</td>\n",
       "      <td>0</td>\n",
       "      <td>2</td>\n",
       "      <td>-1</td>\n",
       "      <td>0.000000</td>\n",
       "      <td>0.0</td>\n",
       "      <td>8</td>\n",
       "      <td>3</td>\n",
       "      <td>3</td>\n",
       "      <td>0</td>\n",
       "      <td>0</td>\n",
       "      <td>-1</td>\n",
       "      <td>0.681307</td>\n",
       "      <td>0.784493</td>\n",
       "      <td>Defacement</td>\n",
       "    </tr>\n",
       "  </tbody>\n",
       "</table>\n",
       "</div>"
      ],
      "text/plain": [
       "   Querylength  domain_token_count  ...  Entropy_Domain  URL_Type_obf_Type\n",
       "0            0                   4  ...        0.784493         Defacement\n",
       "1            0                   4  ...        0.784493         Defacement\n",
       "2            0                   4  ...        0.784493         Defacement\n",
       "3            0                   4  ...        0.784493         Defacement\n",
       "4            0                   4  ...        0.784493         Defacement\n",
       "\n",
       "[5 rows x 71 columns]"
      ]
     },
     "execution_count": 8,
     "metadata": {
      "tags": []
     },
     "output_type": "execute_result"
    }
   ],
   "source": [
    "# drop all cols containing 'NaN' value and rows with 'infinity'\n",
    "dataset = dataset.dropna(axis=1)\n",
    "dataset = dataset.replace(np.Infinity, np.nan).dropna(axis=0)\n",
    "dataset.head()"
   ]
  },
  {
   "cell_type": "code",
   "execution_count": 9,
   "id": "ad7babd0",
   "metadata": {
    "colab": {
     "base_uri": "https://localhost:8080/",
     "height": 283
    },
    "id": "ad7babd0",
    "outputId": "d7b8437e-f357-48b0-daa2-df20f06d8adc"
   },
   "outputs": [
    {
     "data": {
      "text/plain": [
       "<matplotlib.axes._subplots.AxesSubplot at 0x7f052e000b50>"
      ]
     },
     "execution_count": 9,
     "metadata": {
      "tags": []
     },
     "output_type": "execute_result"
    },
    {
     "data": {
      "image/png": "[encoded data removed]",
      "text/plain": [
       "<Figure size 432x288 with 1 Axes>"
      ]
     },
     "metadata": {
      "needs_background": "light",
      "tags": []
     },
     "output_type": "display_data"
    }
   ],
   "source": [
    "dataset['URL_Type_obf_Type'].value_counts().plot(kind = 'barh')"
   ]
  },
  {
   "cell_type": "code",
   "execution_count": 10,
   "id": "61a1afcc",
   "metadata": {
    "colab": {
     "base_uri": "https://localhost:8080/"
    },
    "id": "61a1afcc",
    "outputId": "a7cf4e94-72f4-4c80-e277-9b300f58d24c"
   },
   "outputs": [
    {
     "data": {
      "text/plain": [
       "(36697, 71)"
      ]
     },
     "execution_count": 10,
     "metadata": {
      "tags": []
     },
     "output_type": "execute_result"
    }
   ],
   "source": [
    "dataset.shape"
   ]
  },
  {
   "cell_type": "code",
   "execution_count": 11,
   "id": "fd0860bc",
   "metadata": {
    "colab": {
     "base_uri": "https://localhost:8080/"
    },
    "id": "fd0860bc",
    "outputId": "b31c7231-1acc-4d12-8e3c-4c95eaf71d69"
   },
   "outputs": [
    {
     "name": "stdout",
     "output_type": "stream",
     "text": [
      "Defacement    7930\n",
      "benign        7781\n",
      "phishing      7577\n",
      "malware       6711\n",
      "spam          6698\n",
      "Name: URL_Type_obf_Type, dtype: int64\n"
     ]
    }
   ],
   "source": [
    "print(dataset[lb].value_counts())"
   ]
  },
  {
   "cell_type": "code",
   "execution_count": 12,
   "id": "7473f6fa",
   "metadata": {
    "id": "7473f6fa"
   },
   "outputs": [],
   "source": [
    "#Normalize features and split labels column\n",
    "scaler = MinMaxScaler()\n",
    "features = pd.DataFrame(scaler.fit_transform(dataset.loc[:, dataset.columns != lb]), columns=dataset.columns[:-1] )\n",
    "labels = dataset[lb]"
   ]
  },
  {
   "cell_type": "code",
   "execution_count": 13,
   "id": "e7b92fd7",
   "metadata": {
    "colab": {
     "base_uri": "https://localhost:8080/"
    },
    "id": "e7b92fd7",
    "outputId": "a690509b-e7fb-4b93-ceaa-21d8f722cf20"
   },
   "outputs": [
    {
     "name": "stdout",
     "output_type": "stream",
     "text": [
      "   Querylength  domain_token_count  ...  Entropy_URL  Entropy_Domain\n",
      "0          0.0            0.117647  ...     0.644621        0.508074\n",
      "1          0.0            0.117647  ...     0.565470        0.508074\n",
      "2          0.0            0.117647  ...     0.578950        0.508074\n",
      "3          0.0            0.117647  ...     0.463537        0.508074\n",
      "4          0.0            0.117647  ...     0.550071        0.508074\n",
      "\n",
      "[5 rows x 70 columns]\n"
     ]
    }
   ],
   "source": [
    "print(features.head())"
   ]
  },
  {
   "cell_type": "code",
   "execution_count": 14,
   "id": "dbb752c6",
   "metadata": {
    "colab": {
     "base_uri": "https://localhost:8080/"
    },
    "id": "dbb752c6",
    "outputId": "55e5b98c-2eb7-49e4-eb90-11f6795e6699"
   },
   "outputs": [
    {
     "name": "stdout",
     "output_type": "stream",
     "text": [
      "Defacement    7930\n",
      "benign        7781\n",
      "phishing      7577\n",
      "malware       6711\n",
      "spam          6698\n",
      "Name: URL_Type_obf_Type, dtype: int64\n"
     ]
    }
   ],
   "source": [
    "print(labels.value_counts())"
   ]
  },
  {
   "cell_type": "markdown",
   "id": "ec779002",
   "metadata": {
    "id": "ec779002"
   },
   "source": [
    "## Chi-score of features "
   ]
  },
  {
   "cell_type": "code",
   "execution_count": 15,
   "id": "ca7da5aa",
   "metadata": {
    "colab": {
     "base_uri": "https://localhost:8080/"
    },
    "id": "ca7da5aa",
    "outputId": "899fbd97-ff8d-4ffd-9de2-03e2aed192f9"
   },
   "outputs": [
    {
     "name": "stdout",
     "output_type": "stream",
     "text": [
      "Values in order of descending 64-values (higher=more significant)\n",
      "Index(['Entropy_URL', 'Path_LongestWordLength', 'isPortEighty', 'dld_domain',\n",
      "       'ldl_domain', 'dld_filename', 'Filename_LetterCount',\n",
      "       'File_name_DigitCount', 'sub-Directory_LongestWordLength',\n",
      "       'ldl_filename', 'host_letter_count', 'path_token_count', 'domainlength',\n",
      "       'this.fileExtLen', 'URL_sensitiveWord', 'Directory_DigitCount',\n",
      "       'Entropy_Domain', 'avgdomaintokenlen', 'charcompvowels',\n",
      "       'Domain_LongestWordLength', 'executable', 'longdomaintokenlen',\n",
      "       'host_DigitCount', 'URL_Letter_Count', 'charcompace', 'urlLen',\n",
      "       'pathurlRatio', 'pathDomainRatio', 'pathLength', 'subDirLen',\n",
      "       'fileNameLen', 'delimeter_Domain', 'Directory_LetterCount',\n",
      "       'CharacterContinuityRate', 'NumberRate_URL', 'spcharUrl',\n",
      "       'delimeter_path', 'LongestPathTokenLength', 'NumberofDotsinURL',\n",
      "       'Extension_LetterCount', 'SymbolCount_URL', 'SymbolCount_Directoryname',\n",
      "       'domain_token_count', 'tld', 'SymbolCount_Domain', 'URL_DigitCount',\n",
      "       'domainUrlRatio', 'Arguments_LongestWordLength', 'argDomanRatio',\n",
      "       'dld_url', 'ArgLen', 'Query_LetterCount', 'Querylength', 'ldl_url',\n",
      "       'ldl_path', 'dld_path', 'LongestVariableValue', 'SymbolCount_FileName',\n",
      "       'Extension_DigitCount', 'Query_DigitCount', 'SymbolCount_Extension',\n",
      "       'SymbolCount_Afterpath', 'ldl_getArg', 'dld_getArg'],\n",
      "      dtype='object')\n"
     ]
    }
   ],
   "source": [
    "chi_score = chi2(features, labels)\n",
    "p_values = pd.Series(chi_score[1],index = features.columns)\n",
    "p_values.sort_values(ascending = False , inplace = True)\n",
    "#p_values.plot.bar()\n",
    "print('Values in order of descending 64-values (higher=more significant)')\n",
    "print(p_values.index[:64])"
   ]
  },
  {
   "cell_type": "markdown",
   "id": "4a0f5d82",
   "metadata": {
    "id": "4a0f5d82"
   },
   "source": [
    "## Dataset with 64th first rank features in chi-score"
   ]
  },
  {
   "cell_type": "code",
   "execution_count": 16,
   "id": "d66d5703",
   "metadata": {
    "colab": {
     "base_uri": "https://localhost:8080/",
     "height": 243
    },
    "id": "d66d5703",
    "outputId": "9e2d6513-db35-48d2-8a60-7f0d355b51f0",
    "scrolled": true
   },
   "outputs": [
    {
     "data": {
      "text/html": [
       "<div>\n",
       "<style scoped>\n",
       "    .dataframe tbody tr th:only-of-type {\n",
       "        vertical-align: middle;\n",
       "    }\n",
       "\n",
       "    .dataframe tbody tr th {\n",
       "        vertical-align: top;\n",
       "    }\n",
       "\n",
       "    .dataframe thead th {\n",
       "        text-align: right;\n",
       "    }\n",
       "</style>\n",
       "<table border=\"1\" class=\"dataframe\">\n",
       "  <thead>\n",
       "    <tr style=\"text-align: right;\">\n",
       "      <th></th>\n",
       "      <th>Entropy_URL</th>\n",
       "      <th>Path_LongestWordLength</th>\n",
       "      <th>isPortEighty</th>\n",
       "      <th>dld_domain</th>\n",
       "      <th>ldl_domain</th>\n",
       "      <th>dld_filename</th>\n",
       "      <th>Filename_LetterCount</th>\n",
       "      <th>File_name_DigitCount</th>\n",
       "      <th>sub-Directory_LongestWordLength</th>\n",
       "      <th>ldl_filename</th>\n",
       "      <th>host_letter_count</th>\n",
       "      <th>path_token_count</th>\n",
       "      <th>domainlength</th>\n",
       "      <th>this.fileExtLen</th>\n",
       "      <th>URL_sensitiveWord</th>\n",
       "      <th>Directory_DigitCount</th>\n",
       "      <th>Entropy_Domain</th>\n",
       "      <th>avgdomaintokenlen</th>\n",
       "      <th>charcompvowels</th>\n",
       "      <th>Domain_LongestWordLength</th>\n",
       "      <th>executable</th>\n",
       "      <th>longdomaintokenlen</th>\n",
       "      <th>host_DigitCount</th>\n",
       "      <th>URL_Letter_Count</th>\n",
       "      <th>charcompace</th>\n",
       "      <th>urlLen</th>\n",
       "      <th>pathurlRatio</th>\n",
       "      <th>pathDomainRatio</th>\n",
       "      <th>pathLength</th>\n",
       "      <th>subDirLen</th>\n",
       "      <th>fileNameLen</th>\n",
       "      <th>delimeter_Domain</th>\n",
       "      <th>Directory_LetterCount</th>\n",
       "      <th>CharacterContinuityRate</th>\n",
       "      <th>NumberRate_URL</th>\n",
       "      <th>spcharUrl</th>\n",
       "      <th>delimeter_path</th>\n",
       "      <th>LongestPathTokenLength</th>\n",
       "      <th>NumberofDotsinURL</th>\n",
       "      <th>Extension_LetterCount</th>\n",
       "      <th>SymbolCount_URL</th>\n",
       "      <th>SymbolCount_Directoryname</th>\n",
       "      <th>domain_token_count</th>\n",
       "      <th>tld</th>\n",
       "      <th>SymbolCount_Domain</th>\n",
       "      <th>URL_DigitCount</th>\n",
       "      <th>domainUrlRatio</th>\n",
       "      <th>Arguments_LongestWordLength</th>\n",
       "      <th>argDomanRatio</th>\n",
       "      <th>dld_url</th>\n",
       "      <th>ArgLen</th>\n",
       "      <th>Query_LetterCount</th>\n",
       "      <th>Querylength</th>\n",
       "      <th>ldl_url</th>\n",
       "      <th>ldl_path</th>\n",
       "      <th>dld_path</th>\n",
       "      <th>LongestVariableValue</th>\n",
       "      <th>SymbolCount_FileName</th>\n",
       "      <th>Extension_DigitCount</th>\n",
       "      <th>Query_DigitCount</th>\n",
       "      <th>SymbolCount_Extension</th>\n",
       "      <th>SymbolCount_Afterpath</th>\n",
       "      <th>ldl_getArg</th>\n",
       "      <th>dld_getArg</th>\n",
       "      <th>URL_Type_obf_Type</th>\n",
       "    </tr>\n",
       "  </thead>\n",
       "  <tbody>\n",
       "    <tr>\n",
       "      <th>0</th>\n",
       "      <td>0.726298</td>\n",
       "      <td>13</td>\n",
       "      <td>-1</td>\n",
       "      <td>0</td>\n",
       "      <td>0</td>\n",
       "      <td>0</td>\n",
       "      <td>13</td>\n",
       "      <td>0</td>\n",
       "      <td>5</td>\n",
       "      <td>0</td>\n",
       "      <td>22</td>\n",
       "      <td>5</td>\n",
       "      <td>25</td>\n",
       "      <td>1</td>\n",
       "      <td>0</td>\n",
       "      <td>0</td>\n",
       "      <td>0.784493</td>\n",
       "      <td>5.5</td>\n",
       "      <td>8</td>\n",
       "      <td>14</td>\n",
       "      <td>0</td>\n",
       "      <td>14</td>\n",
       "      <td>0</td>\n",
       "      <td>47</td>\n",
       "      <td>3</td>\n",
       "      <td>58</td>\n",
       "      <td>0.448276</td>\n",
       "      <td>1.04</td>\n",
       "      <td>26</td>\n",
       "      <td>26</td>\n",
       "      <td>13</td>\n",
       "      <td>0</td>\n",
       "      <td>8</td>\n",
       "      <td>0.6</td>\n",
       "      <td>0.017241</td>\n",
       "      <td>3</td>\n",
       "      <td>2</td>\n",
       "      <td>13</td>\n",
       "      <td>5</td>\n",
       "      <td>0</td>\n",
       "      <td>8</td>\n",
       "      <td>2</td>\n",
       "      <td>4</td>\n",
       "      <td>4</td>\n",
       "      <td>3</td>\n",
       "      <td>1</td>\n",
       "      <td>0.431034</td>\n",
       "      <td>-1</td>\n",
       "      <td>0.08</td>\n",
       "      <td>0</td>\n",
       "      <td>2</td>\n",
       "      <td>-1</td>\n",
       "      <td>0</td>\n",
       "      <td>0</td>\n",
       "      <td>0</td>\n",
       "      <td>0</td>\n",
       "      <td>-1</td>\n",
       "      <td>1</td>\n",
       "      <td>1</td>\n",
       "      <td>-1</td>\n",
       "      <td>0</td>\n",
       "      <td>-1</td>\n",
       "      <td>0</td>\n",
       "      <td>0</td>\n",
       "      <td>Defacement</td>\n",
       "    </tr>\n",
       "    <tr>\n",
       "      <th>1</th>\n",
       "      <td>0.688635</td>\n",
       "      <td>13</td>\n",
       "      <td>-1</td>\n",
       "      <td>0</td>\n",
       "      <td>0</td>\n",
       "      <td>0</td>\n",
       "      <td>13</td>\n",
       "      <td>0</td>\n",
       "      <td>5</td>\n",
       "      <td>0</td>\n",
       "      <td>22</td>\n",
       "      <td>5</td>\n",
       "      <td>25</td>\n",
       "      <td>2</td>\n",
       "      <td>0</td>\n",
       "      <td>0</td>\n",
       "      <td>0.784493</td>\n",
       "      <td>5.5</td>\n",
       "      <td>12</td>\n",
       "      <td>14</td>\n",
       "      <td>0</td>\n",
       "      <td>14</td>\n",
       "      <td>0</td>\n",
       "      <td>56</td>\n",
       "      <td>4</td>\n",
       "      <td>66</td>\n",
       "      <td>0.515151</td>\n",
       "      <td>1.36</td>\n",
       "      <td>34</td>\n",
       "      <td>34</td>\n",
       "      <td>2</td>\n",
       "      <td>0</td>\n",
       "      <td>8</td>\n",
       "      <td>0.6</td>\n",
       "      <td>0.000000</td>\n",
       "      <td>4</td>\n",
       "      <td>1</td>\n",
       "      <td>13</td>\n",
       "      <td>4</td>\n",
       "      <td>9</td>\n",
       "      <td>8</td>\n",
       "      <td>3</td>\n",
       "      <td>4</td>\n",
       "      <td>4</td>\n",
       "      <td>3</td>\n",
       "      <td>0</td>\n",
       "      <td>0.378788</td>\n",
       "      <td>-1</td>\n",
       "      <td>0.08</td>\n",
       "      <td>0</td>\n",
       "      <td>2</td>\n",
       "      <td>-1</td>\n",
       "      <td>0</td>\n",
       "      <td>0</td>\n",
       "      <td>0</td>\n",
       "      <td>0</td>\n",
       "      <td>-1</td>\n",
       "      <td>0</td>\n",
       "      <td>0</td>\n",
       "      <td>-1</td>\n",
       "      <td>0</td>\n",
       "      <td>-1</td>\n",
       "      <td>0</td>\n",
       "      <td>0</td>\n",
       "      <td>Defacement</td>\n",
       "    </tr>\n",
       "    <tr>\n",
       "      <th>2</th>\n",
       "      <td>0.695049</td>\n",
       "      <td>13</td>\n",
       "      <td>-1</td>\n",
       "      <td>0</td>\n",
       "      <td>0</td>\n",
       "      <td>0</td>\n",
       "      <td>13</td>\n",
       "      <td>0</td>\n",
       "      <td>5</td>\n",
       "      <td>0</td>\n",
       "      <td>22</td>\n",
       "      <td>5</td>\n",
       "      <td>25</td>\n",
       "      <td>2</td>\n",
       "      <td>0</td>\n",
       "      <td>0</td>\n",
       "      <td>0.784493</td>\n",
       "      <td>5.5</td>\n",
       "      <td>12</td>\n",
       "      <td>14</td>\n",
       "      <td>0</td>\n",
       "      <td>14</td>\n",
       "      <td>0</td>\n",
       "      <td>55</td>\n",
       "      <td>5</td>\n",
       "      <td>65</td>\n",
       "      <td>0.507692</td>\n",
       "      <td>1.32</td>\n",
       "      <td>33</td>\n",
       "      <td>33</td>\n",
       "      <td>2</td>\n",
       "      <td>0</td>\n",
       "      <td>8</td>\n",
       "      <td>0.6</td>\n",
       "      <td>0.000000</td>\n",
       "      <td>4</td>\n",
       "      <td>1</td>\n",
       "      <td>13</td>\n",
       "      <td>4</td>\n",
       "      <td>8</td>\n",
       "      <td>8</td>\n",
       "      <td>3</td>\n",
       "      <td>4</td>\n",
       "      <td>4</td>\n",
       "      <td>3</td>\n",
       "      <td>0</td>\n",
       "      <td>0.384615</td>\n",
       "      <td>-1</td>\n",
       "      <td>0.08</td>\n",
       "      <td>0</td>\n",
       "      <td>2</td>\n",
       "      <td>-1</td>\n",
       "      <td>0</td>\n",
       "      <td>0</td>\n",
       "      <td>0</td>\n",
       "      <td>0</td>\n",
       "      <td>-1</td>\n",
       "      <td>0</td>\n",
       "      <td>0</td>\n",
       "      <td>-1</td>\n",
       "      <td>0</td>\n",
       "      <td>-1</td>\n",
       "      <td>0</td>\n",
       "      <td>0</td>\n",
       "      <td>Defacement</td>\n",
       "    </tr>\n",
       "    <tr>\n",
       "      <th>3</th>\n",
       "      <td>0.640130</td>\n",
       "      <td>13</td>\n",
       "      <td>-1</td>\n",
       "      <td>0</td>\n",
       "      <td>0</td>\n",
       "      <td>0</td>\n",
       "      <td>13</td>\n",
       "      <td>0</td>\n",
       "      <td>13</td>\n",
       "      <td>0</td>\n",
       "      <td>22</td>\n",
       "      <td>12</td>\n",
       "      <td>25</td>\n",
       "      <td>2</td>\n",
       "      <td>0</td>\n",
       "      <td>0</td>\n",
       "      <td>0.784493</td>\n",
       "      <td>5.5</td>\n",
       "      <td>32</td>\n",
       "      <td>14</td>\n",
       "      <td>0</td>\n",
       "      <td>14</td>\n",
       "      <td>0</td>\n",
       "      <td>92</td>\n",
       "      <td>16</td>\n",
       "      <td>109</td>\n",
       "      <td>0.706422</td>\n",
       "      <td>3.08</td>\n",
       "      <td>77</td>\n",
       "      <td>77</td>\n",
       "      <td>2</td>\n",
       "      <td>0</td>\n",
       "      <td>8</td>\n",
       "      <td>0.6</td>\n",
       "      <td>0.000000</td>\n",
       "      <td>4</td>\n",
       "      <td>8</td>\n",
       "      <td>52</td>\n",
       "      <td>4</td>\n",
       "      <td>45</td>\n",
       "      <td>8</td>\n",
       "      <td>3</td>\n",
       "      <td>4</td>\n",
       "      <td>4</td>\n",
       "      <td>3</td>\n",
       "      <td>0</td>\n",
       "      <td>0.229358</td>\n",
       "      <td>-1</td>\n",
       "      <td>0.08</td>\n",
       "      <td>0</td>\n",
       "      <td>2</td>\n",
       "      <td>-1</td>\n",
       "      <td>0</td>\n",
       "      <td>0</td>\n",
       "      <td>0</td>\n",
       "      <td>0</td>\n",
       "      <td>-1</td>\n",
       "      <td>0</td>\n",
       "      <td>0</td>\n",
       "      <td>-1</td>\n",
       "      <td>0</td>\n",
       "      <td>-1</td>\n",
       "      <td>0</td>\n",
       "      <td>0</td>\n",
       "      <td>Defacement</td>\n",
       "    </tr>\n",
       "    <tr>\n",
       "      <th>4</th>\n",
       "      <td>0.681307</td>\n",
       "      <td>13</td>\n",
       "      <td>-1</td>\n",
       "      <td>0</td>\n",
       "      <td>0</td>\n",
       "      <td>0</td>\n",
       "      <td>13</td>\n",
       "      <td>0</td>\n",
       "      <td>13</td>\n",
       "      <td>0</td>\n",
       "      <td>22</td>\n",
       "      <td>6</td>\n",
       "      <td>25</td>\n",
       "      <td>2</td>\n",
       "      <td>0</td>\n",
       "      <td>0</td>\n",
       "      <td>0.784493</td>\n",
       "      <td>5.5</td>\n",
       "      <td>18</td>\n",
       "      <td>14</td>\n",
       "      <td>0</td>\n",
       "      <td>14</td>\n",
       "      <td>0</td>\n",
       "      <td>70</td>\n",
       "      <td>11</td>\n",
       "      <td>81</td>\n",
       "      <td>0.604938</td>\n",
       "      <td>1.96</td>\n",
       "      <td>49</td>\n",
       "      <td>49</td>\n",
       "      <td>2</td>\n",
       "      <td>0</td>\n",
       "      <td>8</td>\n",
       "      <td>0.6</td>\n",
       "      <td>0.000000</td>\n",
       "      <td>4</td>\n",
       "      <td>2</td>\n",
       "      <td>24</td>\n",
       "      <td>4</td>\n",
       "      <td>23</td>\n",
       "      <td>8</td>\n",
       "      <td>3</td>\n",
       "      <td>4</td>\n",
       "      <td>4</td>\n",
       "      <td>3</td>\n",
       "      <td>0</td>\n",
       "      <td>0.308642</td>\n",
       "      <td>-1</td>\n",
       "      <td>0.08</td>\n",
       "      <td>0</td>\n",
       "      <td>2</td>\n",
       "      <td>-1</td>\n",
       "      <td>0</td>\n",
       "      <td>0</td>\n",
       "      <td>0</td>\n",
       "      <td>0</td>\n",
       "      <td>-1</td>\n",
       "      <td>0</td>\n",
       "      <td>0</td>\n",
       "      <td>-1</td>\n",
       "      <td>0</td>\n",
       "      <td>-1</td>\n",
       "      <td>0</td>\n",
       "      <td>0</td>\n",
       "      <td>Defacement</td>\n",
       "    </tr>\n",
       "  </tbody>\n",
       "</table>\n",
       "</div>"
      ],
      "text/plain": [
       "   Entropy_URL  Path_LongestWordLength  ...  dld_getArg  URL_Type_obf_Type\n",
       "0     0.726298                      13  ...           0         Defacement\n",
       "1     0.688635                      13  ...           0         Defacement\n",
       "2     0.695049                      13  ...           0         Defacement\n",
       "3     0.640130                      13  ...           0         Defacement\n",
       "4     0.681307                      13  ...           0         Defacement\n",
       "\n",
       "[5 rows x 65 columns]"
      ]
     },
     "execution_count": 16,
     "metadata": {
      "tags": []
     },
     "output_type": "execute_result"
    }
   ],
   "source": [
    "dataset_64 = dataset.copy()\n",
    "dataset_64 = dataset_64[p_values.index[:64].insert(65, lb)]\n",
    "dataset_64.head()"
   ]
  },
  {
   "cell_type": "markdown",
   "id": "fcae8510",
   "metadata": {
    "id": "fcae8510"
   },
   "source": [
    "## selecting feature and encoding labels"
   ]
  },
  {
   "cell_type": "code",
   "execution_count": 17,
   "id": "2378bb64",
   "metadata": {
    "colab": {
     "base_uri": "https://localhost:8080/"
    },
    "id": "2378bb64",
    "outputId": "c1ea4768-1e11-41d5-d080-c3bb96f674f4"
   },
   "outputs": [
    {
     "name": "stdout",
     "output_type": "stream",
     "text": [
      "[ 7.26298195e-01  1.30000000e+01 -1.00000000e+00  0.00000000e+00\n",
      "  0.00000000e+00  0.00000000e+00  1.30000000e+01  0.00000000e+00\n",
      "  5.00000000e+00  0.00000000e+00  2.20000000e+01  5.00000000e+00\n",
      "  2.50000000e+01  1.00000000e+00  0.00000000e+00  0.00000000e+00\n",
      "  7.84493326e-01  5.50000000e+00  8.00000000e+00  1.40000000e+01\n",
      "  0.00000000e+00  1.40000000e+01  0.00000000e+00  4.70000000e+01\n",
      "  3.00000000e+00  5.80000000e+01  4.48275860e-01  1.04000000e+00\n",
      "  2.60000000e+01  2.60000000e+01  1.30000000e+01  0.00000000e+00\n",
      "  8.00000000e+00  6.00000000e-01  1.72413793e-02  3.00000000e+00\n",
      "  2.00000000e+00  1.30000000e+01  5.00000000e+00  0.00000000e+00\n",
      "  8.00000000e+00  2.00000000e+00  4.00000000e+00  4.00000000e+00\n",
      "  3.00000000e+00  1.00000000e+00  4.31034480e-01 -1.00000000e+00\n",
      "  8.00000000e-02  0.00000000e+00  2.00000000e+00 -1.00000000e+00\n",
      "  0.00000000e+00  0.00000000e+00  0.00000000e+00  0.00000000e+00\n",
      " -1.00000000e+00  1.00000000e+00  1.00000000e+00 -1.00000000e+00\n",
      "  0.00000000e+00 -1.00000000e+00  0.00000000e+00  0.00000000e+00]\n"
     ]
    }
   ],
   "source": [
    "features_64 = dataset_64.loc[:, dataset_64.columns != lb].to_numpy()\n",
    "print(features_64[0])"
   ]
  },
  {
   "cell_type": "markdown",
   "id": "cbdf4ff2",
   "metadata": {
    "id": "cbdf4ff2"
   },
   "source": [
    "## Encoding labels"
   ]
  },
  {
   "cell_type": "code",
   "execution_count": 18,
   "id": "f2602dc8",
   "metadata": {
    "colab": {
     "base_uri": "https://localhost:8080/",
     "height": 537
    },
    "id": "f2602dc8",
    "outputId": "b6885242-d19e-4739-ad6a-91691d3e0264"
   },
   "outputs": [
    {
     "name": "stdout",
     "output_type": "stream",
     "text": [
      "0        1\n",
      "1        1\n",
      "2        1\n",
      "3        1\n",
      "4        1\n",
      "        ..\n",
      "36702    1\n",
      "36703    1\n",
      "36704    1\n",
      "36705    1\n",
      "36706    1\n",
      "Name: URL_Type_obf_Type, Length: 36697, dtype: int64\n",
      "1    28916\n",
      "0     7781\n",
      "Name: URL_Type_obf_Type, dtype: int64\n"
     ]
    },
    {
     "data": {
      "image/png": "[encoded data removed]",
      "text/plain": [
       "<Figure size 432x288 with 1 Axes>"
      ]
     },
     "metadata": {
      "needs_background": "light",
      "tags": []
     },
     "output_type": "display_data"
    }
   ],
   "source": [
    "coding_labels = {\n",
    "    \"benign\" : 0,\n",
    "    \"Defacement\" : 1,\n",
    "    \"malware\" : 1,\n",
    "    \"phishing\" : 1,\n",
    "    \"spam\" : 1\n",
    "}\n",
    "labels_64 = dataset_64[lb].map(coding_labels)\n",
    "print(labels_64)\n",
    "print(labels_64.value_counts())\n",
    "labels_64.value_counts().plot(kind = 'barh')\n",
    "labels_64 = labels_64.to_numpy()"
   ]
  },
  {
   "cell_type": "markdown",
   "id": "73ab1af6",
   "metadata": {
    "id": "73ab1af6"
   },
   "source": [
    "## Defining plot Functions"
   ]
  },
  {
   "cell_type": "code",
   "execution_count": 19,
   "id": "b5373386",
   "metadata": {
    "id": "b5373386"
   },
   "outputs": [],
   "source": [
    "def plotAccuracy(title):\n",
    "    plt.figure(figsize=(10, 8))\n",
    "    plt.plot(history.history['accuracy'])\n",
    "    plt.plot(history.history['val_accuracy'])\n",
    "    plt.title(title)\n",
    "    plt.ylabel('Accuracy')\n",
    "    plt.xlabel('Epoch')\n",
    "    plt.legend(['Train', 'Val'], loc='upper left')\n",
    "    plt.show()"
   ]
  },
  {
   "cell_type": "code",
   "execution_count": 20,
   "id": "41a04278",
   "metadata": {
    "id": "41a04278"
   },
   "outputs": [],
   "source": [
    "def plotLoss(title):\n",
    "    plt.figure(figsize=(10, 8))\n",
    "    plt.plot(history.history['loss'])\n",
    "    plt.plot(history.history['val_loss'])\n",
    "    plt.title(title)\n",
    "    plt.ylabel('Loss')\n",
    "    plt.xlabel('Epoch')\n",
    "    plt.legend(['Train', 'Val'], loc='upper left')\n",
    "    plt.show()"
   ]
  },
  {
   "cell_type": "code",
   "execution_count": 21,
   "id": "957e6c96",
   "metadata": {
    "id": "957e6c96"
   },
   "outputs": [],
   "source": [
    "def plot_Experiment(history,y_axis):\n",
    "  hist = pd.DataFrame(history.history)\n",
    "  hist['epoch'] = history.epoch\n",
    "  plt.figure(figsize=(10, 8))\n",
    "  plt.xlabel('Epoch')\n",
    "  plt.ylabel('Error')\n",
    "  plt.plot(hist['epoch'], hist['loss'], label='Train Error')\n",
    "  plt.plot(hist['epoch'], hist['val_loss'], label = 'Val Error')\n",
    "  plt.ylim([0,y_axis])\n",
    "  plt.legend()\n",
    "  plt.show()"
   ]
  },
  {
   "cell_type": "code",
   "execution_count": 40,
   "id": "3a9834d0",
   "metadata": {
    "id": "3a9834d0"
   },
   "outputs": [],
   "source": [
    "def aucPlot(model, X_test, y_test, classifier):\n",
    "    lr_probs = model.predict_proba(X_test)\n",
    "    # keep probabilities for the positive outcome only\n",
    "    #lr_probs = lr_probs.reshape(lr_probs.shape[0], 5)\n",
    "    print(lr_probs[0])\n",
    "    #lr_probs = np.transpose([pred[:, 1] for pred in lr_probs])\n",
    "    # calculate scores\n",
    "    #lr_auc = roc_auc_score(y_test, lr_probs, multi_class=\"ovr\")\n",
    "    lr_auc = roc_auc_score(y_test, lr_probs[:,1])\n",
    "    # summarize scores\n",
    "    print(classifier, ' : ROC AUC=%.2f %%' % (lr_auc*100))\n",
    "    \n",
    "    # Compute ROC curve and ROC area for each class\n",
    "    fpr = dict()\n",
    "    tpr = dict()\n",
    "    roc_auc = dict()\n",
    "    \n",
    "    labels = ['Benign', 'Malicious']\n",
    "    colors = ['blue', 'red']\n",
    "    \n",
    "    n_classes = 2\n",
    "    for i in range(n_classes):\n",
    "        fpr[i], tpr[i], _ = roc_curve(y_test, lr_probs[:, i], pos_label=i)\n",
    "        roc_auc[i] = auc(fpr[i], tpr[i])\n",
    "    \n",
    "    # Plot of a ROC curve for a specific class\n",
    "    plt.figure(figsize=(15, 15))\n",
    "    for i in range(n_classes):\n",
    "        plt.plot(fpr[i], tpr[i], color=colors[i], label=labels[i]+' ROC curve (area = %0.2f)' % roc_auc[i])\n",
    "        plt.plot([0, 1], [0, 1], 'k--')\n",
    "        plt.xlim([-0.01, 1.0])\n",
    "        plt.ylim([0.0, 1.05])\n",
    "        plt.xlabel('False Positive Rate')\n",
    "        plt.ylabel('True Positive Rate')\n",
    "        plt.title('Multi Class Classification')\n",
    "        plt.legend(loc=\"lower right\")    \n",
    "    plt.show()"
   ]
  },
  {
   "cell_type": "markdown",
   "id": "3957ca6b",
   "metadata": {
    "id": "3957ca6b"
   },
   "source": [
    "## Shuffeling and splitting data into train set and test set"
   ]
  },
  {
   "cell_type": "code",
   "execution_count": 23,
   "id": "222d5a5a",
   "metadata": {
    "id": "222d5a5a"
   },
   "outputs": [],
   "source": [
    "X_train, X_test, y_train, y_test = train_test_split(features_64, labels_64, test_size=0.2, random_state=64)"
   ]
  },
  {
   "cell_type": "markdown",
   "id": "b6615fdc",
   "metadata": {
    "id": "b6615fdc"
   },
   "source": [
    "# Reshaping Training data"
   ]
  },
  {
   "cell_type": "code",
   "execution_count": 24,
   "id": "23891fce",
   "metadata": {
    "id": "23891fce"
   },
   "outputs": [],
   "source": [
    "X_train = tf.reshape(X_train, (X_train.shape[0],8,8))\n",
    "y_train = tf.reshape(y_train, (y_train.shape[0],1))\n",
    "X_train = tf.expand_dims(X_train, axis=-1)"
   ]
  },
  {
   "cell_type": "markdown",
   "id": "2bbc67cc",
   "metadata": {
    "id": "2bbc67cc"
   },
   "source": [
    "# Building and training model"
   ]
  },
  {
   "cell_type": "code",
   "execution_count": 25,
   "id": "94a75c2b",
   "metadata": {
    "id": "94a75c2b"
   },
   "outputs": [],
   "source": [
    "save_dir = \"/content/CNN4Cl1P64C100EpNNVNKf_bestmodel.h5\"\n",
    "model_name = \"Multi-class_clasification\""
   ]
  },
  {
   "cell_type": "raw",
   "id": "164b6aef",
   "metadata": {
    "id": "164b6aef"
   },
   "source": [
    "# Define per-fold score containers\n",
    "train_acc_per_fold = []\n",
    "val_acc_per_fold = []\n",
    "train_loss_per_fold = []\n",
    "val_loss_per_fold = []\n",
    "kscores = []"
   ]
  },
  {
   "cell_type": "code",
   "execution_count": 26,
   "id": "2e3d6f97",
   "metadata": {
    "colab": {
     "base_uri": "https://localhost:8080/"
    },
    "id": "2e3d6f97",
    "outputId": "70bf1da2-7986-4e6b-e14f-86a42520e4fe"
   },
   "outputs": [
    {
     "name": "stdout",
     "output_type": "stream",
     "text": [
      "Model: \"sequential\"\n",
      "_________________________________________________________________\n",
      "Layer (type)                 Output Shape              Param #   \n",
      "=================================================================\n",
      "conv2d (Conv2D)              (None, 8, 8, 128)         640       \n",
      "_________________________________________________________________\n",
      "conv2d_1 (Conv2D)            (None, 8, 8, 128)         147584    \n",
      "_________________________________________________________________\n",
      "conv2d_2 (Conv2D)            (None, 8, 8, 128)         262272    \n",
      "_________________________________________________________________\n",
      "conv2d_3 (Conv2D)            (None, 8, 8, 128)         409728    \n",
      "_________________________________________________________________\n",
      "max_pooling2d (MaxPooling2D) (None, 4, 4, 128)         0         \n",
      "_________________________________________________________________\n",
      "flatten (Flatten)            (None, 2048)              0         \n",
      "_________________________________________________________________\n",
      "dense (Dense)                (None, 2)                 4098      \n",
      "=================================================================\n",
      "Total params: 824,322\n",
      "Trainable params: 824,322\n",
      "Non-trainable params: 0\n",
      "_________________________________________________________________\n"
     ]
    }
   ],
   "source": [
    "model = Sequential([\n",
    "    Conv2D(filters=128, kernel_size=(2, 2), activation='relu', padding='same', input_shape=(8, 8, 1)),\n",
    "    Conv2D(filters=128, kernel_size=(3, 3), activation='relu', padding='same'),\n",
    "    Conv2D(filters=128, kernel_size=(4, 4), activation='relu', padding='same'),\n",
    "    Conv2D(filters=128, kernel_size=(5, 5), activation='relu', padding='same'),\n",
    "    MaxPooling2D(pool_size=(2, 2), strides=2),\n",
    "    Flatten(),\n",
    "    Dense(units=2, activation='softmax')\n",
    "])\n",
    "model.summary()"
   ]
  },
  {
   "cell_type": "code",
   "execution_count": 27,
   "id": "9d38858c",
   "metadata": {
    "id": "9d38858c"
   },
   "outputs": [],
   "source": [
    "model.compile(optimizer=Adam(learning_rate=0.0001), loss='sparse_categorical_crossentropy', metrics=['accuracy'])"
   ]
  },
  {
   "cell_type": "code",
   "execution_count": 28,
   "id": "edafaa49",
   "metadata": {
    "id": "edafaa49"
   },
   "outputs": [],
   "source": [
    "checkpoint = callbacks.ModelCheckpoint(save_dir, monitor='val_accuracy', verbose=1, save_freq=\"epoch\", save_weights_only=False, save_best_only=True, mode='max')\n",
    "callbacks_list = [checkpoint]"
   ]
  },
  {
   "cell_type": "code",
   "execution_count": 29,
   "id": "6cbec85f",
   "metadata": {
    "colab": {
     "base_uri": "https://localhost:8080/"
    },
    "id": "6cbec85f",
    "outputId": "86250093-98f9-4bd2-d39f-e9fcd7210dd9"
   },
   "outputs": [
    {
     "name": "stdout",
     "output_type": "stream",
     "text": [
      "Epoch 1/100\n",
      "195/195 [==============================] - 210s 1s/step - loss: 0.2924 - accuracy: 0.8713 - val_loss: 0.2293 - val_accuracy: 0.8908\n",
      "\n",
      "Epoch 00001: val_accuracy improved from -inf to 0.89078, saving model to /content/CNN4Cl1P64C100EpNNVNKf_bestmodel.h5\n",
      "Epoch 2/100\n",
      "195/195 [==============================] - 206s 1s/step - loss: 0.2049 - accuracy: 0.9091 - val_loss: 0.1669 - val_accuracy: 0.9194\n",
      "\n",
      "Epoch 00002: val_accuracy improved from 0.89078 to 0.91939, saving model to /content/CNN4Cl1P64C100EpNNVNKf_bestmodel.h5\n",
      "Epoch 3/100\n",
      "195/195 [==============================] - 208s 1s/step - loss: 0.1821 - accuracy: 0.9227 - val_loss: 0.1452 - val_accuracy: 0.9344\n",
      "\n",
      "Epoch 00003: val_accuracy improved from 0.91939 to 0.93438, saving model to /content/CNN4Cl1P64C100EpNNVNKf_bestmodel.h5\n",
      "Epoch 4/100\n",
      "195/195 [==============================] - 209s 1s/step - loss: 0.1525 - accuracy: 0.9381 - val_loss: 0.1377 - val_accuracy: 0.9462\n",
      "\n",
      "Epoch 00004: val_accuracy improved from 0.93438 to 0.94619, saving model to /content/CNN4Cl1P64C100EpNNVNKf_bestmodel.h5\n",
      "Epoch 5/100\n",
      "195/195 [==============================] - 208s 1s/step - loss: 0.1374 - accuracy: 0.9460 - val_loss: 0.1188 - val_accuracy: 0.9553\n",
      "\n",
      "Epoch 00005: val_accuracy improved from 0.94619 to 0.95527, saving model to /content/CNN4Cl1P64C100EpNNVNKf_bestmodel.h5\n",
      "Epoch 6/100\n",
      "195/195 [==============================] - 208s 1s/step - loss: 0.1257 - accuracy: 0.9505 - val_loss: 0.1220 - val_accuracy: 0.9525\n",
      "\n",
      "Epoch 00006: val_accuracy did not improve from 0.95527\n",
      "Epoch 7/100\n",
      "195/195 [==============================] - 207s 1s/step - loss: 0.1228 - accuracy: 0.9534 - val_loss: 0.1075 - val_accuracy: 0.9594\n",
      "\n",
      "Epoch 00007: val_accuracy improved from 0.95527 to 0.95936, saving model to /content/CNN4Cl1P64C100EpNNVNKf_bestmodel.h5\n",
      "Epoch 8/100\n",
      "195/195 [==============================] - 209s 1s/step - loss: 0.1113 - accuracy: 0.9572 - val_loss: 0.1020 - val_accuracy: 0.9587\n",
      "\n",
      "Epoch 00008: val_accuracy did not improve from 0.95936\n",
      "Epoch 9/100\n",
      "195/195 [==============================] - 209s 1s/step - loss: 0.1045 - accuracy: 0.9601 - val_loss: 0.1276 - val_accuracy: 0.9525\n",
      "\n",
      "Epoch 00009: val_accuracy did not improve from 0.95936\n",
      "Epoch 10/100\n",
      "195/195 [==============================] - 209s 1s/step - loss: 0.1024 - accuracy: 0.9610 - val_loss: 0.0885 - val_accuracy: 0.9662\n",
      "\n",
      "Epoch 00010: val_accuracy improved from 0.95936 to 0.96617, saving model to /content/CNN4Cl1P64C100EpNNVNKf_bestmodel.h5\n",
      "Epoch 11/100\n",
      "195/195 [==============================] - 211s 1s/step - loss: 0.0987 - accuracy: 0.9624 - val_loss: 0.1271 - val_accuracy: 0.9537\n",
      "\n",
      "Epoch 00011: val_accuracy did not improve from 0.96617\n",
      "Epoch 12/100\n",
      "195/195 [==============================] - 208s 1s/step - loss: 0.0911 - accuracy: 0.9656 - val_loss: 0.0919 - val_accuracy: 0.9668\n",
      "\n",
      "Epoch 00012: val_accuracy improved from 0.96617 to 0.96685, saving model to /content/CNN4Cl1P64C100EpNNVNKf_bestmodel.h5\n",
      "Epoch 13/100\n",
      "195/195 [==============================] - 210s 1s/step - loss: 0.0853 - accuracy: 0.9681 - val_loss: 0.0847 - val_accuracy: 0.9693\n",
      "\n",
      "Epoch 00013: val_accuracy improved from 0.96685 to 0.96935, saving model to /content/CNN4Cl1P64C100EpNNVNKf_bestmodel.h5\n",
      "Epoch 14/100\n",
      "195/195 [==============================] - 210s 1s/step - loss: 0.0830 - accuracy: 0.9695 - val_loss: 0.0819 - val_accuracy: 0.9734\n",
      "\n",
      "Epoch 00014: val_accuracy improved from 0.96935 to 0.97343, saving model to /content/CNN4Cl1P64C100EpNNVNKf_bestmodel.h5\n",
      "Epoch 15/100\n",
      "195/195 [==============================] - 211s 1s/step - loss: 0.0814 - accuracy: 0.9701 - val_loss: 0.0814 - val_accuracy: 0.9741\n",
      "\n",
      "Epoch 00015: val_accuracy improved from 0.97343 to 0.97411, saving model to /content/CNN4Cl1P64C100EpNNVNKf_bestmodel.h5\n",
      "Epoch 16/100\n",
      "195/195 [==============================] - 210s 1s/step - loss: 0.0808 - accuracy: 0.9698 - val_loss: 0.0972 - val_accuracy: 0.9639\n",
      "\n",
      "Epoch 00016: val_accuracy did not improve from 0.97411\n",
      "Epoch 17/100\n",
      "195/195 [==============================] - 212s 1s/step - loss: 0.0753 - accuracy: 0.9713 - val_loss: 0.0705 - val_accuracy: 0.9780\n",
      "\n",
      "Epoch 00017: val_accuracy improved from 0.97411 to 0.97797, saving model to /content/CNN4Cl1P64C100EpNNVNKf_bestmodel.h5\n",
      "Epoch 18/100\n",
      "195/195 [==============================] - 210s 1s/step - loss: 0.0702 - accuracy: 0.9743 - val_loss: 0.0786 - val_accuracy: 0.9714\n",
      "\n",
      "Epoch 00018: val_accuracy did not improve from 0.97797\n",
      "Epoch 19/100\n",
      "195/195 [==============================] - 209s 1s/step - loss: 0.0671 - accuracy: 0.9756 - val_loss: 0.0693 - val_accuracy: 0.9793\n",
      "\n",
      "Epoch 00019: val_accuracy improved from 0.97797 to 0.97934, saving model to /content/CNN4Cl1P64C100EpNNVNKf_bestmodel.h5\n",
      "Epoch 20/100\n",
      "195/195 [==============================] - 211s 1s/step - loss: 0.0664 - accuracy: 0.9756 - val_loss: 0.0805 - val_accuracy: 0.9746\n",
      "\n",
      "Epoch 00020: val_accuracy did not improve from 0.97934\n",
      "Epoch 21/100\n",
      "195/195 [==============================] - 213s 1s/step - loss: 0.0641 - accuracy: 0.9760 - val_loss: 0.0803 - val_accuracy: 0.9728\n",
      "\n",
      "Epoch 00021: val_accuracy did not improve from 0.97934\n",
      "Epoch 22/100\n",
      "195/195 [==============================] - 210s 1s/step - loss: 0.0681 - accuracy: 0.9752 - val_loss: 0.0621 - val_accuracy: 0.9800\n",
      "\n",
      "Epoch 00022: val_accuracy improved from 0.97934 to 0.98002, saving model to /content/CNN4Cl1P64C100EpNNVNKf_bestmodel.h5\n",
      "Epoch 23/100\n",
      "195/195 [==============================] - 212s 1s/step - loss: 0.0604 - accuracy: 0.9780 - val_loss: 0.0834 - val_accuracy: 0.9700\n",
      "\n",
      "Epoch 00023: val_accuracy did not improve from 0.98002\n",
      "Epoch 24/100\n",
      "195/195 [==============================] - 212s 1s/step - loss: 0.0589 - accuracy: 0.9789 - val_loss: 0.0632 - val_accuracy: 0.9791\n",
      "\n",
      "Epoch 00024: val_accuracy did not improve from 0.98002\n",
      "Epoch 25/100\n",
      "195/195 [==============================] - 212s 1s/step - loss: 0.0576 - accuracy: 0.9800 - val_loss: 0.0636 - val_accuracy: 0.9773\n",
      "\n",
      "Epoch 00025: val_accuracy did not improve from 0.98002\n",
      "Epoch 26/100\n",
      "195/195 [==============================] - 211s 1s/step - loss: 0.0588 - accuracy: 0.9790 - val_loss: 0.0691 - val_accuracy: 0.9743\n",
      "\n",
      "Epoch 00026: val_accuracy did not improve from 0.98002\n",
      "Epoch 27/100\n",
      "195/195 [==============================] - 211s 1s/step - loss: 0.0555 - accuracy: 0.9807 - val_loss: 0.0642 - val_accuracy: 0.9805\n",
      "\n",
      "Epoch 00027: val_accuracy improved from 0.98002 to 0.98047, saving model to /content/CNN4Cl1P64C100EpNNVNKf_bestmodel.h5\n",
      "Epoch 28/100\n",
      "195/195 [==============================] - 211s 1s/step - loss: 0.0543 - accuracy: 0.9807 - val_loss: 0.0742 - val_accuracy: 0.9757\n",
      "\n",
      "Epoch 00028: val_accuracy did not improve from 0.98047\n",
      "Epoch 29/100\n",
      "195/195 [==============================] - 211s 1s/step - loss: 0.0508 - accuracy: 0.9822 - val_loss: 0.0555 - val_accuracy: 0.9837\n",
      "\n",
      "Epoch 00029: val_accuracy improved from 0.98047 to 0.98365, saving model to /content/CNN4Cl1P64C100EpNNVNKf_bestmodel.h5\n",
      "Epoch 30/100\n",
      "195/195 [==============================] - 210s 1s/step - loss: 0.0538 - accuracy: 0.9803 - val_loss: 0.0582 - val_accuracy: 0.9821\n",
      "\n",
      "Epoch 00030: val_accuracy did not improve from 0.98365\n",
      "Epoch 31/100\n",
      "195/195 [==============================] - 211s 1s/step - loss: 0.0507 - accuracy: 0.9825 - val_loss: 0.0697 - val_accuracy: 0.9768\n",
      "\n",
      "Epoch 00031: val_accuracy did not improve from 0.98365\n",
      "Epoch 32/100\n",
      "195/195 [==============================] - 210s 1s/step - loss: 0.0518 - accuracy: 0.9814 - val_loss: 0.0612 - val_accuracy: 0.9812\n",
      "\n",
      "Epoch 00032: val_accuracy did not improve from 0.98365\n",
      "Epoch 33/100\n",
      "195/195 [==============================] - 210s 1s/step - loss: 0.0469 - accuracy: 0.9839 - val_loss: 0.0532 - val_accuracy: 0.9825\n",
      "\n",
      "Epoch 00033: val_accuracy did not improve from 0.98365\n",
      "Epoch 34/100\n",
      "195/195 [==============================] - 211s 1s/step - loss: 0.0465 - accuracy: 0.9842 - val_loss: 0.0614 - val_accuracy: 0.9800\n",
      "\n",
      "Epoch 00034: val_accuracy did not improve from 0.98365\n",
      "Epoch 35/100\n",
      "195/195 [==============================] - 210s 1s/step - loss: 0.0476 - accuracy: 0.9833 - val_loss: 0.0626 - val_accuracy: 0.9800\n",
      "\n",
      "Epoch 00035: val_accuracy did not improve from 0.98365\n",
      "Epoch 36/100\n",
      "195/195 [==============================] - 212s 1s/step - loss: 0.0440 - accuracy: 0.9844 - val_loss: 0.0606 - val_accuracy: 0.9809\n",
      "\n",
      "Epoch 00036: val_accuracy did not improve from 0.98365\n",
      "Epoch 37/100\n",
      "195/195 [==============================] - 210s 1s/step - loss: 0.0430 - accuracy: 0.9848 - val_loss: 0.0652 - val_accuracy: 0.9809\n",
      "\n",
      "Epoch 00037: val_accuracy did not improve from 0.98365\n",
      "Epoch 38/100\n",
      "195/195 [==============================] - 211s 1s/step - loss: 0.0417 - accuracy: 0.9856 - val_loss: 0.0586 - val_accuracy: 0.9807\n",
      "\n",
      "Epoch 00038: val_accuracy did not improve from 0.98365\n",
      "Epoch 39/100\n",
      "195/195 [==============================] - 209s 1s/step - loss: 0.0431 - accuracy: 0.9844 - val_loss: 0.0529 - val_accuracy: 0.9825\n",
      "\n",
      "Epoch 00039: val_accuracy did not improve from 0.98365\n",
      "Epoch 40/100\n",
      "195/195 [==============================] - 208s 1s/step - loss: 0.0401 - accuracy: 0.9859 - val_loss: 0.0590 - val_accuracy: 0.9782\n",
      "\n",
      "Epoch 00040: val_accuracy did not improve from 0.98365\n",
      "Epoch 41/100\n",
      "195/195 [==============================] - 210s 1s/step - loss: 0.0408 - accuracy: 0.9852 - val_loss: 0.0636 - val_accuracy: 0.9782\n",
      "\n",
      "Epoch 00041: val_accuracy did not improve from 0.98365\n",
      "Epoch 42/100\n",
      "195/195 [==============================] - 209s 1s/step - loss: 0.0414 - accuracy: 0.9853 - val_loss: 0.0559 - val_accuracy: 0.9812\n",
      "\n",
      "Epoch 00042: val_accuracy did not improve from 0.98365\n",
      "Epoch 43/100\n",
      "195/195 [==============================] - 211s 1s/step - loss: 0.0348 - accuracy: 0.9873 - val_loss: 0.0569 - val_accuracy: 0.9832\n",
      "\n",
      "Epoch 00043: val_accuracy did not improve from 0.98365\n",
      "Epoch 44/100\n",
      "195/195 [==============================] - 209s 1s/step - loss: 0.0398 - accuracy: 0.9862 - val_loss: 0.0525 - val_accuracy: 0.9848\n",
      "\n",
      "Epoch 00044: val_accuracy improved from 0.98365 to 0.98479, saving model to /content/CNN4Cl1P64C100EpNNVNKf_bestmodel.h5\n",
      "Epoch 45/100\n",
      "195/195 [==============================] - 208s 1s/step - loss: 0.0372 - accuracy: 0.9867 - val_loss: 0.0532 - val_accuracy: 0.9837\n",
      "\n",
      "Epoch 00045: val_accuracy did not improve from 0.98479\n",
      "Epoch 46/100\n",
      "195/195 [==============================] - 210s 1s/step - loss: 0.0337 - accuracy: 0.9885 - val_loss: 0.0524 - val_accuracy: 0.9837\n",
      "\n",
      "Epoch 00046: val_accuracy did not improve from 0.98479\n",
      "Epoch 47/100\n",
      "195/195 [==============================] - 208s 1s/step - loss: 0.0385 - accuracy: 0.9864 - val_loss: 0.0835 - val_accuracy: 0.9752\n",
      "\n",
      "Epoch 00047: val_accuracy did not improve from 0.98479\n",
      "Epoch 48/100\n",
      "195/195 [==============================] - 208s 1s/step - loss: 0.0348 - accuracy: 0.9875 - val_loss: 0.0491 - val_accuracy: 0.9839\n",
      "\n",
      "Epoch 00048: val_accuracy did not improve from 0.98479\n",
      "Epoch 49/100\n",
      "195/195 [==============================] - 209s 1s/step - loss: 0.0320 - accuracy: 0.9885 - val_loss: 0.0532 - val_accuracy: 0.9823\n",
      "\n",
      "Epoch 00049: val_accuracy did not improve from 0.98479\n",
      "Epoch 50/100\n",
      "195/195 [==============================] - 208s 1s/step - loss: 0.0326 - accuracy: 0.9894 - val_loss: 0.0491 - val_accuracy: 0.9843\n",
      "\n",
      "Epoch 00050: val_accuracy did not improve from 0.98479\n",
      "Epoch 51/100\n",
      "195/195 [==============================] - 210s 1s/step - loss: 0.0320 - accuracy: 0.9883 - val_loss: 0.0497 - val_accuracy: 0.9850\n",
      "\n",
      "Epoch 00051: val_accuracy improved from 0.98479 to 0.98501, saving model to /content/CNN4Cl1P64C100EpNNVNKf_bestmodel.h5\n",
      "Epoch 52/100\n",
      "195/195 [==============================] - 209s 1s/step - loss: 0.0344 - accuracy: 0.9879 - val_loss: 0.0539 - val_accuracy: 0.9827\n",
      "\n",
      "Epoch 00052: val_accuracy did not improve from 0.98501\n",
      "Epoch 53/100\n",
      "195/195 [==============================] - 208s 1s/step - loss: 0.0334 - accuracy: 0.9885 - val_loss: 0.0691 - val_accuracy: 0.9766\n",
      "\n",
      "Epoch 00053: val_accuracy did not improve from 0.98501\n",
      "Epoch 54/100\n",
      "195/195 [==============================] - 208s 1s/step - loss: 0.0283 - accuracy: 0.9897 - val_loss: 0.0467 - val_accuracy: 0.9852\n",
      "\n",
      "Epoch 00054: val_accuracy improved from 0.98501 to 0.98524, saving model to /content/CNN4Cl1P64C100EpNNVNKf_bestmodel.h5\n",
      "Epoch 55/100\n",
      "195/195 [==============================] - 211s 1s/step - loss: 0.0266 - accuracy: 0.9909 - val_loss: 0.0451 - val_accuracy: 0.9857\n",
      "\n",
      "Epoch 00055: val_accuracy improved from 0.98524 to 0.98569, saving model to /content/CNN4Cl1P64C100EpNNVNKf_bestmodel.h5\n",
      "Epoch 56/100\n",
      "195/195 [==============================] - 210s 1s/step - loss: 0.0299 - accuracy: 0.9894 - val_loss: 0.0463 - val_accuracy: 0.9827\n",
      "\n",
      "Epoch 00056: val_accuracy did not improve from 0.98569\n",
      "Epoch 57/100\n",
      "195/195 [==============================] - 209s 1s/step - loss: 0.0246 - accuracy: 0.9912 - val_loss: 0.0466 - val_accuracy: 0.9841\n",
      "\n",
      "Epoch 00057: val_accuracy did not improve from 0.98569\n",
      "Epoch 58/100\n",
      "195/195 [==============================] - 209s 1s/step - loss: 0.0244 - accuracy: 0.9920 - val_loss: 0.0537 - val_accuracy: 0.9814\n",
      "\n",
      "Epoch 00058: val_accuracy did not improve from 0.98569\n",
      "Epoch 59/100\n",
      "195/195 [==============================] - 210s 1s/step - loss: 0.0268 - accuracy: 0.9913 - val_loss: 0.0500 - val_accuracy: 0.9841\n",
      "\n",
      "Epoch 00059: val_accuracy did not improve from 0.98569\n",
      "Epoch 60/100\n",
      "195/195 [==============================] - 210s 1s/step - loss: 0.0281 - accuracy: 0.9905 - val_loss: 0.0567 - val_accuracy: 0.9832\n",
      "\n",
      "Epoch 00060: val_accuracy did not improve from 0.98569\n",
      "Epoch 61/100\n",
      "195/195 [==============================] - 214s 1s/step - loss: 0.0359 - accuracy: 0.9877 - val_loss: 0.0570 - val_accuracy: 0.9809\n",
      "\n",
      "Epoch 00061: val_accuracy did not improve from 0.98569\n",
      "Epoch 62/100\n",
      "195/195 [==============================] - 212s 1s/step - loss: 0.0246 - accuracy: 0.9915 - val_loss: 0.0512 - val_accuracy: 0.9859\n",
      "\n",
      "Epoch 00062: val_accuracy improved from 0.98569 to 0.98592, saving model to /content/CNN4Cl1P64C100EpNNVNKf_bestmodel.h5\n",
      "Epoch 63/100\n",
      "195/195 [==============================] - 211s 1s/step - loss: 0.0220 - accuracy: 0.9922 - val_loss: 0.0436 - val_accuracy: 0.9859\n",
      "\n",
      "Epoch 00063: val_accuracy did not improve from 0.98592\n",
      "Epoch 64/100\n",
      "195/195 [==============================] - 211s 1s/step - loss: 0.0224 - accuracy: 0.9925 - val_loss: 0.0597 - val_accuracy: 0.9800\n",
      "\n",
      "Epoch 00064: val_accuracy did not improve from 0.98592\n",
      "Epoch 65/100\n",
      "195/195 [==============================] - 209s 1s/step - loss: 0.0241 - accuracy: 0.9917 - val_loss: 0.0446 - val_accuracy: 0.9861\n",
      "\n",
      "Epoch 00065: val_accuracy improved from 0.98592 to 0.98615, saving model to /content/CNN4Cl1P64C100EpNNVNKf_bestmodel.h5\n",
      "Epoch 66/100\n",
      "195/195 [==============================] - 211s 1s/step - loss: 0.0242 - accuracy: 0.9914 - val_loss: 0.0646 - val_accuracy: 0.9843\n",
      "\n",
      "Epoch 00066: val_accuracy did not improve from 0.98615\n",
      "Epoch 67/100\n",
      "195/195 [==============================] - 215s 1s/step - loss: 0.0231 - accuracy: 0.9915 - val_loss: 0.0446 - val_accuracy: 0.9884\n",
      "\n",
      "Epoch 00067: val_accuracy improved from 0.98615 to 0.98842, saving model to /content/CNN4Cl1P64C100EpNNVNKf_bestmodel.h5\n",
      "Epoch 68/100\n",
      "195/195 [==============================] - 211s 1s/step - loss: 0.0195 - accuracy: 0.9932 - val_loss: 0.0494 - val_accuracy: 0.9852\n",
      "\n",
      "Epoch 00068: val_accuracy did not improve from 0.98842\n",
      "Epoch 69/100\n",
      "195/195 [==============================] - 212s 1s/step - loss: 0.0222 - accuracy: 0.9917 - val_loss: 0.0456 - val_accuracy: 0.9857\n",
      "\n",
      "Epoch 00069: val_accuracy did not improve from 0.98842\n",
      "Epoch 70/100\n",
      "195/195 [==============================] - 209s 1s/step - loss: 0.0218 - accuracy: 0.9918 - val_loss: 0.0525 - val_accuracy: 0.9857\n",
      "\n",
      "Epoch 00070: val_accuracy did not improve from 0.98842\n",
      "Epoch 71/100\n",
      "195/195 [==============================] - 210s 1s/step - loss: 0.0199 - accuracy: 0.9932 - val_loss: 0.0489 - val_accuracy: 0.9848\n",
      "\n",
      "Epoch 00071: val_accuracy did not improve from 0.98842\n",
      "Epoch 72/100\n",
      "195/195 [==============================] - 210s 1s/step - loss: 0.0181 - accuracy: 0.9938 - val_loss: 0.0537 - val_accuracy: 0.9866\n",
      "\n",
      "Epoch 00072: val_accuracy did not improve from 0.98842\n",
      "Epoch 73/100\n",
      "195/195 [==============================] - 212s 1s/step - loss: 0.0323 - accuracy: 0.9895 - val_loss: 0.0569 - val_accuracy: 0.9830\n",
      "\n",
      "Epoch 00073: val_accuracy did not improve from 0.98842\n",
      "Epoch 74/100\n",
      "195/195 [==============================] - 212s 1s/step - loss: 0.0221 - accuracy: 0.9926 - val_loss: 0.0465 - val_accuracy: 0.9846\n",
      "\n",
      "Epoch 00074: val_accuracy did not improve from 0.98842\n",
      "Epoch 75/100\n",
      "195/195 [==============================] - 209s 1s/step - loss: 0.0197 - accuracy: 0.9929 - val_loss: 0.0449 - val_accuracy: 0.9855\n",
      "\n",
      "Epoch 00075: val_accuracy did not improve from 0.98842\n",
      "Epoch 76/100\n",
      "195/195 [==============================] - 209s 1s/step - loss: 0.0172 - accuracy: 0.9940 - val_loss: 0.0498 - val_accuracy: 0.9864\n",
      "\n",
      "Epoch 00076: val_accuracy did not improve from 0.98842\n",
      "Epoch 77/100\n",
      "195/195 [==============================] - 210s 1s/step - loss: 0.0162 - accuracy: 0.9950 - val_loss: 0.0489 - val_accuracy: 0.9861\n",
      "\n",
      "Epoch 00077: val_accuracy did not improve from 0.98842\n",
      "Epoch 78/100\n",
      "195/195 [==============================] - 211s 1s/step - loss: 0.0150 - accuracy: 0.9947 - val_loss: 0.0478 - val_accuracy: 0.9873\n",
      "\n",
      "Epoch 00078: val_accuracy did not improve from 0.98842\n",
      "Epoch 79/100\n",
      "195/195 [==============================] - 213s 1s/step - loss: 0.0159 - accuracy: 0.9943 - val_loss: 0.0460 - val_accuracy: 0.9871\n",
      "\n",
      "Epoch 00079: val_accuracy did not improve from 0.98842\n",
      "Epoch 80/100\n",
      "195/195 [==============================] - 209s 1s/step - loss: 0.0173 - accuracy: 0.9941 - val_loss: 0.0744 - val_accuracy: 0.9796\n",
      "\n",
      "Epoch 00080: val_accuracy did not improve from 0.98842\n",
      "Epoch 81/100\n",
      "195/195 [==============================] - 210s 1s/step - loss: 0.0164 - accuracy: 0.9943 - val_loss: 0.0554 - val_accuracy: 0.9837\n",
      "\n",
      "Epoch 00081: val_accuracy did not improve from 0.98842\n",
      "Epoch 82/100\n",
      "195/195 [==============================] - 209s 1s/step - loss: 0.0251 - accuracy: 0.9912 - val_loss: 0.0496 - val_accuracy: 0.9866\n",
      "\n",
      "Epoch 00082: val_accuracy did not improve from 0.98842\n",
      "Epoch 83/100\n",
      "195/195 [==============================] - 208s 1s/step - loss: 0.0360 - accuracy: 0.9885 - val_loss: 0.0509 - val_accuracy: 0.9850\n",
      "\n",
      "Epoch 00083: val_accuracy did not improve from 0.98842\n",
      "Epoch 84/100\n",
      "195/195 [==============================] - 210s 1s/step - loss: 0.0191 - accuracy: 0.9945 - val_loss: 0.0453 - val_accuracy: 0.9877\n",
      "\n",
      "Epoch 00084: val_accuracy did not improve from 0.98842\n",
      "Epoch 85/100\n",
      "195/195 [==============================] - 211s 1s/step - loss: 0.0197 - accuracy: 0.9935 - val_loss: 0.0470 - val_accuracy: 0.9866\n",
      "\n",
      "Epoch 00085: val_accuracy did not improve from 0.98842\n",
      "Epoch 86/100\n",
      "195/195 [==============================] - 209s 1s/step - loss: 0.0161 - accuracy: 0.9948 - val_loss: 0.0424 - val_accuracy: 0.9877\n",
      "\n",
      "Epoch 00086: val_accuracy did not improve from 0.98842\n",
      "Epoch 87/100\n",
      "195/195 [==============================] - 211s 1s/step - loss: 0.0143 - accuracy: 0.9955 - val_loss: 0.0430 - val_accuracy: 0.9882\n",
      "\n",
      "Epoch 00087: val_accuracy did not improve from 0.98842\n",
      "Epoch 88/100\n",
      "195/195 [==============================] - 211s 1s/step - loss: 0.0134 - accuracy: 0.9959 - val_loss: 0.0443 - val_accuracy: 0.9877\n",
      "\n",
      "Epoch 00088: val_accuracy did not improve from 0.98842\n",
      "Epoch 89/100\n",
      "195/195 [==============================] - 210s 1s/step - loss: 0.0148 - accuracy: 0.9947 - val_loss: 0.0593 - val_accuracy: 0.9837\n",
      "\n",
      "Epoch 00089: val_accuracy did not improve from 0.98842\n",
      "Epoch 90/100\n",
      "195/195 [==============================] - 214s 1s/step - loss: 0.0138 - accuracy: 0.9959 - val_loss: 0.0426 - val_accuracy: 0.9875\n",
      "\n",
      "Epoch 00090: val_accuracy did not improve from 0.98842\n",
      "Epoch 91/100\n",
      "195/195 [==============================] - 214s 1s/step - loss: 0.0112 - accuracy: 0.9963 - val_loss: 0.0391 - val_accuracy: 0.9886\n",
      "\n",
      "Epoch 00091: val_accuracy improved from 0.98842 to 0.98865, saving model to /content/CNN4Cl1P64C100EpNNVNKf_bestmodel.h5\n",
      "Epoch 92/100\n",
      "195/195 [==============================] - 212s 1s/step - loss: 0.0114 - accuracy: 0.9962 - val_loss: 0.0402 - val_accuracy: 0.9877\n",
      "\n",
      "Epoch 00092: val_accuracy did not improve from 0.98865\n",
      "Epoch 93/100\n",
      "195/195 [==============================] - 212s 1s/step - loss: 0.0112 - accuracy: 0.9959 - val_loss: 0.0459 - val_accuracy: 0.9882\n",
      "\n",
      "Epoch 00093: val_accuracy did not improve from 0.98865\n",
      "Epoch 94/100\n",
      "195/195 [==============================] - 216s 1s/step - loss: 0.0117 - accuracy: 0.9960 - val_loss: 0.0447 - val_accuracy: 0.9864\n",
      "\n",
      "Epoch 00094: val_accuracy did not improve from 0.98865\n",
      "Epoch 95/100\n",
      "195/195 [==============================] - 213s 1s/step - loss: 0.0124 - accuracy: 0.9960 - val_loss: 0.0467 - val_accuracy: 0.9864\n",
      "\n",
      "Epoch 00095: val_accuracy did not improve from 0.98865\n",
      "Epoch 96/100\n",
      "195/195 [==============================] - 214s 1s/step - loss: 0.0110 - accuracy: 0.9964 - val_loss: 0.0490 - val_accuracy: 0.9864\n",
      "\n",
      "Epoch 00096: val_accuracy did not improve from 0.98865\n",
      "Epoch 97/100\n",
      "195/195 [==============================] - 215s 1s/step - loss: 0.0189 - accuracy: 0.9936 - val_loss: 0.0695 - val_accuracy: 0.9802\n",
      "\n",
      "Epoch 00097: val_accuracy did not improve from 0.98865\n",
      "Epoch 98/100\n",
      "195/195 [==============================] - 214s 1s/step - loss: 0.0151 - accuracy: 0.9950 - val_loss: 0.0723 - val_accuracy: 0.9830\n",
      "\n",
      "Epoch 00098: val_accuracy did not improve from 0.98865\n",
      "Epoch 99/100\n",
      "195/195 [==============================] - 211s 1s/step - loss: 0.0169 - accuracy: 0.9946 - val_loss: 0.0479 - val_accuracy: 0.9884\n",
      "\n",
      "Epoch 00099: val_accuracy did not improve from 0.98865\n",
      "Epoch 100/100\n",
      "195/195 [==============================] - 212s 1s/step - loss: 0.0156 - accuracy: 0.9947 - val_loss: 0.0567 - val_accuracy: 0.9843\n",
      "\n",
      "Epoch 00100: val_accuracy did not improve from 0.98865\n"
     ]
    }
   ],
   "source": [
    "start_time = time.time()\n",
    "history = model.fit(X_train, y_train, validation_split=0.15, callbacks=callbacks_list, batch_size=128, epochs=100)\n",
    "end_time = time.time() - start_time"
   ]
  },
  {
   "cell_type": "code",
   "execution_count": 30,
   "id": "wY5RYvv8KC5o",
   "metadata": {
    "id": "wY5RYvv8KC5o"
   },
   "outputs": [],
   "source": [
    "model.save(\"/content/CNN4Cl1P64C100EpNNVNKf_completemodel.h5\")"
   ]
  },
  {
   "cell_type": "code",
   "execution_count": 31,
   "id": "20gkx9EC7i90",
   "metadata": {
    "colab": {
     "base_uri": "https://localhost:8080/"
    },
    "id": "20gkx9EC7i90",
    "outputId": "4d43d7f2-23e1-49f7-bdca-3f92e6bfcbd1"
   },
   "outputs": [
    {
     "name": "stdout",
     "output_type": "stream",
     "text": [
      "Time : 5.86 (h)\n"
     ]
    }
   ],
   "source": [
    "print(\"Time : {:.2f} (h)\".format(end_time/3600))"
   ]
  },
  {
   "cell_type": "code",
   "execution_count": 32,
   "id": "06eea502",
   "metadata": {
    "colab": {
     "base_uri": "https://localhost:8080/",
     "height": 513
    },
    "id": "06eea502",
    "outputId": "03f096bc-cf28-407c-f994-b2fb81ba498f"
   },
   "outputs": [
    {
     "data": {
      "image/png": "[encoded data removed]",
      "text/plain": [
       "<Figure size 720x576 with 1 Axes>"
      ]
     },
     "metadata": {
      "needs_background": "light",
      "tags": []
     },
     "output_type": "display_data"
    }
   ],
   "source": [
    "plotAccuracy(\"Accuracy\")"
   ]
  },
  {
   "cell_type": "code",
   "execution_count": 33,
   "id": "94e1cb61",
   "metadata": {
    "colab": {
     "base_uri": "https://localhost:8080/",
     "height": 513
    },
    "id": "94e1cb61",
    "outputId": "7e6976b7-cf7a-4d7f-af3d-75ad2d5be867"
   },
   "outputs": [
    {
     "data": {
      "image/png": "[encoded data removed]",
      "text/plain": [
       "<Figure size 720x576 with 1 Axes>"
      ]
     },
     "metadata": {
      "needs_background": "light",
      "tags": []
     },
     "output_type": "display_data"
    }
   ],
   "source": [
    "plotLoss(\"Loss\")"
   ]
  },
  {
   "cell_type": "code",
   "execution_count": 34,
   "id": "841a6e03",
   "metadata": {
    "colab": {
     "base_uri": "https://localhost:8080/",
     "height": 501
    },
    "id": "841a6e03",
    "outputId": "636d73e2-bc4b-40ff-ba52-782c0e8089f8",
    "scrolled": true
   },
   "outputs": [
    {
     "data": {
      "image/png": "[encoded data removed]",
      "text/plain": [
       "<Figure size 720x576 with 1 Axes>"
      ]
     },
     "metadata": {
      "needs_background": "light",
      "tags": []
     },
     "output_type": "display_data"
    }
   ],
   "source": [
    "plot_Experiment(history,1.2)"
   ]
  },
  {
   "cell_type": "markdown",
   "id": "15c9230c",
   "metadata": {
    "id": "15c9230c"
   },
   "source": [
    "# Model Results"
   ]
  },
  {
   "cell_type": "code",
   "execution_count": 35,
   "id": "5e267be3",
   "metadata": {
    "id": "5e267be3"
   },
   "outputs": [],
   "source": [
    "X_test = tf.reshape(X_test, (X_test.shape[0],8,8))\n",
    "y_test = tf.reshape(y_test, (y_test.shape[0],1))\n",
    "X_test = tf.expand_dims(X_test, axis=-1)"
   ]
  },
  {
   "cell_type": "code",
   "execution_count": 36,
   "id": "ef67517e",
   "metadata": {
    "colab": {
     "base_uri": "https://localhost:8080/"
    },
    "id": "ef67517e",
    "outputId": "8f10c4c4-2988-4465-b6ce-44a67abd2345"
   },
   "outputs": [
    {
     "name": "stdout",
     "output_type": "stream",
     "text": [
      "58/58 [==============================] - 13s 229ms/step - loss: 0.0905 - accuracy: 0.9826\n",
      "['loss', 'accuracy']\n",
      "Baseline: accuracy: 98.26%: loss: 0.09\n"
     ]
    }
   ],
   "source": [
    "scores = model.evaluate(X_test, y_test, batch_size=128)\n",
    "print(model.metrics_names)\n",
    "acc, loss = scores[1]*100, scores[0]\n",
    "print('Baseline: accuracy: {:.2f}%: loss: {:.2f}'.format(acc, loss))"
   ]
  },
  {
   "cell_type": "markdown",
   "id": "08019848",
   "metadata": {
    "id": "08019848"
   },
   "source": [
    "## Generate predictions from the model"
   ]
  },
  {
   "cell_type": "code",
   "execution_count": 37,
   "id": "6c8bcff7",
   "metadata": {
    "id": "6c8bcff7"
   },
   "outputs": [],
   "source": [
    "predictions = np.argmax(model.predict(X_test), axis=1)"
   ]
  },
  {
   "cell_type": "markdown",
   "id": "d641ad40",
   "metadata": {
    "id": "d641ad40"
   },
   "source": [
    "## Confusion Matrix"
   ]
  },
  {
   "cell_type": "code",
   "execution_count": 38,
   "id": "eb5b709a",
   "metadata": {
    "colab": {
     "base_uri": "https://localhost:8080/",
     "height": 283
    },
    "id": "eb5b709a",
    "outputId": "23b619c2-7b8b-4f01-aaad-8af415ddfd69"
   },
   "outputs": [
    {
     "data": {
      "text/plain": [
       "<matplotlib.axes._subplots.AxesSubplot at 0x7f0520594810>"
      ]
     },
     "execution_count": 38,
     "metadata": {
      "tags": []
     },
     "output_type": "execute_result"
    },
    {
     "data": {
      "image/png": "[encoded data removed]",
      "text/plain": [
       "<Figure size 432x288 with 2 Axes>"
      ]
     },
     "metadata": {
      "needs_background": "light",
      "tags": []
     },
     "output_type": "display_data"
    }
   ],
   "source": [
    "cm = confusion_matrix(y_test, predictions)\n",
    "sn.heatmap(cm, annot=True, fmt='g', cmap='Blues', xticklabels=['Benign','Malicious'],\n",
    "           yticklabels=['Benign', 'Malicious'])"
   ]
  },
  {
   "cell_type": "code",
   "execution_count": 41,
   "id": "9b15a937",
   "metadata": {
    "colab": {
     "base_uri": "https://localhost:8080/",
     "height": 985
    },
    "id": "9b15a937",
    "outputId": "c6e26e9a-c8b1-4ae9-f629-43d4799bc084"
   },
   "outputs": [
    {
     "name": "stderr",
     "output_type": "stream",
     "text": [
      "/usr/local/lib/python3.7/dist-packages/tensorflow/python/keras/engine/sequential.py:430: UserWarning: `model.predict_proba()` is deprecated and will be removed after 2021-01-01. Please use `model.predict()` instead.\n",
      "  warnings.warn('`model.predict_proba()` is deprecated and '\n"
     ]
    },
    {
     "name": "stdout",
     "output_type": "stream",
     "text": [
      "[1.5298408e-04 9.9984694e-01]\n",
      "CNN 2d  : ROC AUC=99.62 %\n"
     ]
    },
    {
     "data": {
      "image/png": "[encoded data removed]",
      "text/plain": [
       "<Figure size 1080x1080 with 1 Axes>"
      ]
     },
     "metadata": {
      "needs_background": "light",
      "tags": []
     },
     "output_type": "display_data"
    }
   ],
   "source": [
    "aucPlot(model, X_test, y_test, 'CNN 2d')"
   ]
  },
  {
   "cell_type": "markdown",
   "id": "GEHYjAKZJ39a",
   "metadata": {
    "id": "GEHYjAKZJ39a"
   },
   "source": [
    "# Testing model with the best validation accuracy"
   ]
  },
  {
   "cell_type": "code",
   "execution_count": 42,
   "id": "fU9ryawjvk2u",
   "metadata": {
    "id": "fU9ryawjvk2u"
   },
   "outputs": [],
   "source": [
    "#Load model with the best accuracy\n",
    "\n",
    "from tensorflow.keras.models import load_model\n",
    "model_f = load_model(save_dir)"
   ]
  },
  {
   "cell_type": "code",
   "execution_count": 43,
   "id": "GBM5gA2ZKDAQ",
   "metadata": {
    "colab": {
     "base_uri": "https://localhost:8080/"
    },
    "id": "GBM5gA2ZKDAQ",
    "outputId": "4652f8d0-5205-40fb-9283-36db9950cdec"
   },
   "outputs": [
    {
     "name": "stdout",
     "output_type": "stream",
     "text": [
      "58/58 [==============================] - 14s 231ms/step - loss: 0.0834 - accuracy: 0.9847\n",
      "['loss', 'accuracy']\n",
      "Baseline: accuracy: 98.47%: loss: 0.08\n"
     ]
    }
   ],
   "source": [
    "scores = model_f.evaluate(X_test, y_test, batch_size=128)\n",
    "print(model_f.metrics_names)\n",
    "acc, loss = scores[1]*100, scores[0]\n",
    "print('Baseline: accuracy: {:.2f}%: loss: {:.2f}'.format(acc, loss))"
   ]
  },
  {
   "cell_type": "code",
   "execution_count": 44,
   "id": "gwmU2uFEKGpi",
   "metadata": {
    "id": "gwmU2uFEKGpi"
   },
   "outputs": [],
   "source": [
    "predictions = np.argmax(model_f.predict(X_test), axis=1)"
   ]
  },
  {
   "cell_type": "code",
   "execution_count": 45,
   "id": "bKnhiZL-KKv6",
   "metadata": {
    "colab": {
     "base_uri": "https://localhost:8080/",
     "height": 283
    },
    "id": "bKnhiZL-KKv6",
    "outputId": "b8b5af98-3d6d-4d30-e7b0-7dfcb4d967db"
   },
   "outputs": [
    {
     "data": {
      "text/plain": [
       "<matplotlib.axes._subplots.AxesSubplot at 0x7f051ca0cfd0>"
      ]
     },
     "execution_count": 45,
     "metadata": {
      "tags": []
     },
     "output_type": "execute_result"
    },
    {
     "data": {
      "image/png": "[encoded data removed]",
      "text/plain": [
       "<Figure size 432x288 with 2 Axes>"
      ]
     },
     "metadata": {
      "needs_background": "light",
      "tags": []
     },
     "output_type": "display_data"
    }
   ],
   "source": [
    "cm = confusion_matrix(y_test, predictions)\n",
    "sn.heatmap(cm, annot=True, fmt='g', cmap='Blues', xticklabels=['Benign','Malicious'],\n",
    "           yticklabels=['Benign', 'Malicious'])"
   ]
  },
  {
   "cell_type": "code",
   "execution_count": 46,
   "id": "AwhZs28JKNHF",
   "metadata": {
    "colab": {
     "base_uri": "https://localhost:8080/",
     "height": 985
    },
    "id": "AwhZs28JKNHF",
    "outputId": "ffd3298d-d922-4e55-b9e3-f8e69bfd1492"
   },
   "outputs": [
    {
     "name": "stderr",
     "output_type": "stream",
     "text": [
      "/usr/local/lib/python3.7/dist-packages/tensorflow/python/keras/engine/sequential.py:430: UserWarning: `model.predict_proba()` is deprecated and will be removed after 2021-01-01. Please use `model.predict()` instead.\n",
      "  warnings.warn('`model.predict_proba()` is deprecated and '\n"
     ]
    },
    {
     "name": "stdout",
     "output_type": "stream",
     "text": [
      "[2.8196082e-05 9.9997175e-01]\n",
      "CNN 2d  : ROC AUC=99.63 %\n"
     ]
    },
    {
     "data": {
      "image/png": "[encoded data removed]",
      "text/plain": [
       "<Figure size 1080x1080 with 1 Axes>"
      ]
     },
     "metadata": {
      "needs_background": "light",
      "tags": []
     },
     "output_type": "display_data"
    }
   ],
   "source": [
    "aucPlot(model_f, X_test, y_test, 'CNN 2d')"
   ]
  },
  {
   "cell_type": "code",
   "execution_count": null,
   "id": "npf_3FDuwRXq",
   "metadata": {
    "id": "npf_3FDuwRXq"
   },
   "outputs": [],
   "source": []
  }
 ],
 "metadata": {
  "colab": {
   "collapsed_sections": [],
   "name": "CNN4Cl1P64C200EpNNVNKf_binary.ipynb",
   "provenance": []
  },
  "kernelspec": {
   "display_name": "Python 3",
   "language": "python",
   "name": "python3"
  },
  "language_info": {
   "codemirror_mode": {
    "name": "ipython",
    "version": 3
   },
   "file_extension": ".py",
   "mimetype": "text/x-python",
   "name": "python",
   "nbconvert_exporter": "python",
   "pygments_lexer": "ipython3",
   "version": "3.8.10"
  }
 },
 "nbformat": 4,
 "nbformat_minor": 5
}
