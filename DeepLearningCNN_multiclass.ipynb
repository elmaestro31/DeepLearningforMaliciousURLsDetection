{
 "cells": [
  {
   "cell_type": "code",
   "execution_count": 3,
   "id": "55295b0a",
   "metadata": {
    "id": "55295b0a"
   },
   "outputs": [],
   "source": [
    "import time\n",
    "import numpy as np\n",
    "import pandas as pd\n",
    "import seaborn as sn\n",
    "import tensorflow as tf\n",
    "import matplotlib.pyplot as plt\n",
    "from sklearn.utils import shuffle\n",
    "from sklearn.metrics import confusion_matrix, classification_report, accuracy_score, roc_curve, roc_auc_score, auc\n",
    "from sklearn.feature_selection import chi2, SelectKBest\n",
    "from sklearn.model_selection import train_test_split, StratifiedKFold\n",
    "from sklearn.preprocessing import LabelEncoder, MinMaxScaler\n",
    "from tensorflow import keras\n",
    "from tensorflow.keras import callbacks\n",
    "from tensorflow.keras.optimizers import Adam\n",
    "from tensorflow.keras.models import Sequential\n",
    "from tensorflow.keras.layers import Dense, Conv2D, MaxPooling2D, Flatten, Activation, Dropout"
   ]
  },
  {
   "cell_type": "code",
   "execution_count": 4,
   "id": "jrjvlFpLD7zL",
   "metadata": {
    "colab": {
     "base_uri": "https://localhost:8080/",
     "height": 72,
     "resources": {
      "http://localhost:8080/nbextensions/google.colab/files.js": {
       "data": "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",
       "headers": [
        [
         "content-type",
         "application/javascript"
        ]
       ],
       "ok": true,
       "status": 200,
       "status_text": ""
      }
     }
    },
    "id": "jrjvlFpLD7zL",
    "outputId": "68a08025-fd2e-4153-afef-86bcbe4d70b0"
   },
   "outputs": [
    {
     "data": {
      "text/html": [
       "\n",
       "     <input type=\"file\" id=\"files-aaf7901d-b97d-41e8-8129-2f3bfc29a333\" name=\"files[]\" multiple disabled\n",
       "        style=\"border:none\" />\n",
       "     <output id=\"result-aaf7901d-b97d-41e8-8129-2f3bfc29a333\">\n",
       "      Upload widget is only available when the cell has been executed in the\n",
       "      current browser session. Please rerun this cell to enable.\n",
       "      </output>\n",
       "      <script src=\"/nbextensions/google.colab/files.js\"></script> "
      ],
      "text/plain": [
       "<IPython.core.display.HTML object>"
      ]
     },
     "metadata": {
      "tags": []
     },
     "output_type": "display_data"
    },
    {
     "name": "stdout",
     "output_type": "stream",
     "text": [
      "Saving All.csv to All.csv\n"
     ]
    }
   ],
   "source": [
    "from google.colab import files\n",
    "up = files.upload()"
   ]
  },
  {
   "cell_type": "code",
   "execution_count": 5,
   "id": "s4ZyNOmIEaNN",
   "metadata": {
    "id": "s4ZyNOmIEaNN"
   },
   "outputs": [],
   "source": [
    "import io"
   ]
  },
  {
   "cell_type": "markdown",
   "id": "a4e754d9",
   "metadata": {
    "id": "a4e754d9"
   },
   "source": [
    "# Data Pre-processing"
   ]
  },
  {
   "cell_type": "code",
   "execution_count": 6,
   "id": "fd51f032",
   "metadata": {
    "colab": {
     "base_uri": "https://localhost:8080/",
     "height": 241
    },
    "id": "fd51f032",
    "outputId": "41f0a985-6152-440a-b667-824a72451d05",
    "scrolled": true
   },
   "outputs": [
    {
     "data": {
      "text/html": [
       "<div>\n",
       "<style scoped>\n",
       "    .dataframe tbody tr th:only-of-type {\n",
       "        vertical-align: middle;\n",
       "    }\n",
       "\n",
       "    .dataframe tbody tr th {\n",
       "        vertical-align: top;\n",
       "    }\n",
       "\n",
       "    .dataframe thead th {\n",
       "        text-align: right;\n",
       "    }\n",
       "</style>\n",
       "<table border=\"1\" class=\"dataframe\">\n",
       "  <thead>\n",
       "    <tr style=\"text-align: right;\">\n",
       "      <th></th>\n",
       "      <th>Querylength</th>\n",
       "      <th>domain_token_count</th>\n",
       "      <th>path_token_count</th>\n",
       "      <th>avgdomaintokenlen</th>\n",
       "      <th>longdomaintokenlen</th>\n",
       "      <th>avgpathtokenlen</th>\n",
       "      <th>tld</th>\n",
       "      <th>charcompvowels</th>\n",
       "      <th>charcompace</th>\n",
       "      <th>ldl_url</th>\n",
       "      <th>ldl_domain</th>\n",
       "      <th>ldl_path</th>\n",
       "      <th>ldl_filename</th>\n",
       "      <th>ldl_getArg</th>\n",
       "      <th>dld_url</th>\n",
       "      <th>dld_domain</th>\n",
       "      <th>dld_path</th>\n",
       "      <th>dld_filename</th>\n",
       "      <th>dld_getArg</th>\n",
       "      <th>urlLen</th>\n",
       "      <th>domainlength</th>\n",
       "      <th>pathLength</th>\n",
       "      <th>subDirLen</th>\n",
       "      <th>fileNameLen</th>\n",
       "      <th>this.fileExtLen</th>\n",
       "      <th>ArgLen</th>\n",
       "      <th>pathurlRatio</th>\n",
       "      <th>ArgUrlRatio</th>\n",
       "      <th>argDomanRatio</th>\n",
       "      <th>domainUrlRatio</th>\n",
       "      <th>pathDomainRatio</th>\n",
       "      <th>argPathRatio</th>\n",
       "      <th>executable</th>\n",
       "      <th>isPortEighty</th>\n",
       "      <th>NumberofDotsinURL</th>\n",
       "      <th>ISIpAddressInDomainName</th>\n",
       "      <th>CharacterContinuityRate</th>\n",
       "      <th>LongestVariableValue</th>\n",
       "      <th>URL_DigitCount</th>\n",
       "      <th>host_DigitCount</th>\n",
       "      <th>Directory_DigitCount</th>\n",
       "      <th>File_name_DigitCount</th>\n",
       "      <th>Extension_DigitCount</th>\n",
       "      <th>Query_DigitCount</th>\n",
       "      <th>URL_Letter_Count</th>\n",
       "      <th>host_letter_count</th>\n",
       "      <th>Directory_LetterCount</th>\n",
       "      <th>Filename_LetterCount</th>\n",
       "      <th>Extension_LetterCount</th>\n",
       "      <th>Query_LetterCount</th>\n",
       "      <th>LongestPathTokenLength</th>\n",
       "      <th>Domain_LongestWordLength</th>\n",
       "      <th>Path_LongestWordLength</th>\n",
       "      <th>sub-Directory_LongestWordLength</th>\n",
       "      <th>Arguments_LongestWordLength</th>\n",
       "      <th>URL_sensitiveWord</th>\n",
       "      <th>URLQueries_variable</th>\n",
       "      <th>spcharUrl</th>\n",
       "      <th>delimeter_Domain</th>\n",
       "      <th>delimeter_path</th>\n",
       "      <th>delimeter_Count</th>\n",
       "      <th>NumberRate_URL</th>\n",
       "      <th>NumberRate_Domain</th>\n",
       "      <th>NumberRate_DirectoryName</th>\n",
       "      <th>NumberRate_FileName</th>\n",
       "      <th>NumberRate_Extension</th>\n",
       "      <th>NumberRate_AfterPath</th>\n",
       "      <th>SymbolCount_URL</th>\n",
       "      <th>SymbolCount_Domain</th>\n",
       "      <th>SymbolCount_Directoryname</th>\n",
       "      <th>SymbolCount_FileName</th>\n",
       "      <th>SymbolCount_Extension</th>\n",
       "      <th>SymbolCount_Afterpath</th>\n",
       "      <th>Entropy_URL</th>\n",
       "      <th>Entropy_Domain</th>\n",
       "      <th>Entropy_DirectoryName</th>\n",
       "      <th>Entropy_Filename</th>\n",
       "      <th>Entropy_Extension</th>\n",
       "      <th>Entropy_Afterpath</th>\n",
       "      <th>URL_Type_obf_Type</th>\n",
       "    </tr>\n",
       "  </thead>\n",
       "  <tbody>\n",
       "    <tr>\n",
       "      <th>0</th>\n",
       "      <td>0</td>\n",
       "      <td>4</td>\n",
       "      <td>5</td>\n",
       "      <td>5.5</td>\n",
       "      <td>14</td>\n",
       "      <td>4.400000</td>\n",
       "      <td>4</td>\n",
       "      <td>8</td>\n",
       "      <td>3</td>\n",
       "      <td>0</td>\n",
       "      <td>0</td>\n",
       "      <td>0</td>\n",
       "      <td>0</td>\n",
       "      <td>0</td>\n",
       "      <td>0</td>\n",
       "      <td>0</td>\n",
       "      <td>0</td>\n",
       "      <td>0</td>\n",
       "      <td>0</td>\n",
       "      <td>58</td>\n",
       "      <td>25</td>\n",
       "      <td>26</td>\n",
       "      <td>26</td>\n",
       "      <td>13</td>\n",
       "      <td>1</td>\n",
       "      <td>2</td>\n",
       "      <td>0.448276</td>\n",
       "      <td>0.034483</td>\n",
       "      <td>0.08</td>\n",
       "      <td>0.431034</td>\n",
       "      <td>1.04</td>\n",
       "      <td>0.076923</td>\n",
       "      <td>0</td>\n",
       "      <td>-1</td>\n",
       "      <td>5</td>\n",
       "      <td>-1</td>\n",
       "      <td>0.6</td>\n",
       "      <td>-1</td>\n",
       "      <td>1</td>\n",
       "      <td>0</td>\n",
       "      <td>0</td>\n",
       "      <td>0</td>\n",
       "      <td>1</td>\n",
       "      <td>-1</td>\n",
       "      <td>47</td>\n",
       "      <td>22</td>\n",
       "      <td>8</td>\n",
       "      <td>13</td>\n",
       "      <td>0</td>\n",
       "      <td>-1</td>\n",
       "      <td>13</td>\n",
       "      <td>14</td>\n",
       "      <td>13</td>\n",
       "      <td>5</td>\n",
       "      <td>-1</td>\n",
       "      <td>0</td>\n",
       "      <td>0</td>\n",
       "      <td>3</td>\n",
       "      <td>0</td>\n",
       "      <td>2</td>\n",
       "      <td>-1</td>\n",
       "      <td>0.017241</td>\n",
       "      <td>0.0</td>\n",
       "      <td>0.0</td>\n",
       "      <td>0.066667</td>\n",
       "      <td>1.0</td>\n",
       "      <td>-1.0</td>\n",
       "      <td>8</td>\n",
       "      <td>3</td>\n",
       "      <td>2</td>\n",
       "      <td>1</td>\n",
       "      <td>0</td>\n",
       "      <td>-1</td>\n",
       "      <td>0.726298</td>\n",
       "      <td>0.784493</td>\n",
       "      <td>0.894886</td>\n",
       "      <td>0.850608</td>\n",
       "      <td>NaN</td>\n",
       "      <td>-1.0</td>\n",
       "      <td>Defacement</td>\n",
       "    </tr>\n",
       "    <tr>\n",
       "      <th>1</th>\n",
       "      <td>0</td>\n",
       "      <td>4</td>\n",
       "      <td>5</td>\n",
       "      <td>5.5</td>\n",
       "      <td>14</td>\n",
       "      <td>6.000000</td>\n",
       "      <td>4</td>\n",
       "      <td>12</td>\n",
       "      <td>4</td>\n",
       "      <td>0</td>\n",
       "      <td>0</td>\n",
       "      <td>0</td>\n",
       "      <td>0</td>\n",
       "      <td>0</td>\n",
       "      <td>0</td>\n",
       "      <td>0</td>\n",
       "      <td>0</td>\n",
       "      <td>0</td>\n",
       "      <td>0</td>\n",
       "      <td>66</td>\n",
       "      <td>25</td>\n",
       "      <td>34</td>\n",
       "      <td>34</td>\n",
       "      <td>2</td>\n",
       "      <td>2</td>\n",
       "      <td>2</td>\n",
       "      <td>0.515151</td>\n",
       "      <td>0.030303</td>\n",
       "      <td>0.08</td>\n",
       "      <td>0.378788</td>\n",
       "      <td>1.36</td>\n",
       "      <td>0.058824</td>\n",
       "      <td>0</td>\n",
       "      <td>-1</td>\n",
       "      <td>4</td>\n",
       "      <td>-1</td>\n",
       "      <td>0.6</td>\n",
       "      <td>-1</td>\n",
       "      <td>0</td>\n",
       "      <td>0</td>\n",
       "      <td>0</td>\n",
       "      <td>0</td>\n",
       "      <td>0</td>\n",
       "      <td>-1</td>\n",
       "      <td>56</td>\n",
       "      <td>22</td>\n",
       "      <td>8</td>\n",
       "      <td>13</td>\n",
       "      <td>9</td>\n",
       "      <td>-1</td>\n",
       "      <td>13</td>\n",
       "      <td>14</td>\n",
       "      <td>13</td>\n",
       "      <td>5</td>\n",
       "      <td>-1</td>\n",
       "      <td>0</td>\n",
       "      <td>0</td>\n",
       "      <td>4</td>\n",
       "      <td>0</td>\n",
       "      <td>1</td>\n",
       "      <td>-1</td>\n",
       "      <td>0.000000</td>\n",
       "      <td>0.0</td>\n",
       "      <td>0.0</td>\n",
       "      <td>0.000000</td>\n",
       "      <td>NaN</td>\n",
       "      <td>-1.0</td>\n",
       "      <td>8</td>\n",
       "      <td>3</td>\n",
       "      <td>3</td>\n",
       "      <td>0</td>\n",
       "      <td>0</td>\n",
       "      <td>-1</td>\n",
       "      <td>0.688635</td>\n",
       "      <td>0.784493</td>\n",
       "      <td>0.814725</td>\n",
       "      <td>0.859793</td>\n",
       "      <td>0.0</td>\n",
       "      <td>-1.0</td>\n",
       "      <td>Defacement</td>\n",
       "    </tr>\n",
       "    <tr>\n",
       "      <th>2</th>\n",
       "      <td>0</td>\n",
       "      <td>4</td>\n",
       "      <td>5</td>\n",
       "      <td>5.5</td>\n",
       "      <td>14</td>\n",
       "      <td>5.800000</td>\n",
       "      <td>4</td>\n",
       "      <td>12</td>\n",
       "      <td>5</td>\n",
       "      <td>0</td>\n",
       "      <td>0</td>\n",
       "      <td>0</td>\n",
       "      <td>0</td>\n",
       "      <td>0</td>\n",
       "      <td>0</td>\n",
       "      <td>0</td>\n",
       "      <td>0</td>\n",
       "      <td>0</td>\n",
       "      <td>0</td>\n",
       "      <td>65</td>\n",
       "      <td>25</td>\n",
       "      <td>33</td>\n",
       "      <td>33</td>\n",
       "      <td>2</td>\n",
       "      <td>2</td>\n",
       "      <td>2</td>\n",
       "      <td>0.507692</td>\n",
       "      <td>0.030769</td>\n",
       "      <td>0.08</td>\n",
       "      <td>0.384615</td>\n",
       "      <td>1.32</td>\n",
       "      <td>0.060606</td>\n",
       "      <td>0</td>\n",
       "      <td>-1</td>\n",
       "      <td>4</td>\n",
       "      <td>-1</td>\n",
       "      <td>0.6</td>\n",
       "      <td>-1</td>\n",
       "      <td>0</td>\n",
       "      <td>0</td>\n",
       "      <td>0</td>\n",
       "      <td>0</td>\n",
       "      <td>0</td>\n",
       "      <td>-1</td>\n",
       "      <td>55</td>\n",
       "      <td>22</td>\n",
       "      <td>8</td>\n",
       "      <td>13</td>\n",
       "      <td>8</td>\n",
       "      <td>-1</td>\n",
       "      <td>13</td>\n",
       "      <td>14</td>\n",
       "      <td>13</td>\n",
       "      <td>5</td>\n",
       "      <td>-1</td>\n",
       "      <td>0</td>\n",
       "      <td>0</td>\n",
       "      <td>4</td>\n",
       "      <td>0</td>\n",
       "      <td>1</td>\n",
       "      <td>-1</td>\n",
       "      <td>0.000000</td>\n",
       "      <td>0.0</td>\n",
       "      <td>0.0</td>\n",
       "      <td>0.000000</td>\n",
       "      <td>NaN</td>\n",
       "      <td>-1.0</td>\n",
       "      <td>8</td>\n",
       "      <td>3</td>\n",
       "      <td>3</td>\n",
       "      <td>0</td>\n",
       "      <td>0</td>\n",
       "      <td>-1</td>\n",
       "      <td>0.695049</td>\n",
       "      <td>0.784493</td>\n",
       "      <td>0.814725</td>\n",
       "      <td>0.801880</td>\n",
       "      <td>0.0</td>\n",
       "      <td>-1.0</td>\n",
       "      <td>Defacement</td>\n",
       "    </tr>\n",
       "    <tr>\n",
       "      <th>3</th>\n",
       "      <td>0</td>\n",
       "      <td>4</td>\n",
       "      <td>12</td>\n",
       "      <td>5.5</td>\n",
       "      <td>14</td>\n",
       "      <td>5.500000</td>\n",
       "      <td>4</td>\n",
       "      <td>32</td>\n",
       "      <td>16</td>\n",
       "      <td>0</td>\n",
       "      <td>0</td>\n",
       "      <td>0</td>\n",
       "      <td>0</td>\n",
       "      <td>0</td>\n",
       "      <td>0</td>\n",
       "      <td>0</td>\n",
       "      <td>0</td>\n",
       "      <td>0</td>\n",
       "      <td>0</td>\n",
       "      <td>109</td>\n",
       "      <td>25</td>\n",
       "      <td>77</td>\n",
       "      <td>77</td>\n",
       "      <td>2</td>\n",
       "      <td>2</td>\n",
       "      <td>2</td>\n",
       "      <td>0.706422</td>\n",
       "      <td>0.018349</td>\n",
       "      <td>0.08</td>\n",
       "      <td>0.229358</td>\n",
       "      <td>3.08</td>\n",
       "      <td>0.025974</td>\n",
       "      <td>0</td>\n",
       "      <td>-1</td>\n",
       "      <td>4</td>\n",
       "      <td>-1</td>\n",
       "      <td>0.6</td>\n",
       "      <td>-1</td>\n",
       "      <td>0</td>\n",
       "      <td>0</td>\n",
       "      <td>0</td>\n",
       "      <td>0</td>\n",
       "      <td>0</td>\n",
       "      <td>-1</td>\n",
       "      <td>92</td>\n",
       "      <td>22</td>\n",
       "      <td>8</td>\n",
       "      <td>13</td>\n",
       "      <td>45</td>\n",
       "      <td>-1</td>\n",
       "      <td>52</td>\n",
       "      <td>14</td>\n",
       "      <td>13</td>\n",
       "      <td>13</td>\n",
       "      <td>-1</td>\n",
       "      <td>0</td>\n",
       "      <td>0</td>\n",
       "      <td>4</td>\n",
       "      <td>0</td>\n",
       "      <td>8</td>\n",
       "      <td>-1</td>\n",
       "      <td>0.000000</td>\n",
       "      <td>0.0</td>\n",
       "      <td>0.0</td>\n",
       "      <td>0.000000</td>\n",
       "      <td>NaN</td>\n",
       "      <td>-1.0</td>\n",
       "      <td>8</td>\n",
       "      <td>3</td>\n",
       "      <td>3</td>\n",
       "      <td>0</td>\n",
       "      <td>0</td>\n",
       "      <td>-1</td>\n",
       "      <td>0.640130</td>\n",
       "      <td>0.784493</td>\n",
       "      <td>0.814725</td>\n",
       "      <td>0.663210</td>\n",
       "      <td>0.0</td>\n",
       "      <td>-1.0</td>\n",
       "      <td>Defacement</td>\n",
       "    </tr>\n",
       "    <tr>\n",
       "      <th>4</th>\n",
       "      <td>0</td>\n",
       "      <td>4</td>\n",
       "      <td>6</td>\n",
       "      <td>5.5</td>\n",
       "      <td>14</td>\n",
       "      <td>7.333334</td>\n",
       "      <td>4</td>\n",
       "      <td>18</td>\n",
       "      <td>11</td>\n",
       "      <td>0</td>\n",
       "      <td>0</td>\n",
       "      <td>0</td>\n",
       "      <td>0</td>\n",
       "      <td>0</td>\n",
       "      <td>0</td>\n",
       "      <td>0</td>\n",
       "      <td>0</td>\n",
       "      <td>0</td>\n",
       "      <td>0</td>\n",
       "      <td>81</td>\n",
       "      <td>25</td>\n",
       "      <td>49</td>\n",
       "      <td>49</td>\n",
       "      <td>2</td>\n",
       "      <td>2</td>\n",
       "      <td>2</td>\n",
       "      <td>0.604938</td>\n",
       "      <td>0.024691</td>\n",
       "      <td>0.08</td>\n",
       "      <td>0.308642</td>\n",
       "      <td>1.96</td>\n",
       "      <td>0.040816</td>\n",
       "      <td>0</td>\n",
       "      <td>-1</td>\n",
       "      <td>4</td>\n",
       "      <td>-1</td>\n",
       "      <td>0.6</td>\n",
       "      <td>-1</td>\n",
       "      <td>0</td>\n",
       "      <td>0</td>\n",
       "      <td>0</td>\n",
       "      <td>0</td>\n",
       "      <td>0</td>\n",
       "      <td>-1</td>\n",
       "      <td>70</td>\n",
       "      <td>22</td>\n",
       "      <td>8</td>\n",
       "      <td>13</td>\n",
       "      <td>23</td>\n",
       "      <td>-1</td>\n",
       "      <td>24</td>\n",
       "      <td>14</td>\n",
       "      <td>13</td>\n",
       "      <td>13</td>\n",
       "      <td>-1</td>\n",
       "      <td>0</td>\n",
       "      <td>0</td>\n",
       "      <td>4</td>\n",
       "      <td>0</td>\n",
       "      <td>2</td>\n",
       "      <td>-1</td>\n",
       "      <td>0.000000</td>\n",
       "      <td>0.0</td>\n",
       "      <td>0.0</td>\n",
       "      <td>0.000000</td>\n",
       "      <td>NaN</td>\n",
       "      <td>-1.0</td>\n",
       "      <td>8</td>\n",
       "      <td>3</td>\n",
       "      <td>3</td>\n",
       "      <td>0</td>\n",
       "      <td>0</td>\n",
       "      <td>-1</td>\n",
       "      <td>0.681307</td>\n",
       "      <td>0.784493</td>\n",
       "      <td>0.814725</td>\n",
       "      <td>0.804526</td>\n",
       "      <td>0.0</td>\n",
       "      <td>-1.0</td>\n",
       "      <td>Defacement</td>\n",
       "    </tr>\n",
       "  </tbody>\n",
       "</table>\n",
       "</div>"
      ],
      "text/plain": [
       "   Querylength  domain_token_count  ...  Entropy_Afterpath  URL_Type_obf_Type\n",
       "0            0                   4  ...               -1.0         Defacement\n",
       "1            0                   4  ...               -1.0         Defacement\n",
       "2            0                   4  ...               -1.0         Defacement\n",
       "3            0                   4  ...               -1.0         Defacement\n",
       "4            0                   4  ...               -1.0         Defacement\n",
       "\n",
       "[5 rows x 80 columns]"
      ]
     },
     "execution_count": 6,
     "metadata": {
      "tags": []
     },
     "output_type": "execute_result"
    }
   ],
   "source": [
    "dataset = pd.read_csv(io.BytesIO(up['All.csv']))\n",
    "dataset.head()"
   ]
  },
  {
   "cell_type": "code",
   "execution_count": 7,
   "id": "2549243d",
   "metadata": {
    "colab": {
     "base_uri": "https://localhost:8080/",
     "height": 282
    },
    "id": "2549243d",
    "outputId": "1f459f31-5cbd-48e1-f7fe-a12908e63b4f"
   },
   "outputs": [
    {
     "data": {
      "text/plain": [
       "<matplotlib.axes._subplots.AxesSubplot at 0x7fe38db58550>"
      ]
     },
     "execution_count": 7,
     "metadata": {
      "tags": []
     },
     "output_type": "execute_result"
    },
    {
     "data": {
      "image/png": "[encoded data removed]",
      "text/plain": [
       "<Figure size 432x288 with 1 Axes>"
      ]
     },
     "metadata": {
      "needs_background": "light",
      "tags": []
     },
     "output_type": "display_data"
    }
   ],
   "source": [
    "dataset['URL_Type_obf_Type'].value_counts().plot(kind = 'barh')"
   ]
  },
  {
   "cell_type": "code",
   "execution_count": 8,
   "id": "67a99204",
   "metadata": {
    "colab": {
     "base_uri": "https://localhost:8080/"
    },
    "id": "67a99204",
    "outputId": "587c6cae-50b0-4bde-d894-8859f48cfd90"
   },
   "outputs": [
    {
     "name": "stdout",
     "output_type": "stream",
     "text": [
      "Querylength                       0\n",
      "domain_token_count                4\n",
      "path_token_count                  5\n",
      "avgdomaintokenlen               5.5\n",
      "longdomaintokenlen               14\n",
      "                            ...    \n",
      "Entropy_DirectoryName      0.894886\n",
      "Entropy_Filename           0.850608\n",
      "Entropy_Extension               NaN\n",
      "Entropy_Afterpath                -1\n",
      "URL_Type_obf_Type        Defacement\n",
      "Name: 0, Length: 80, dtype: object\n"
     ]
    }
   ],
   "source": [
    "print(dataset.iloc[0])"
   ]
  },
  {
   "cell_type": "code",
   "execution_count": 9,
   "id": "37e2ec65",
   "metadata": {
    "colab": {
     "base_uri": "https://localhost:8080/"
    },
    "id": "37e2ec65",
    "outputId": "cad37005-b2a2-49d3-e53f-83b602e2440b",
    "scrolled": true
   },
   "outputs": [
    {
     "name": "stdout",
     "output_type": "stream",
     "text": [
      "Defacement    7930\n",
      "benign        7781\n",
      "phishing      7586\n",
      "malware       6712\n",
      "spam          6698\n",
      "Name: URL_Type_obf_Type, dtype: int64\n"
     ]
    }
   ],
   "source": [
    "lb = 'URL_Type_obf_Type'\n",
    "print(dataset[lb].value_counts())"
   ]
  },
  {
   "cell_type": "code",
   "execution_count": 10,
   "id": "19912bbb",
   "metadata": {
    "colab": {
     "base_uri": "https://localhost:8080/",
     "height": 241
    },
    "id": "19912bbb",
    "outputId": "bf9ff51f-fa93-4660-bcd8-c30254a8a4da"
   },
   "outputs": [
    {
     "data": {
      "text/html": [
       "<div>\n",
       "<style scoped>\n",
       "    .dataframe tbody tr th:only-of-type {\n",
       "        vertical-align: middle;\n",
       "    }\n",
       "\n",
       "    .dataframe tbody tr th {\n",
       "        vertical-align: top;\n",
       "    }\n",
       "\n",
       "    .dataframe thead th {\n",
       "        text-align: right;\n",
       "    }\n",
       "</style>\n",
       "<table border=\"1\" class=\"dataframe\">\n",
       "  <thead>\n",
       "    <tr style=\"text-align: right;\">\n",
       "      <th></th>\n",
       "      <th>Querylength</th>\n",
       "      <th>domain_token_count</th>\n",
       "      <th>path_token_count</th>\n",
       "      <th>avgdomaintokenlen</th>\n",
       "      <th>longdomaintokenlen</th>\n",
       "      <th>tld</th>\n",
       "      <th>charcompvowels</th>\n",
       "      <th>charcompace</th>\n",
       "      <th>ldl_url</th>\n",
       "      <th>ldl_domain</th>\n",
       "      <th>ldl_path</th>\n",
       "      <th>ldl_filename</th>\n",
       "      <th>ldl_getArg</th>\n",
       "      <th>dld_url</th>\n",
       "      <th>dld_domain</th>\n",
       "      <th>dld_path</th>\n",
       "      <th>dld_filename</th>\n",
       "      <th>dld_getArg</th>\n",
       "      <th>urlLen</th>\n",
       "      <th>domainlength</th>\n",
       "      <th>pathLength</th>\n",
       "      <th>subDirLen</th>\n",
       "      <th>fileNameLen</th>\n",
       "      <th>this.fileExtLen</th>\n",
       "      <th>ArgLen</th>\n",
       "      <th>pathurlRatio</th>\n",
       "      <th>ArgUrlRatio</th>\n",
       "      <th>argDomanRatio</th>\n",
       "      <th>domainUrlRatio</th>\n",
       "      <th>pathDomainRatio</th>\n",
       "      <th>argPathRatio</th>\n",
       "      <th>executable</th>\n",
       "      <th>isPortEighty</th>\n",
       "      <th>NumberofDotsinURL</th>\n",
       "      <th>ISIpAddressInDomainName</th>\n",
       "      <th>CharacterContinuityRate</th>\n",
       "      <th>LongestVariableValue</th>\n",
       "      <th>URL_DigitCount</th>\n",
       "      <th>host_DigitCount</th>\n",
       "      <th>Directory_DigitCount</th>\n",
       "      <th>File_name_DigitCount</th>\n",
       "      <th>Extension_DigitCount</th>\n",
       "      <th>Query_DigitCount</th>\n",
       "      <th>URL_Letter_Count</th>\n",
       "      <th>host_letter_count</th>\n",
       "      <th>Directory_LetterCount</th>\n",
       "      <th>Filename_LetterCount</th>\n",
       "      <th>Extension_LetterCount</th>\n",
       "      <th>Query_LetterCount</th>\n",
       "      <th>LongestPathTokenLength</th>\n",
       "      <th>Domain_LongestWordLength</th>\n",
       "      <th>Path_LongestWordLength</th>\n",
       "      <th>sub-Directory_LongestWordLength</th>\n",
       "      <th>Arguments_LongestWordLength</th>\n",
       "      <th>URL_sensitiveWord</th>\n",
       "      <th>URLQueries_variable</th>\n",
       "      <th>spcharUrl</th>\n",
       "      <th>delimeter_Domain</th>\n",
       "      <th>delimeter_path</th>\n",
       "      <th>delimeter_Count</th>\n",
       "      <th>NumberRate_URL</th>\n",
       "      <th>NumberRate_Domain</th>\n",
       "      <th>SymbolCount_URL</th>\n",
       "      <th>SymbolCount_Domain</th>\n",
       "      <th>SymbolCount_Directoryname</th>\n",
       "      <th>SymbolCount_FileName</th>\n",
       "      <th>SymbolCount_Extension</th>\n",
       "      <th>SymbolCount_Afterpath</th>\n",
       "      <th>Entropy_URL</th>\n",
       "      <th>Entropy_Domain</th>\n",
       "      <th>URL_Type_obf_Type</th>\n",
       "    </tr>\n",
       "  </thead>\n",
       "  <tbody>\n",
       "    <tr>\n",
       "      <th>0</th>\n",
       "      <td>0</td>\n",
       "      <td>4</td>\n",
       "      <td>5</td>\n",
       "      <td>5.5</td>\n",
       "      <td>14</td>\n",
       "      <td>4</td>\n",
       "      <td>8</td>\n",
       "      <td>3</td>\n",
       "      <td>0</td>\n",
       "      <td>0</td>\n",
       "      <td>0</td>\n",
       "      <td>0</td>\n",
       "      <td>0</td>\n",
       "      <td>0</td>\n",
       "      <td>0</td>\n",
       "      <td>0</td>\n",
       "      <td>0</td>\n",
       "      <td>0</td>\n",
       "      <td>58</td>\n",
       "      <td>25</td>\n",
       "      <td>26</td>\n",
       "      <td>26</td>\n",
       "      <td>13</td>\n",
       "      <td>1</td>\n",
       "      <td>2</td>\n",
       "      <td>0.448276</td>\n",
       "      <td>0.034483</td>\n",
       "      <td>0.08</td>\n",
       "      <td>0.431034</td>\n",
       "      <td>1.04</td>\n",
       "      <td>0.076923</td>\n",
       "      <td>0</td>\n",
       "      <td>-1</td>\n",
       "      <td>5</td>\n",
       "      <td>-1</td>\n",
       "      <td>0.6</td>\n",
       "      <td>-1</td>\n",
       "      <td>1</td>\n",
       "      <td>0</td>\n",
       "      <td>0</td>\n",
       "      <td>0</td>\n",
       "      <td>1</td>\n",
       "      <td>-1</td>\n",
       "      <td>47</td>\n",
       "      <td>22</td>\n",
       "      <td>8</td>\n",
       "      <td>13</td>\n",
       "      <td>0</td>\n",
       "      <td>-1</td>\n",
       "      <td>13</td>\n",
       "      <td>14</td>\n",
       "      <td>13</td>\n",
       "      <td>5</td>\n",
       "      <td>-1</td>\n",
       "      <td>0</td>\n",
       "      <td>0</td>\n",
       "      <td>3</td>\n",
       "      <td>0</td>\n",
       "      <td>2</td>\n",
       "      <td>-1</td>\n",
       "      <td>0.017241</td>\n",
       "      <td>0.0</td>\n",
       "      <td>8</td>\n",
       "      <td>3</td>\n",
       "      <td>2</td>\n",
       "      <td>1</td>\n",
       "      <td>0</td>\n",
       "      <td>-1</td>\n",
       "      <td>0.726298</td>\n",
       "      <td>0.784493</td>\n",
       "      <td>Defacement</td>\n",
       "    </tr>\n",
       "    <tr>\n",
       "      <th>1</th>\n",
       "      <td>0</td>\n",
       "      <td>4</td>\n",
       "      <td>5</td>\n",
       "      <td>5.5</td>\n",
       "      <td>14</td>\n",
       "      <td>4</td>\n",
       "      <td>12</td>\n",
       "      <td>4</td>\n",
       "      <td>0</td>\n",
       "      <td>0</td>\n",
       "      <td>0</td>\n",
       "      <td>0</td>\n",
       "      <td>0</td>\n",
       "      <td>0</td>\n",
       "      <td>0</td>\n",
       "      <td>0</td>\n",
       "      <td>0</td>\n",
       "      <td>0</td>\n",
       "      <td>66</td>\n",
       "      <td>25</td>\n",
       "      <td>34</td>\n",
       "      <td>34</td>\n",
       "      <td>2</td>\n",
       "      <td>2</td>\n",
       "      <td>2</td>\n",
       "      <td>0.515151</td>\n",
       "      <td>0.030303</td>\n",
       "      <td>0.08</td>\n",
       "      <td>0.378788</td>\n",
       "      <td>1.36</td>\n",
       "      <td>0.058824</td>\n",
       "      <td>0</td>\n",
       "      <td>-1</td>\n",
       "      <td>4</td>\n",
       "      <td>-1</td>\n",
       "      <td>0.6</td>\n",
       "      <td>-1</td>\n",
       "      <td>0</td>\n",
       "      <td>0</td>\n",
       "      <td>0</td>\n",
       "      <td>0</td>\n",
       "      <td>0</td>\n",
       "      <td>-1</td>\n",
       "      <td>56</td>\n",
       "      <td>22</td>\n",
       "      <td>8</td>\n",
       "      <td>13</td>\n",
       "      <td>9</td>\n",
       "      <td>-1</td>\n",
       "      <td>13</td>\n",
       "      <td>14</td>\n",
       "      <td>13</td>\n",
       "      <td>5</td>\n",
       "      <td>-1</td>\n",
       "      <td>0</td>\n",
       "      <td>0</td>\n",
       "      <td>4</td>\n",
       "      <td>0</td>\n",
       "      <td>1</td>\n",
       "      <td>-1</td>\n",
       "      <td>0.000000</td>\n",
       "      <td>0.0</td>\n",
       "      <td>8</td>\n",
       "      <td>3</td>\n",
       "      <td>3</td>\n",
       "      <td>0</td>\n",
       "      <td>0</td>\n",
       "      <td>-1</td>\n",
       "      <td>0.688635</td>\n",
       "      <td>0.784493</td>\n",
       "      <td>Defacement</td>\n",
       "    </tr>\n",
       "    <tr>\n",
       "      <th>2</th>\n",
       "      <td>0</td>\n",
       "      <td>4</td>\n",
       "      <td>5</td>\n",
       "      <td>5.5</td>\n",
       "      <td>14</td>\n",
       "      <td>4</td>\n",
       "      <td>12</td>\n",
       "      <td>5</td>\n",
       "      <td>0</td>\n",
       "      <td>0</td>\n",
       "      <td>0</td>\n",
       "      <td>0</td>\n",
       "      <td>0</td>\n",
       "      <td>0</td>\n",
       "      <td>0</td>\n",
       "      <td>0</td>\n",
       "      <td>0</td>\n",
       "      <td>0</td>\n",
       "      <td>65</td>\n",
       "      <td>25</td>\n",
       "      <td>33</td>\n",
       "      <td>33</td>\n",
       "      <td>2</td>\n",
       "      <td>2</td>\n",
       "      <td>2</td>\n",
       "      <td>0.507692</td>\n",
       "      <td>0.030769</td>\n",
       "      <td>0.08</td>\n",
       "      <td>0.384615</td>\n",
       "      <td>1.32</td>\n",
       "      <td>0.060606</td>\n",
       "      <td>0</td>\n",
       "      <td>-1</td>\n",
       "      <td>4</td>\n",
       "      <td>-1</td>\n",
       "      <td>0.6</td>\n",
       "      <td>-1</td>\n",
       "      <td>0</td>\n",
       "      <td>0</td>\n",
       "      <td>0</td>\n",
       "      <td>0</td>\n",
       "      <td>0</td>\n",
       "      <td>-1</td>\n",
       "      <td>55</td>\n",
       "      <td>22</td>\n",
       "      <td>8</td>\n",
       "      <td>13</td>\n",
       "      <td>8</td>\n",
       "      <td>-1</td>\n",
       "      <td>13</td>\n",
       "      <td>14</td>\n",
       "      <td>13</td>\n",
       "      <td>5</td>\n",
       "      <td>-1</td>\n",
       "      <td>0</td>\n",
       "      <td>0</td>\n",
       "      <td>4</td>\n",
       "      <td>0</td>\n",
       "      <td>1</td>\n",
       "      <td>-1</td>\n",
       "      <td>0.000000</td>\n",
       "      <td>0.0</td>\n",
       "      <td>8</td>\n",
       "      <td>3</td>\n",
       "      <td>3</td>\n",
       "      <td>0</td>\n",
       "      <td>0</td>\n",
       "      <td>-1</td>\n",
       "      <td>0.695049</td>\n",
       "      <td>0.784493</td>\n",
       "      <td>Defacement</td>\n",
       "    </tr>\n",
       "    <tr>\n",
       "      <th>3</th>\n",
       "      <td>0</td>\n",
       "      <td>4</td>\n",
       "      <td>12</td>\n",
       "      <td>5.5</td>\n",
       "      <td>14</td>\n",
       "      <td>4</td>\n",
       "      <td>32</td>\n",
       "      <td>16</td>\n",
       "      <td>0</td>\n",
       "      <td>0</td>\n",
       "      <td>0</td>\n",
       "      <td>0</td>\n",
       "      <td>0</td>\n",
       "      <td>0</td>\n",
       "      <td>0</td>\n",
       "      <td>0</td>\n",
       "      <td>0</td>\n",
       "      <td>0</td>\n",
       "      <td>109</td>\n",
       "      <td>25</td>\n",
       "      <td>77</td>\n",
       "      <td>77</td>\n",
       "      <td>2</td>\n",
       "      <td>2</td>\n",
       "      <td>2</td>\n",
       "      <td>0.706422</td>\n",
       "      <td>0.018349</td>\n",
       "      <td>0.08</td>\n",
       "      <td>0.229358</td>\n",
       "      <td>3.08</td>\n",
       "      <td>0.025974</td>\n",
       "      <td>0</td>\n",
       "      <td>-1</td>\n",
       "      <td>4</td>\n",
       "      <td>-1</td>\n",
       "      <td>0.6</td>\n",
       "      <td>-1</td>\n",
       "      <td>0</td>\n",
       "      <td>0</td>\n",
       "      <td>0</td>\n",
       "      <td>0</td>\n",
       "      <td>0</td>\n",
       "      <td>-1</td>\n",
       "      <td>92</td>\n",
       "      <td>22</td>\n",
       "      <td>8</td>\n",
       "      <td>13</td>\n",
       "      <td>45</td>\n",
       "      <td>-1</td>\n",
       "      <td>52</td>\n",
       "      <td>14</td>\n",
       "      <td>13</td>\n",
       "      <td>13</td>\n",
       "      <td>-1</td>\n",
       "      <td>0</td>\n",
       "      <td>0</td>\n",
       "      <td>4</td>\n",
       "      <td>0</td>\n",
       "      <td>8</td>\n",
       "      <td>-1</td>\n",
       "      <td>0.000000</td>\n",
       "      <td>0.0</td>\n",
       "      <td>8</td>\n",
       "      <td>3</td>\n",
       "      <td>3</td>\n",
       "      <td>0</td>\n",
       "      <td>0</td>\n",
       "      <td>-1</td>\n",
       "      <td>0.640130</td>\n",
       "      <td>0.784493</td>\n",
       "      <td>Defacement</td>\n",
       "    </tr>\n",
       "    <tr>\n",
       "      <th>4</th>\n",
       "      <td>0</td>\n",
       "      <td>4</td>\n",
       "      <td>6</td>\n",
       "      <td>5.5</td>\n",
       "      <td>14</td>\n",
       "      <td>4</td>\n",
       "      <td>18</td>\n",
       "      <td>11</td>\n",
       "      <td>0</td>\n",
       "      <td>0</td>\n",
       "      <td>0</td>\n",
       "      <td>0</td>\n",
       "      <td>0</td>\n",
       "      <td>0</td>\n",
       "      <td>0</td>\n",
       "      <td>0</td>\n",
       "      <td>0</td>\n",
       "      <td>0</td>\n",
       "      <td>81</td>\n",
       "      <td>25</td>\n",
       "      <td>49</td>\n",
       "      <td>49</td>\n",
       "      <td>2</td>\n",
       "      <td>2</td>\n",
       "      <td>2</td>\n",
       "      <td>0.604938</td>\n",
       "      <td>0.024691</td>\n",
       "      <td>0.08</td>\n",
       "      <td>0.308642</td>\n",
       "      <td>1.96</td>\n",
       "      <td>0.040816</td>\n",
       "      <td>0</td>\n",
       "      <td>-1</td>\n",
       "      <td>4</td>\n",
       "      <td>-1</td>\n",
       "      <td>0.6</td>\n",
       "      <td>-1</td>\n",
       "      <td>0</td>\n",
       "      <td>0</td>\n",
       "      <td>0</td>\n",
       "      <td>0</td>\n",
       "      <td>0</td>\n",
       "      <td>-1</td>\n",
       "      <td>70</td>\n",
       "      <td>22</td>\n",
       "      <td>8</td>\n",
       "      <td>13</td>\n",
       "      <td>23</td>\n",
       "      <td>-1</td>\n",
       "      <td>24</td>\n",
       "      <td>14</td>\n",
       "      <td>13</td>\n",
       "      <td>13</td>\n",
       "      <td>-1</td>\n",
       "      <td>0</td>\n",
       "      <td>0</td>\n",
       "      <td>4</td>\n",
       "      <td>0</td>\n",
       "      <td>2</td>\n",
       "      <td>-1</td>\n",
       "      <td>0.000000</td>\n",
       "      <td>0.0</td>\n",
       "      <td>8</td>\n",
       "      <td>3</td>\n",
       "      <td>3</td>\n",
       "      <td>0</td>\n",
       "      <td>0</td>\n",
       "      <td>-1</td>\n",
       "      <td>0.681307</td>\n",
       "      <td>0.784493</td>\n",
       "      <td>Defacement</td>\n",
       "    </tr>\n",
       "  </tbody>\n",
       "</table>\n",
       "</div>"
      ],
      "text/plain": [
       "   Querylength  domain_token_count  ...  Entropy_Domain  URL_Type_obf_Type\n",
       "0            0                   4  ...        0.784493         Defacement\n",
       "1            0                   4  ...        0.784493         Defacement\n",
       "2            0                   4  ...        0.784493         Defacement\n",
       "3            0                   4  ...        0.784493         Defacement\n",
       "4            0                   4  ...        0.784493         Defacement\n",
       "\n",
       "[5 rows x 71 columns]"
      ]
     },
     "execution_count": 10,
     "metadata": {
      "tags": []
     },
     "output_type": "execute_result"
    }
   ],
   "source": [
    "# drop all cols containing 'NaN' value and rows with 'infinity'\n",
    "dataset = dataset.dropna(axis=1)\n",
    "dataset = dataset.replace(np.Infinity, np.nan).dropna(axis=0)\n",
    "dataset.head()"
   ]
  },
  {
   "cell_type": "code",
   "execution_count": 11,
   "id": "ad7babd0",
   "metadata": {
    "colab": {
     "base_uri": "https://localhost:8080/",
     "height": 282
    },
    "id": "ad7babd0",
    "outputId": "60986c42-1e77-4978-bc75-5a090d66e42b"
   },
   "outputs": [
    {
     "data": {
      "text/plain": [
       "<matplotlib.axes._subplots.AxesSubplot at 0x7fe38d38a990>"
      ]
     },
     "execution_count": 11,
     "metadata": {
      "tags": []
     },
     "output_type": "execute_result"
    },
    {
     "data": {
      "image/png": "[encoded data removed]",
      "text/plain": [
       "<Figure size 432x288 with 1 Axes>"
      ]
     },
     "metadata": {
      "needs_background": "light",
      "tags": []
     },
     "output_type": "display_data"
    }
   ],
   "source": [
    "dataset['URL_Type_obf_Type'].value_counts().plot(kind = 'barh')"
   ]
  },
  {
   "cell_type": "code",
   "execution_count": 12,
   "id": "61a1afcc",
   "metadata": {
    "colab": {
     "base_uri": "https://localhost:8080/"
    },
    "id": "61a1afcc",
    "outputId": "95505dba-705f-4f8c-ac82-92029aa6b1be"
   },
   "outputs": [
    {
     "data": {
      "text/plain": [
       "(36697, 71)"
      ]
     },
     "execution_count": 12,
     "metadata": {
      "tags": []
     },
     "output_type": "execute_result"
    }
   ],
   "source": [
    "dataset.shape"
   ]
  },
  {
   "cell_type": "code",
   "execution_count": 13,
   "id": "fd0860bc",
   "metadata": {
    "colab": {
     "base_uri": "https://localhost:8080/"
    },
    "id": "fd0860bc",
    "outputId": "8151f479-b1be-4ab8-9553-60dba1767e6c"
   },
   "outputs": [
    {
     "name": "stdout",
     "output_type": "stream",
     "text": [
      "Defacement    7930\n",
      "benign        7781\n",
      "phishing      7577\n",
      "malware       6711\n",
      "spam          6698\n",
      "Name: URL_Type_obf_Type, dtype: int64\n"
     ]
    }
   ],
   "source": [
    "print(dataset[lb].value_counts())"
   ]
  },
  {
   "cell_type": "code",
   "execution_count": 14,
   "id": "7473f6fa",
   "metadata": {
    "id": "7473f6fa"
   },
   "outputs": [],
   "source": [
    "#Normalize features and split labels column\n",
    "scaler = MinMaxScaler()\n",
    "features = pd.DataFrame(scaler.fit_transform(dataset.loc[:, dataset.columns != lb]), columns=dataset.columns[:-1] )\n",
    "labels = dataset[lb]"
   ]
  },
  {
   "cell_type": "code",
   "execution_count": 15,
   "id": "e7b92fd7",
   "metadata": {
    "colab": {
     "base_uri": "https://localhost:8080/"
    },
    "id": "e7b92fd7",
    "outputId": "d8f36550-0e88-4a90-b374-d56de1004c3f"
   },
   "outputs": [
    {
     "name": "stdout",
     "output_type": "stream",
     "text": [
      "   Querylength  domain_token_count  ...  Entropy_URL  Entropy_Domain\n",
      "0          0.0            0.117647  ...     0.644621        0.508074\n",
      "1          0.0            0.117647  ...     0.565470        0.508074\n",
      "2          0.0            0.117647  ...     0.578950        0.508074\n",
      "3          0.0            0.117647  ...     0.463537        0.508074\n",
      "4          0.0            0.117647  ...     0.550071        0.508074\n",
      "\n",
      "[5 rows x 70 columns]\n"
     ]
    }
   ],
   "source": [
    "print(features.head())"
   ]
  },
  {
   "cell_type": "code",
   "execution_count": 16,
   "id": "dbb752c6",
   "metadata": {
    "colab": {
     "base_uri": "https://localhost:8080/"
    },
    "id": "dbb752c6",
    "outputId": "e9e5d88e-861b-4e76-a3b7-5b938a364fa3"
   },
   "outputs": [
    {
     "name": "stdout",
     "output_type": "stream",
     "text": [
      "Defacement    7930\n",
      "benign        7781\n",
      "phishing      7577\n",
      "malware       6711\n",
      "spam          6698\n",
      "Name: URL_Type_obf_Type, dtype: int64\n"
     ]
    }
   ],
   "source": [
    "print(labels.value_counts())"
   ]
  },
  {
   "cell_type": "markdown",
   "id": "ec779002",
   "metadata": {
    "id": "ec779002"
   },
   "source": [
    "## Chi-score of features "
   ]
  },
  {
   "cell_type": "code",
   "execution_count": 17,
   "id": "ca7da5aa",
   "metadata": {
    "colab": {
     "base_uri": "https://localhost:8080/"
    },
    "id": "ca7da5aa",
    "outputId": "82d5bff8-ed48-48ed-9489-210b79b17837"
   },
   "outputs": [
    {
     "name": "stdout",
     "output_type": "stream",
     "text": [
      "Values in order of descending 64-values (higher=more significant)\n",
      "Index(['Entropy_URL', 'Path_LongestWordLength', 'isPortEighty', 'dld_domain',\n",
      "       'ldl_domain', 'dld_filename', 'Filename_LetterCount',\n",
      "       'File_name_DigitCount', 'sub-Directory_LongestWordLength',\n",
      "       'ldl_filename', 'host_letter_count', 'path_token_count', 'domainlength',\n",
      "       'this.fileExtLen', 'URL_sensitiveWord', 'Directory_DigitCount',\n",
      "       'Entropy_Domain', 'avgdomaintokenlen', 'charcompvowels',\n",
      "       'Domain_LongestWordLength', 'executable', 'longdomaintokenlen',\n",
      "       'host_DigitCount', 'URL_Letter_Count', 'charcompace', 'urlLen',\n",
      "       'pathurlRatio', 'pathDomainRatio', 'pathLength', 'subDirLen',\n",
      "       'fileNameLen', 'delimeter_Domain', 'Directory_LetterCount',\n",
      "       'CharacterContinuityRate', 'NumberRate_URL', 'spcharUrl',\n",
      "       'delimeter_path', 'LongestPathTokenLength', 'NumberofDotsinURL',\n",
      "       'Extension_LetterCount', 'SymbolCount_URL', 'SymbolCount_Directoryname',\n",
      "       'domain_token_count', 'tld', 'SymbolCount_Domain', 'URL_DigitCount',\n",
      "       'domainUrlRatio', 'Arguments_LongestWordLength', 'argDomanRatio',\n",
      "       'dld_url', 'ArgLen', 'Query_LetterCount', 'Querylength', 'ldl_url',\n",
      "       'ldl_path', 'dld_path', 'LongestVariableValue', 'SymbolCount_FileName',\n",
      "       'Extension_DigitCount', 'Query_DigitCount', 'SymbolCount_Extension',\n",
      "       'SymbolCount_Afterpath', 'ldl_getArg', 'dld_getArg'],\n",
      "      dtype='object')\n"
     ]
    }
   ],
   "source": [
    "chi_score = chi2(features, labels)\n",
    "p_values = pd.Series(chi_score[1],index = features.columns)\n",
    "p_values.sort_values(ascending = False , inplace = True)\n",
    "#p_values.plot.bar()\n",
    "print('Values in order of descending 64-values (higher=more significant)')\n",
    "print(p_values.index[:64])"
   ]
  },
  {
   "cell_type": "markdown",
   "id": "4a0f5d82",
   "metadata": {
    "id": "4a0f5d82"
   },
   "source": [
    "## Dataset with 64th first rank features in chi-score"
   ]
  },
  {
   "cell_type": "code",
   "execution_count": 18,
   "id": "d66d5703",
   "metadata": {
    "colab": {
     "base_uri": "https://localhost:8080/",
     "height": 241
    },
    "id": "d66d5703",
    "outputId": "65001c8f-f1b7-4323-8702-dd5199c89466",
    "scrolled": true
   },
   "outputs": [
    {
     "data": {
      "text/html": [
       "<div>\n",
       "<style scoped>\n",
       "    .dataframe tbody tr th:only-of-type {\n",
       "        vertical-align: middle;\n",
       "    }\n",
       "\n",
       "    .dataframe tbody tr th {\n",
       "        vertical-align: top;\n",
       "    }\n",
       "\n",
       "    .dataframe thead th {\n",
       "        text-align: right;\n",
       "    }\n",
       "</style>\n",
       "<table border=\"1\" class=\"dataframe\">\n",
       "  <thead>\n",
       "    <tr style=\"text-align: right;\">\n",
       "      <th></th>\n",
       "      <th>Entropy_URL</th>\n",
       "      <th>Path_LongestWordLength</th>\n",
       "      <th>isPortEighty</th>\n",
       "      <th>dld_domain</th>\n",
       "      <th>ldl_domain</th>\n",
       "      <th>dld_filename</th>\n",
       "      <th>Filename_LetterCount</th>\n",
       "      <th>File_name_DigitCount</th>\n",
       "      <th>sub-Directory_LongestWordLength</th>\n",
       "      <th>ldl_filename</th>\n",
       "      <th>host_letter_count</th>\n",
       "      <th>path_token_count</th>\n",
       "      <th>domainlength</th>\n",
       "      <th>this.fileExtLen</th>\n",
       "      <th>URL_sensitiveWord</th>\n",
       "      <th>Directory_DigitCount</th>\n",
       "      <th>Entropy_Domain</th>\n",
       "      <th>avgdomaintokenlen</th>\n",
       "      <th>charcompvowels</th>\n",
       "      <th>Domain_LongestWordLength</th>\n",
       "      <th>executable</th>\n",
       "      <th>longdomaintokenlen</th>\n",
       "      <th>host_DigitCount</th>\n",
       "      <th>URL_Letter_Count</th>\n",
       "      <th>charcompace</th>\n",
       "      <th>urlLen</th>\n",
       "      <th>pathurlRatio</th>\n",
       "      <th>pathDomainRatio</th>\n",
       "      <th>pathLength</th>\n",
       "      <th>subDirLen</th>\n",
       "      <th>fileNameLen</th>\n",
       "      <th>delimeter_Domain</th>\n",
       "      <th>Directory_LetterCount</th>\n",
       "      <th>CharacterContinuityRate</th>\n",
       "      <th>NumberRate_URL</th>\n",
       "      <th>spcharUrl</th>\n",
       "      <th>delimeter_path</th>\n",
       "      <th>LongestPathTokenLength</th>\n",
       "      <th>NumberofDotsinURL</th>\n",
       "      <th>Extension_LetterCount</th>\n",
       "      <th>SymbolCount_URL</th>\n",
       "      <th>SymbolCount_Directoryname</th>\n",
       "      <th>domain_token_count</th>\n",
       "      <th>tld</th>\n",
       "      <th>SymbolCount_Domain</th>\n",
       "      <th>URL_DigitCount</th>\n",
       "      <th>domainUrlRatio</th>\n",
       "      <th>Arguments_LongestWordLength</th>\n",
       "      <th>argDomanRatio</th>\n",
       "      <th>dld_url</th>\n",
       "      <th>ArgLen</th>\n",
       "      <th>Query_LetterCount</th>\n",
       "      <th>Querylength</th>\n",
       "      <th>ldl_url</th>\n",
       "      <th>ldl_path</th>\n",
       "      <th>dld_path</th>\n",
       "      <th>LongestVariableValue</th>\n",
       "      <th>SymbolCount_FileName</th>\n",
       "      <th>Extension_DigitCount</th>\n",
       "      <th>Query_DigitCount</th>\n",
       "      <th>SymbolCount_Extension</th>\n",
       "      <th>SymbolCount_Afterpath</th>\n",
       "      <th>ldl_getArg</th>\n",
       "      <th>dld_getArg</th>\n",
       "      <th>URL_Type_obf_Type</th>\n",
       "    </tr>\n",
       "  </thead>\n",
       "  <tbody>\n",
       "    <tr>\n",
       "      <th>0</th>\n",
       "      <td>0.726298</td>\n",
       "      <td>13</td>\n",
       "      <td>-1</td>\n",
       "      <td>0</td>\n",
       "      <td>0</td>\n",
       "      <td>0</td>\n",
       "      <td>13</td>\n",
       "      <td>0</td>\n",
       "      <td>5</td>\n",
       "      <td>0</td>\n",
       "      <td>22</td>\n",
       "      <td>5</td>\n",
       "      <td>25</td>\n",
       "      <td>1</td>\n",
       "      <td>0</td>\n",
       "      <td>0</td>\n",
       "      <td>0.784493</td>\n",
       "      <td>5.5</td>\n",
       "      <td>8</td>\n",
       "      <td>14</td>\n",
       "      <td>0</td>\n",
       "      <td>14</td>\n",
       "      <td>0</td>\n",
       "      <td>47</td>\n",
       "      <td>3</td>\n",
       "      <td>58</td>\n",
       "      <td>0.448276</td>\n",
       "      <td>1.04</td>\n",
       "      <td>26</td>\n",
       "      <td>26</td>\n",
       "      <td>13</td>\n",
       "      <td>0</td>\n",
       "      <td>8</td>\n",
       "      <td>0.6</td>\n",
       "      <td>0.017241</td>\n",
       "      <td>3</td>\n",
       "      <td>2</td>\n",
       "      <td>13</td>\n",
       "      <td>5</td>\n",
       "      <td>0</td>\n",
       "      <td>8</td>\n",
       "      <td>2</td>\n",
       "      <td>4</td>\n",
       "      <td>4</td>\n",
       "      <td>3</td>\n",
       "      <td>1</td>\n",
       "      <td>0.431034</td>\n",
       "      <td>-1</td>\n",
       "      <td>0.08</td>\n",
       "      <td>0</td>\n",
       "      <td>2</td>\n",
       "      <td>-1</td>\n",
       "      <td>0</td>\n",
       "      <td>0</td>\n",
       "      <td>0</td>\n",
       "      <td>0</td>\n",
       "      <td>-1</td>\n",
       "      <td>1</td>\n",
       "      <td>1</td>\n",
       "      <td>-1</td>\n",
       "      <td>0</td>\n",
       "      <td>-1</td>\n",
       "      <td>0</td>\n",
       "      <td>0</td>\n",
       "      <td>Defacement</td>\n",
       "    </tr>\n",
       "    <tr>\n",
       "      <th>1</th>\n",
       "      <td>0.688635</td>\n",
       "      <td>13</td>\n",
       "      <td>-1</td>\n",
       "      <td>0</td>\n",
       "      <td>0</td>\n",
       "      <td>0</td>\n",
       "      <td>13</td>\n",
       "      <td>0</td>\n",
       "      <td>5</td>\n",
       "      <td>0</td>\n",
       "      <td>22</td>\n",
       "      <td>5</td>\n",
       "      <td>25</td>\n",
       "      <td>2</td>\n",
       "      <td>0</td>\n",
       "      <td>0</td>\n",
       "      <td>0.784493</td>\n",
       "      <td>5.5</td>\n",
       "      <td>12</td>\n",
       "      <td>14</td>\n",
       "      <td>0</td>\n",
       "      <td>14</td>\n",
       "      <td>0</td>\n",
       "      <td>56</td>\n",
       "      <td>4</td>\n",
       "      <td>66</td>\n",
       "      <td>0.515151</td>\n",
       "      <td>1.36</td>\n",
       "      <td>34</td>\n",
       "      <td>34</td>\n",
       "      <td>2</td>\n",
       "      <td>0</td>\n",
       "      <td>8</td>\n",
       "      <td>0.6</td>\n",
       "      <td>0.000000</td>\n",
       "      <td>4</td>\n",
       "      <td>1</td>\n",
       "      <td>13</td>\n",
       "      <td>4</td>\n",
       "      <td>9</td>\n",
       "      <td>8</td>\n",
       "      <td>3</td>\n",
       "      <td>4</td>\n",
       "      <td>4</td>\n",
       "      <td>3</td>\n",
       "      <td>0</td>\n",
       "      <td>0.378788</td>\n",
       "      <td>-1</td>\n",
       "      <td>0.08</td>\n",
       "      <td>0</td>\n",
       "      <td>2</td>\n",
       "      <td>-1</td>\n",
       "      <td>0</td>\n",
       "      <td>0</td>\n",
       "      <td>0</td>\n",
       "      <td>0</td>\n",
       "      <td>-1</td>\n",
       "      <td>0</td>\n",
       "      <td>0</td>\n",
       "      <td>-1</td>\n",
       "      <td>0</td>\n",
       "      <td>-1</td>\n",
       "      <td>0</td>\n",
       "      <td>0</td>\n",
       "      <td>Defacement</td>\n",
       "    </tr>\n",
       "    <tr>\n",
       "      <th>2</th>\n",
       "      <td>0.695049</td>\n",
       "      <td>13</td>\n",
       "      <td>-1</td>\n",
       "      <td>0</td>\n",
       "      <td>0</td>\n",
       "      <td>0</td>\n",
       "      <td>13</td>\n",
       "      <td>0</td>\n",
       "      <td>5</td>\n",
       "      <td>0</td>\n",
       "      <td>22</td>\n",
       "      <td>5</td>\n",
       "      <td>25</td>\n",
       "      <td>2</td>\n",
       "      <td>0</td>\n",
       "      <td>0</td>\n",
       "      <td>0.784493</td>\n",
       "      <td>5.5</td>\n",
       "      <td>12</td>\n",
       "      <td>14</td>\n",
       "      <td>0</td>\n",
       "      <td>14</td>\n",
       "      <td>0</td>\n",
       "      <td>55</td>\n",
       "      <td>5</td>\n",
       "      <td>65</td>\n",
       "      <td>0.507692</td>\n",
       "      <td>1.32</td>\n",
       "      <td>33</td>\n",
       "      <td>33</td>\n",
       "      <td>2</td>\n",
       "      <td>0</td>\n",
       "      <td>8</td>\n",
       "      <td>0.6</td>\n",
       "      <td>0.000000</td>\n",
       "      <td>4</td>\n",
       "      <td>1</td>\n",
       "      <td>13</td>\n",
       "      <td>4</td>\n",
       "      <td>8</td>\n",
       "      <td>8</td>\n",
       "      <td>3</td>\n",
       "      <td>4</td>\n",
       "      <td>4</td>\n",
       "      <td>3</td>\n",
       "      <td>0</td>\n",
       "      <td>0.384615</td>\n",
       "      <td>-1</td>\n",
       "      <td>0.08</td>\n",
       "      <td>0</td>\n",
       "      <td>2</td>\n",
       "      <td>-1</td>\n",
       "      <td>0</td>\n",
       "      <td>0</td>\n",
       "      <td>0</td>\n",
       "      <td>0</td>\n",
       "      <td>-1</td>\n",
       "      <td>0</td>\n",
       "      <td>0</td>\n",
       "      <td>-1</td>\n",
       "      <td>0</td>\n",
       "      <td>-1</td>\n",
       "      <td>0</td>\n",
       "      <td>0</td>\n",
       "      <td>Defacement</td>\n",
       "    </tr>\n",
       "    <tr>\n",
       "      <th>3</th>\n",
       "      <td>0.640130</td>\n",
       "      <td>13</td>\n",
       "      <td>-1</td>\n",
       "      <td>0</td>\n",
       "      <td>0</td>\n",
       "      <td>0</td>\n",
       "      <td>13</td>\n",
       "      <td>0</td>\n",
       "      <td>13</td>\n",
       "      <td>0</td>\n",
       "      <td>22</td>\n",
       "      <td>12</td>\n",
       "      <td>25</td>\n",
       "      <td>2</td>\n",
       "      <td>0</td>\n",
       "      <td>0</td>\n",
       "      <td>0.784493</td>\n",
       "      <td>5.5</td>\n",
       "      <td>32</td>\n",
       "      <td>14</td>\n",
       "      <td>0</td>\n",
       "      <td>14</td>\n",
       "      <td>0</td>\n",
       "      <td>92</td>\n",
       "      <td>16</td>\n",
       "      <td>109</td>\n",
       "      <td>0.706422</td>\n",
       "      <td>3.08</td>\n",
       "      <td>77</td>\n",
       "      <td>77</td>\n",
       "      <td>2</td>\n",
       "      <td>0</td>\n",
       "      <td>8</td>\n",
       "      <td>0.6</td>\n",
       "      <td>0.000000</td>\n",
       "      <td>4</td>\n",
       "      <td>8</td>\n",
       "      <td>52</td>\n",
       "      <td>4</td>\n",
       "      <td>45</td>\n",
       "      <td>8</td>\n",
       "      <td>3</td>\n",
       "      <td>4</td>\n",
       "      <td>4</td>\n",
       "      <td>3</td>\n",
       "      <td>0</td>\n",
       "      <td>0.229358</td>\n",
       "      <td>-1</td>\n",
       "      <td>0.08</td>\n",
       "      <td>0</td>\n",
       "      <td>2</td>\n",
       "      <td>-1</td>\n",
       "      <td>0</td>\n",
       "      <td>0</td>\n",
       "      <td>0</td>\n",
       "      <td>0</td>\n",
       "      <td>-1</td>\n",
       "      <td>0</td>\n",
       "      <td>0</td>\n",
       "      <td>-1</td>\n",
       "      <td>0</td>\n",
       "      <td>-1</td>\n",
       "      <td>0</td>\n",
       "      <td>0</td>\n",
       "      <td>Defacement</td>\n",
       "    </tr>\n",
       "    <tr>\n",
       "      <th>4</th>\n",
       "      <td>0.681307</td>\n",
       "      <td>13</td>\n",
       "      <td>-1</td>\n",
       "      <td>0</td>\n",
       "      <td>0</td>\n",
       "      <td>0</td>\n",
       "      <td>13</td>\n",
       "      <td>0</td>\n",
       "      <td>13</td>\n",
       "      <td>0</td>\n",
       "      <td>22</td>\n",
       "      <td>6</td>\n",
       "      <td>25</td>\n",
       "      <td>2</td>\n",
       "      <td>0</td>\n",
       "      <td>0</td>\n",
       "      <td>0.784493</td>\n",
       "      <td>5.5</td>\n",
       "      <td>18</td>\n",
       "      <td>14</td>\n",
       "      <td>0</td>\n",
       "      <td>14</td>\n",
       "      <td>0</td>\n",
       "      <td>70</td>\n",
       "      <td>11</td>\n",
       "      <td>81</td>\n",
       "      <td>0.604938</td>\n",
       "      <td>1.96</td>\n",
       "      <td>49</td>\n",
       "      <td>49</td>\n",
       "      <td>2</td>\n",
       "      <td>0</td>\n",
       "      <td>8</td>\n",
       "      <td>0.6</td>\n",
       "      <td>0.000000</td>\n",
       "      <td>4</td>\n",
       "      <td>2</td>\n",
       "      <td>24</td>\n",
       "      <td>4</td>\n",
       "      <td>23</td>\n",
       "      <td>8</td>\n",
       "      <td>3</td>\n",
       "      <td>4</td>\n",
       "      <td>4</td>\n",
       "      <td>3</td>\n",
       "      <td>0</td>\n",
       "      <td>0.308642</td>\n",
       "      <td>-1</td>\n",
       "      <td>0.08</td>\n",
       "      <td>0</td>\n",
       "      <td>2</td>\n",
       "      <td>-1</td>\n",
       "      <td>0</td>\n",
       "      <td>0</td>\n",
       "      <td>0</td>\n",
       "      <td>0</td>\n",
       "      <td>-1</td>\n",
       "      <td>0</td>\n",
       "      <td>0</td>\n",
       "      <td>-1</td>\n",
       "      <td>0</td>\n",
       "      <td>-1</td>\n",
       "      <td>0</td>\n",
       "      <td>0</td>\n",
       "      <td>Defacement</td>\n",
       "    </tr>\n",
       "  </tbody>\n",
       "</table>\n",
       "</div>"
      ],
      "text/plain": [
       "   Entropy_URL  Path_LongestWordLength  ...  dld_getArg  URL_Type_obf_Type\n",
       "0     0.726298                      13  ...           0         Defacement\n",
       "1     0.688635                      13  ...           0         Defacement\n",
       "2     0.695049                      13  ...           0         Defacement\n",
       "3     0.640130                      13  ...           0         Defacement\n",
       "4     0.681307                      13  ...           0         Defacement\n",
       "\n",
       "[5 rows x 65 columns]"
      ]
     },
     "execution_count": 18,
     "metadata": {
      "tags": []
     },
     "output_type": "execute_result"
    }
   ],
   "source": [
    "dataset_64 = dataset.copy()\n",
    "dataset_64 = dataset_64[p_values.index[:64].insert(65, lb)]\n",
    "dataset_64.head()"
   ]
  },
  {
   "cell_type": "markdown",
   "id": "fcae8510",
   "metadata": {
    "id": "fcae8510"
   },
   "source": [
    "## selecting feature and encoding labels"
   ]
  },
  {
   "cell_type": "code",
   "execution_count": 19,
   "id": "2378bb64",
   "metadata": {
    "colab": {
     "base_uri": "https://localhost:8080/"
    },
    "id": "2378bb64",
    "outputId": "4e26d615-e906-40fb-8e5d-a4220f6b73f8"
   },
   "outputs": [
    {
     "name": "stdout",
     "output_type": "stream",
     "text": [
      "[ 7.26298195e-01  1.30000000e+01 -1.00000000e+00  0.00000000e+00\n",
      "  0.00000000e+00  0.00000000e+00  1.30000000e+01  0.00000000e+00\n",
      "  5.00000000e+00  0.00000000e+00  2.20000000e+01  5.00000000e+00\n",
      "  2.50000000e+01  1.00000000e+00  0.00000000e+00  0.00000000e+00\n",
      "  7.84493326e-01  5.50000000e+00  8.00000000e+00  1.40000000e+01\n",
      "  0.00000000e+00  1.40000000e+01  0.00000000e+00  4.70000000e+01\n",
      "  3.00000000e+00  5.80000000e+01  4.48275860e-01  1.04000000e+00\n",
      "  2.60000000e+01  2.60000000e+01  1.30000000e+01  0.00000000e+00\n",
      "  8.00000000e+00  6.00000000e-01  1.72413793e-02  3.00000000e+00\n",
      "  2.00000000e+00  1.30000000e+01  5.00000000e+00  0.00000000e+00\n",
      "  8.00000000e+00  2.00000000e+00  4.00000000e+00  4.00000000e+00\n",
      "  3.00000000e+00  1.00000000e+00  4.31034480e-01 -1.00000000e+00\n",
      "  8.00000000e-02  0.00000000e+00  2.00000000e+00 -1.00000000e+00\n",
      "  0.00000000e+00  0.00000000e+00  0.00000000e+00  0.00000000e+00\n",
      " -1.00000000e+00  1.00000000e+00  1.00000000e+00 -1.00000000e+00\n",
      "  0.00000000e+00 -1.00000000e+00  0.00000000e+00  0.00000000e+00]\n"
     ]
    }
   ],
   "source": [
    "features_64 = dataset_64.loc[:, dataset_64.columns != lb].to_numpy()\n",
    "print(features_64[0])"
   ]
  },
  {
   "cell_type": "markdown",
   "id": "cbdf4ff2",
   "metadata": {
    "id": "cbdf4ff2"
   },
   "source": [
    "## Encoding labels"
   ]
  },
  {
   "cell_type": "code",
   "execution_count": 21,
   "id": "f2602dc8",
   "metadata": {
    "colab": {
     "base_uri": "https://localhost:8080/"
    },
    "id": "f2602dc8",
    "outputId": "c90c466f-642d-4163-ffa5-da8ed69d7c8f"
   },
   "outputs": [
    {
     "name": "stdout",
     "output_type": "stream",
     "text": [
      "[1 1 1 ... 4 4 4]\n"
     ]
    }
   ],
   "source": [
    "coding_labels = {\n",
    "    \"benign\" : 0,\n",
    "    \"Defacement\" : 1,\n",
    "    \"malware\" : 2,\n",
    "    \"phishing\" : 3,\n",
    "    \"spam\" : 4\n",
    "}\n",
    "labels_64 = dataset_64[lb].map(coding_labels).to_numpy()\n",
    "print(labels_64)"
   ]
  },
  {
   "cell_type": "markdown",
   "id": "73ab1af6",
   "metadata": {
    "id": "73ab1af6"
   },
   "source": [
    "## Defining plot Functions"
   ]
  },
  {
   "cell_type": "code",
   "execution_count": 40,
   "id": "b5373386",
   "metadata": {
    "id": "b5373386"
   },
   "outputs": [],
   "source": [
    "def plotAccuracy(title):\n",
    "    plt.figure(figsize=(10, 8))\n",
    "    plt.plot(history.history['accuracy'])\n",
    "    plt.plot(history.history['val_accuracy'])\n",
    "    plt.title(title)\n",
    "    plt.ylabel('Accuracy')\n",
    "    plt.xlabel('Epoch')\n",
    "    plt.legend(['Train', 'Val'], loc='upper left')\n",
    "    plt.show()"
   ]
  },
  {
   "cell_type": "code",
   "execution_count": 41,
   "id": "41a04278",
   "metadata": {
    "id": "41a04278"
   },
   "outputs": [],
   "source": [
    "def plotLoss(title):\n",
    "    plt.figure(figsize=(10, 8))\n",
    "    plt.plot(history.history['loss'])\n",
    "    plt.plot(history.history['val_loss'])\n",
    "    plt.title(title)\n",
    "    plt.ylabel('Loss')\n",
    "    plt.xlabel('Epoch')\n",
    "    plt.legend(['Train', 'Val'], loc='upper left')\n",
    "    plt.show()"
   ]
  },
  {
   "cell_type": "code",
   "execution_count": 24,
   "id": "957e6c96",
   "metadata": {
    "id": "957e6c96"
   },
   "outputs": [],
   "source": [
    "def plot_Experiment(history,y_axis):\n",
    "  hist = pd.DataFrame(history.history)\n",
    "  hist['epoch'] = history.epoch\n",
    "  plt.figure(figsize=(10, 8))\n",
    "  plt.xlabel('Epoch')\n",
    "  plt.ylabel('Error')\n",
    "  plt.plot(hist['epoch'], hist['loss'], label='Train Error')\n",
    "  plt.plot(hist['epoch'], hist['val_loss'], label = 'Val Error')\n",
    "  plt.ylim([0,y_axis])\n",
    "  plt.legend()\n",
    "  plt.show()"
   ]
  },
  {
   "cell_type": "code",
   "execution_count": 25,
   "id": "3a9834d0",
   "metadata": {
    "id": "3a9834d0"
   },
   "outputs": [],
   "source": [
    "def aucPlot(model, X_test, y_test, classifier):\n",
    "    lr_probs = model.predict_proba(X_test)\n",
    "    # keep probabilities for the positive outcome only\n",
    "    lr_probs = lr_probs.reshape(lr_probs.shape[0], 5)\n",
    "    print(lr_probs[0])\n",
    "    #lr_probs = np.transpose([pred[:, 1] for pred in lr_probs])\n",
    "    # calculate scores\n",
    "    lr_auc = roc_auc_score(y_test, lr_probs, multi_class=\"ovr\")\n",
    "    # summarize scores\n",
    "    print(classifier, ' : ROC AUC=%.2f %%' % (lr_auc*100))\n",
    "    \n",
    "    # Compute ROC curve and ROC area for each class\n",
    "    fpr = dict()\n",
    "    tpr = dict()\n",
    "    roc_auc = dict()\n",
    "    \n",
    "    labels = ['Benign', 'Defacement', 'Malware', 'Phishing', 'Spam']\n",
    "    colors = ['blue', 'magenta', 'red', 'cyan', 'orange']\n",
    "    \n",
    "    n_classes = 5\n",
    "    for i in range(n_classes):\n",
    "        fpr[i], tpr[i], _ = roc_curve(y_test, lr_probs[:, i], pos_label=i)\n",
    "        roc_auc[i] = auc(fpr[i], tpr[i])\n",
    "    \n",
    "    # Plot of a ROC curve for a specific class\n",
    "    plt.figure(figsize=(15, 15))\n",
    "    for i in range(n_classes):  \n",
    "        plt.plot(fpr[i], tpr[i], color=colors[i], label=labels[i]+' ROC curve (area = %0.2f)' % roc_auc[i])\n",
    "        plt.plot([0, 1], [0, 1], 'k--')\n",
    "        plt.xlim([-0.01, 1.0])\n",
    "        plt.ylim([0.0, 1.05])\n",
    "        plt.xlabel('False Positive Rate')\n",
    "        plt.ylabel('True Positive Rate')\n",
    "        plt.title('Multi Class Classification')\n",
    "        plt.legend(loc=\"lower right\")\n",
    "    plt.show()"
   ]
  },
  {
   "cell_type": "markdown",
   "id": "3957ca6b",
   "metadata": {
    "id": "3957ca6b"
   },
   "source": [
    "## Shuffeling and splitting data into train set and test set"
   ]
  },
  {
   "cell_type": "code",
   "execution_count": 26,
   "id": "222d5a5a",
   "metadata": {
    "id": "222d5a5a"
   },
   "outputs": [],
   "source": [
    "X_train, X_test, y_train, y_test = train_test_split(features_64, labels_64, test_size=0.2, random_state=36)"
   ]
  },
  {
   "cell_type": "markdown",
   "id": "b6615fdc",
   "metadata": {
    "id": "b6615fdc"
   },
   "source": [
    "# Reshaping Training data"
   ]
  },
  {
   "cell_type": "code",
   "execution_count": 27,
   "id": "23891fce",
   "metadata": {
    "id": "23891fce"
   },
   "outputs": [],
   "source": [
    "X_train = tf.reshape(X_train, (X_train.shape[0],8,8))\n",
    "y_train = tf.reshape(y_train, (y_train.shape[0],1))\n",
    "X_train = tf.expand_dims(X_train, axis=-1)"
   ]
  },
  {
   "cell_type": "markdown",
   "id": "2bbc67cc",
   "metadata": {
    "id": "2bbc67cc"
   },
   "source": [
    "# Building and training model"
   ]
  },
  {
   "cell_type": "code",
   "execution_count": 33,
   "id": "94a75c2b",
   "metadata": {
    "id": "94a75c2b"
   },
   "outputs": [],
   "source": [
    "save_dir = \"/home/CNN4Cl1P64C100EpNNVNKf_bestmodel.h5\"\n",
    "model_name = \"Multi-class_clasification\""
   ]
  },
  {
   "cell_type": "raw",
   "id": "164b6aef",
   "metadata": {
    "id": "164b6aef"
   },
   "source": [
    "# Define per-fold score containers\n",
    "train_acc_per_fold = []\n",
    "val_acc_per_fold = []\n",
    "train_loss_per_fold = []\n",
    "val_loss_per_fold = []\n",
    "kscores = []"
   ]
  },
  {
   "cell_type": "code",
   "execution_count": 34,
   "id": "2e3d6f97",
   "metadata": {
    "colab": {
     "base_uri": "https://localhost:8080/"
    },
    "id": "2e3d6f97",
    "outputId": "1d087bc6-b984-46b9-e225-a59e9dbf615d"
   },
   "outputs": [
    {
     "name": "stdout",
     "output_type": "stream",
     "text": [
      "Model: \"sequential_1\"\n",
      "_________________________________________________________________\n",
      "Layer (type)                 Output Shape              Param #   \n",
      "=================================================================\n",
      "conv2d_4 (Conv2D)            (None, 8, 8, 128)         640       \n",
      "_________________________________________________________________\n",
      "conv2d_5 (Conv2D)            (None, 8, 8, 128)         147584    \n",
      "_________________________________________________________________\n",
      "conv2d_6 (Conv2D)            (None, 8, 8, 128)         262272    \n",
      "_________________________________________________________________\n",
      "conv2d_7 (Conv2D)            (None, 8, 8, 128)         409728    \n",
      "_________________________________________________________________\n",
      "max_pooling2d_1 (MaxPooling2 (None, 4, 4, 128)         0         \n",
      "_________________________________________________________________\n",
      "flatten_1 (Flatten)          (None, 2048)              0         \n",
      "_________________________________________________________________\n",
      "dense_1 (Dense)              (None, 5)                 10245     \n",
      "=================================================================\n",
      "Total params: 830,469\n",
      "Trainable params: 830,469\n",
      "Non-trainable params: 0\n",
      "_________________________________________________________________\n"
     ]
    }
   ],
   "source": [
    "model = Sequential([\n",
    "    Conv2D(filters=128, kernel_size=(2, 2), activation='relu', padding='same', input_shape=(8, 8, 1)),\n",
    "    Conv2D(filters=128, kernel_size=(3, 3), activation='relu', padding='same'),\n",
    "    Conv2D(filters=128, kernel_size=(4, 4), activation='relu', padding='same'),\n",
    "    Conv2D(filters=128, kernel_size=(5, 5), activation='relu', padding='same'),\n",
    "    MaxPooling2D(pool_size=(2, 2), strides=2),\n",
    "    Flatten(),\n",
    "    Dense(units=5, activation='softmax')\n",
    "])\n",
    "model.summary()"
   ]
  },
  {
   "cell_type": "code",
   "execution_count": 35,
   "id": "9d38858c",
   "metadata": {
    "id": "9d38858c"
   },
   "outputs": [],
   "source": [
    "model.compile(optimizer=Adam(learning_rate=0.0001), loss='sparse_categorical_crossentropy', metrics=['accuracy'])"
   ]
  },
  {
   "cell_type": "code",
   "execution_count": 36,
   "id": "edafaa49",
   "metadata": {
    "id": "edafaa49"
   },
   "outputs": [],
   "source": [
    "checkpoint = callbacks.ModelCheckpoint(save_dir, monitor='val_accuracy', verbose=1, save_freq=\"epoch\", save_weights_only=False, save_best_only=True, mode='max')\n",
    "callbacks_list = [checkpoint]"
   ]
  },
  {
   "cell_type": "code",
   "execution_count": 37,
   "id": "6cbec85f",
   "metadata": {
    "colab": {
     "base_uri": "https://localhost:8080/"
    },
    "id": "6cbec85f",
    "outputId": "16e17ead-cc7b-4322-f087-845cecf446a0"
   },
   "outputs": [
    {
     "name": "stdout",
     "output_type": "stream",
     "text": [
      "Epoch 1/100\n",
      "195/195 [==============================] - 179s 918ms/step - loss: 1.0078 - accuracy: 0.6313 - val_loss: 0.7843 - val_accuracy: 0.7250\n",
      "\n",
      "Epoch 00001: val_accuracy improved from -inf to 0.72502, saving model to /home/CNN4Cl1P64C100EpNNVNKf_model.h5\n",
      "Epoch 2/100\n",
      "195/195 [==============================] - 179s 918ms/step - loss: 0.7155 - accuracy: 0.7421 - val_loss: 0.6355 - val_accuracy: 0.7748\n",
      "\n",
      "Epoch 00002: val_accuracy improved from 0.72502 to 0.77475, saving model to /home/CNN4Cl1P64C100EpNNVNKf_model.h5\n",
      "Epoch 3/100\n",
      "195/195 [==============================] - 179s 916ms/step - loss: 0.6272 - accuracy: 0.7766 - val_loss: 0.5661 - val_accuracy: 0.7807\n",
      "\n",
      "Epoch 00003: val_accuracy improved from 0.77475 to 0.78065, saving model to /home/CNN4Cl1P64C100EpNNVNKf_model.h5\n",
      "Epoch 4/100\n",
      "195/195 [==============================] - 178s 915ms/step - loss: 0.5193 - accuracy: 0.8163 - val_loss: 0.4844 - val_accuracy: 0.8206\n",
      "\n",
      "Epoch 00004: val_accuracy improved from 0.78065 to 0.82062, saving model to /home/CNN4Cl1P64C100EpNNVNKf_model.h5\n",
      "Epoch 5/100\n",
      "195/195 [==============================] - 179s 917ms/step - loss: 0.4605 - accuracy: 0.8407 - val_loss: 0.4399 - val_accuracy: 0.8413\n",
      "\n",
      "Epoch 00005: val_accuracy improved from 0.82062 to 0.84128, saving model to /home/CNN4Cl1P64C100EpNNVNKf_model.h5\n",
      "Epoch 6/100\n",
      "195/195 [==============================] - 179s 918ms/step - loss: 0.4162 - accuracy: 0.8562 - val_loss: 0.4238 - val_accuracy: 0.8440\n",
      "\n",
      "Epoch 00006: val_accuracy improved from 0.84128 to 0.84401, saving model to /home/CNN4Cl1P64C100EpNNVNKf_model.h5\n",
      "Epoch 7/100\n",
      "195/195 [==============================] - 178s 915ms/step - loss: 0.3935 - accuracy: 0.8645 - val_loss: 0.3663 - val_accuracy: 0.8719\n",
      "\n",
      "Epoch 00007: val_accuracy improved from 0.84401 to 0.87193, saving model to /home/CNN4Cl1P64C100EpNNVNKf_model.h5\n",
      "Epoch 8/100\n",
      "195/195 [==============================] - 178s 911ms/step - loss: 0.3695 - accuracy: 0.8736 - val_loss: 0.3417 - val_accuracy: 0.8801\n",
      "\n",
      "Epoch 00008: val_accuracy improved from 0.87193 to 0.88011, saving model to /home/CNN4Cl1P64C100EpNNVNKf_model.h5\n",
      "Epoch 9/100\n",
      "195/195 [==============================] - 177s 910ms/step - loss: 0.3377 - accuracy: 0.8857 - val_loss: 0.3242 - val_accuracy: 0.8949\n",
      "\n",
      "Epoch 00009: val_accuracy improved from 0.88011 to 0.89487, saving model to /home/CNN4Cl1P64C100EpNNVNKf_model.h5\n",
      "Epoch 10/100\n",
      "195/195 [==============================] - 179s 916ms/step - loss: 0.3361 - accuracy: 0.8841 - val_loss: 0.3243 - val_accuracy: 0.8853\n",
      "\n",
      "Epoch 00010: val_accuracy did not improve from 0.89487\n",
      "Epoch 11/100\n",
      "195/195 [==============================] - 179s 916ms/step - loss: 0.3169 - accuracy: 0.8916 - val_loss: 0.3259 - val_accuracy: 0.8851\n",
      "\n",
      "Epoch 00011: val_accuracy did not improve from 0.89487\n",
      "Epoch 12/100\n",
      "195/195 [==============================] - 179s 916ms/step - loss: 0.2921 - accuracy: 0.9003 - val_loss: 0.2734 - val_accuracy: 0.9114\n",
      "\n",
      "Epoch 00012: val_accuracy improved from 0.89487 to 0.91144, saving model to /home/CNN4Cl1P64C100EpNNVNKf_model.h5\n",
      "Epoch 13/100\n",
      "195/195 [==============================] - 178s 915ms/step - loss: 0.2724 - accuracy: 0.9065 - val_loss: 0.2791 - val_accuracy: 0.8992\n",
      "\n",
      "Epoch 00013: val_accuracy did not improve from 0.91144\n",
      "Epoch 14/100\n",
      "195/195 [==============================] - 178s 915ms/step - loss: 0.2790 - accuracy: 0.9023 - val_loss: 0.3518 - val_accuracy: 0.8747\n",
      "\n",
      "Epoch 00014: val_accuracy did not improve from 0.91144\n",
      "Epoch 15/100\n",
      "195/195 [==============================] - 178s 915ms/step - loss: 0.2701 - accuracy: 0.9065 - val_loss: 0.2493 - val_accuracy: 0.9162\n",
      "\n",
      "Epoch 00015: val_accuracy improved from 0.91144 to 0.91621, saving model to /home/CNN4Cl1P64C100EpNNVNKf_model.h5\n",
      "Epoch 16/100\n",
      "195/195 [==============================] - 179s 916ms/step - loss: 0.2519 - accuracy: 0.9137 - val_loss: 0.3014 - val_accuracy: 0.8951\n",
      "\n",
      "Epoch 00016: val_accuracy did not improve from 0.91621\n",
      "Epoch 17/100\n",
      "195/195 [==============================] - 179s 916ms/step - loss: 0.2417 - accuracy: 0.9169 - val_loss: 0.2441 - val_accuracy: 0.9201\n",
      "\n",
      "Epoch 00017: val_accuracy improved from 0.91621 to 0.92007, saving model to /home/CNN4Cl1P64C100EpNNVNKf_model.h5\n",
      "Epoch 18/100\n",
      "195/195 [==============================] - 178s 915ms/step - loss: 0.2432 - accuracy: 0.9163 - val_loss: 0.2657 - val_accuracy: 0.9058\n",
      "\n",
      "Epoch 00018: val_accuracy did not improve from 0.92007\n",
      "Epoch 19/100\n",
      "195/195 [==============================] - 178s 915ms/step - loss: 0.2351 - accuracy: 0.9205 - val_loss: 0.2201 - val_accuracy: 0.9287\n",
      "\n",
      "Epoch 00019: val_accuracy improved from 0.92007 to 0.92870, saving model to /home/CNN4Cl1P64C100EpNNVNKf_model.h5\n",
      "Epoch 20/100\n",
      "195/195 [==============================] - 179s 917ms/step - loss: 0.2246 - accuracy: 0.9224 - val_loss: 0.2196 - val_accuracy: 0.9251\n",
      "\n",
      "Epoch 00020: val_accuracy did not improve from 0.92870\n",
      "Epoch 21/100\n",
      "195/195 [==============================] - 179s 917ms/step - loss: 0.2054 - accuracy: 0.9285 - val_loss: 0.2151 - val_accuracy: 0.9226\n",
      "\n",
      "Epoch 00021: val_accuracy did not improve from 0.92870\n",
      "Epoch 22/100\n",
      "195/195 [==============================] - 179s 917ms/step - loss: 0.2002 - accuracy: 0.9309 - val_loss: 0.2286 - val_accuracy: 0.9178\n",
      "\n",
      "Epoch 00022: val_accuracy did not improve from 0.92870\n",
      "Epoch 23/100\n",
      "195/195 [==============================] - 179s 916ms/step - loss: 0.1908 - accuracy: 0.9355 - val_loss: 0.2198 - val_accuracy: 0.9269\n",
      "\n",
      "Epoch 00023: val_accuracy did not improve from 0.92870\n",
      "Epoch 24/100\n",
      "195/195 [==============================] - 179s 916ms/step - loss: 0.1890 - accuracy: 0.9340 - val_loss: 0.1913 - val_accuracy: 0.9353\n",
      "\n",
      "Epoch 00024: val_accuracy improved from 0.92870 to 0.93529, saving model to /home/CNN4Cl1P64C100EpNNVNKf_model.h5\n",
      "Epoch 25/100\n",
      "195/195 [==============================] - 179s 919ms/step - loss: 0.1847 - accuracy: 0.9369 - val_loss: 0.1980 - val_accuracy: 0.9326\n",
      "\n",
      "Epoch 00025: val_accuracy did not improve from 0.93529\n",
      "Epoch 26/100\n",
      "195/195 [==============================] - 179s 919ms/step - loss: 0.1936 - accuracy: 0.9340 - val_loss: 0.1846 - val_accuracy: 0.9371\n",
      "\n",
      "Epoch 00026: val_accuracy improved from 0.93529 to 0.93710, saving model to /home/CNN4Cl1P64C100EpNNVNKf_model.h5\n",
      "Epoch 27/100\n",
      "195/195 [==============================] - 179s 917ms/step - loss: 0.1769 - accuracy: 0.9391 - val_loss: 0.1875 - val_accuracy: 0.9332\n",
      "\n",
      "Epoch 00027: val_accuracy did not improve from 0.93710\n",
      "Epoch 28/100\n",
      "195/195 [==============================] - 179s 920ms/step - loss: 0.1670 - accuracy: 0.9452 - val_loss: 0.2009 - val_accuracy: 0.9330\n",
      "\n",
      "Epoch 00028: val_accuracy did not improve from 0.93710\n",
      "Epoch 29/100\n",
      "195/195 [==============================] - 179s 918ms/step - loss: 0.1671 - accuracy: 0.9426 - val_loss: 0.1726 - val_accuracy: 0.9426\n",
      "\n",
      "Epoch 00029: val_accuracy improved from 0.93710 to 0.94255, saving model to /home/CNN4Cl1P64C100EpNNVNKf_model.h5\n",
      "Epoch 30/100\n",
      "195/195 [==============================] - 178s 915ms/step - loss: 0.1607 - accuracy: 0.9468 - val_loss: 0.2020 - val_accuracy: 0.9387\n",
      "\n",
      "Epoch 00030: val_accuracy did not improve from 0.94255\n",
      "Epoch 31/100\n",
      "195/195 [==============================] - 179s 916ms/step - loss: 0.1642 - accuracy: 0.9443 - val_loss: 0.1806 - val_accuracy: 0.9421\n",
      "\n",
      "Epoch 00031: val_accuracy did not improve from 0.94255\n",
      "Epoch 32/100\n",
      "195/195 [==============================] - 181s 926ms/step - loss: 0.1546 - accuracy: 0.9476 - val_loss: 0.2332 - val_accuracy: 0.9133\n",
      "\n",
      "Epoch 00032: val_accuracy did not improve from 0.94255\n",
      "Epoch 33/100\n",
      "195/195 [==============================] - 180s 925ms/step - loss: 0.1513 - accuracy: 0.9483 - val_loss: 0.1659 - val_accuracy: 0.9423\n",
      "\n",
      "Epoch 00033: val_accuracy did not improve from 0.94255\n",
      "Epoch 34/100\n",
      "195/195 [==============================] - 180s 924ms/step - loss: 0.1418 - accuracy: 0.9513 - val_loss: 0.1687 - val_accuracy: 0.9432\n",
      "\n",
      "Epoch 00034: val_accuracy improved from 0.94255 to 0.94323, saving model to /home/CNN4Cl1P64C100EpNNVNKf_model.h5\n",
      "Epoch 35/100\n",
      "195/195 [==============================] - 179s 918ms/step - loss: 0.1290 - accuracy: 0.9562 - val_loss: 0.2042 - val_accuracy: 0.9296\n",
      "\n",
      "Epoch 00035: val_accuracy did not improve from 0.94323\n",
      "Epoch 36/100\n",
      "195/195 [==============================] - 179s 917ms/step - loss: 0.1395 - accuracy: 0.9530 - val_loss: 0.2195 - val_accuracy: 0.9260\n",
      "\n",
      "Epoch 00036: val_accuracy did not improve from 0.94323\n",
      "Epoch 37/100\n",
      "195/195 [==============================] - 179s 916ms/step - loss: 0.1352 - accuracy: 0.9528 - val_loss: 0.1523 - val_accuracy: 0.9485\n",
      "\n",
      "Epoch 00037: val_accuracy improved from 0.94323 to 0.94846, saving model to /home/CNN4Cl1P64C100EpNNVNKf_model.h5\n",
      "Epoch 38/100\n",
      "195/195 [==============================] - 179s 916ms/step - loss: 0.1247 - accuracy: 0.9572 - val_loss: 0.1555 - val_accuracy: 0.9448\n",
      "\n",
      "Epoch 00038: val_accuracy did not improve from 0.94846\n",
      "Epoch 39/100\n",
      "195/195 [==============================] - 178s 913ms/step - loss: 0.1237 - accuracy: 0.9598 - val_loss: 0.1672 - val_accuracy: 0.9455\n",
      "\n",
      "Epoch 00039: val_accuracy did not improve from 0.94846\n",
      "Epoch 40/100\n",
      "195/195 [==============================] - 178s 915ms/step - loss: 0.1307 - accuracy: 0.9549 - val_loss: 0.1551 - val_accuracy: 0.9491\n",
      "\n",
      "Epoch 00040: val_accuracy improved from 0.94846 to 0.94914, saving model to /home/CNN4Cl1P64C100EpNNVNKf_model.h5\n",
      "Epoch 41/100\n",
      "195/195 [==============================] - 179s 917ms/step - loss: 0.1207 - accuracy: 0.9589 - val_loss: 0.1823 - val_accuracy: 0.9376\n",
      "\n",
      "Epoch 00041: val_accuracy did not improve from 0.94914\n",
      "Epoch 42/100\n",
      "195/195 [==============================] - 179s 918ms/step - loss: 0.1353 - accuracy: 0.9559 - val_loss: 0.1412 - val_accuracy: 0.9535\n",
      "\n",
      "Epoch 00042: val_accuracy improved from 0.94914 to 0.95345, saving model to /home/CNN4Cl1P64C100EpNNVNKf_model.h5\n",
      "Epoch 43/100\n",
      "195/195 [==============================] - 178s 915ms/step - loss: 0.1092 - accuracy: 0.9637 - val_loss: 0.1501 - val_accuracy: 0.9516\n",
      "\n",
      "Epoch 00043: val_accuracy did not improve from 0.95345\n",
      "Epoch 44/100\n",
      "195/195 [==============================] - 179s 916ms/step - loss: 0.1057 - accuracy: 0.9647 - val_loss: 0.1372 - val_accuracy: 0.9544\n",
      "\n",
      "Epoch 00044: val_accuracy improved from 0.95345 to 0.95436, saving model to /home/CNN4Cl1P64C100EpNNVNKf_model.h5\n",
      "Epoch 45/100\n",
      "195/195 [==============================] - 179s 918ms/step - loss: 0.1077 - accuracy: 0.9639 - val_loss: 0.1457 - val_accuracy: 0.9516\n",
      "\n",
      "Epoch 00045: val_accuracy did not improve from 0.95436\n",
      "Epoch 46/100\n",
      "195/195 [==============================] - 181s 926ms/step - loss: 0.1096 - accuracy: 0.9631 - val_loss: 0.1766 - val_accuracy: 0.9378\n",
      "\n",
      "Epoch 00046: val_accuracy did not improve from 0.95436\n",
      "Epoch 47/100\n",
      "195/195 [==============================] - 180s 925ms/step - loss: 0.1023 - accuracy: 0.9647 - val_loss: 0.1544 - val_accuracy: 0.9500\n",
      "\n",
      "Epoch 00047: val_accuracy did not improve from 0.95436\n",
      "Epoch 48/100\n",
      "195/195 [==============================] - 180s 925ms/step - loss: 0.1019 - accuracy: 0.9646 - val_loss: 0.1334 - val_accuracy: 0.9564\n",
      "\n",
      "Epoch 00048: val_accuracy improved from 0.95436 to 0.95640, saving model to /home/CNN4Cl1P64C100EpNNVNKf_model.h5\n",
      "Epoch 49/100\n",
      "195/195 [==============================] - 179s 919ms/step - loss: 0.1029 - accuracy: 0.9666 - val_loss: 0.1582 - val_accuracy: 0.9469\n",
      "\n",
      "Epoch 00049: val_accuracy did not improve from 0.95640\n",
      "Epoch 50/100\n",
      "195/195 [==============================] - 179s 919ms/step - loss: 0.1087 - accuracy: 0.9631 - val_loss: 0.1647 - val_accuracy: 0.9478\n",
      "\n",
      "Epoch 00050: val_accuracy did not improve from 0.95640\n",
      "Epoch 51/100\n",
      "195/195 [==============================] - 179s 919ms/step - loss: 0.1134 - accuracy: 0.9612 - val_loss: 0.1553 - val_accuracy: 0.9496\n",
      "\n",
      "Epoch 00051: val_accuracy did not improve from 0.95640\n",
      "Epoch 52/100\n",
      "195/195 [==============================] - 179s 916ms/step - loss: 0.0965 - accuracy: 0.9685 - val_loss: 0.1669 - val_accuracy: 0.9405\n",
      "\n",
      "Epoch 00052: val_accuracy did not improve from 0.95640\n",
      "Epoch 53/100\n",
      "195/195 [==============================] - 178s 913ms/step - loss: 0.1066 - accuracy: 0.9657 - val_loss: 0.1551 - val_accuracy: 0.9496\n",
      "\n",
      "Epoch 00053: val_accuracy did not improve from 0.95640\n",
      "Epoch 54/100\n",
      "195/195 [==============================] - 178s 915ms/step - loss: 0.0946 - accuracy: 0.9691 - val_loss: 0.1325 - val_accuracy: 0.9596\n",
      "\n",
      "Epoch 00054: val_accuracy improved from 0.95640 to 0.95958, saving model to /home/CNN4Cl1P64C100EpNNVNKf_model.h5\n",
      "Epoch 55/100\n",
      "195/195 [==============================] - 178s 915ms/step - loss: 0.0803 - accuracy: 0.9744 - val_loss: 0.1262 - val_accuracy: 0.9623\n",
      "\n",
      "Epoch 00055: val_accuracy improved from 0.95958 to 0.96231, saving model to /home/CNN4Cl1P64C100EpNNVNKf_model.h5\n",
      "Epoch 56/100\n",
      "195/195 [==============================] - 179s 916ms/step - loss: 0.0818 - accuracy: 0.9731 - val_loss: 0.1133 - val_accuracy: 0.9639\n",
      "\n",
      "Epoch 00056: val_accuracy improved from 0.96231 to 0.96390, saving model to /home/CNN4Cl1P64C100EpNNVNKf_model.h5\n",
      "Epoch 57/100\n",
      "195/195 [==============================] - 179s 916ms/step - loss: 0.0884 - accuracy: 0.9712 - val_loss: 0.1241 - val_accuracy: 0.9600\n",
      "\n",
      "Epoch 00057: val_accuracy did not improve from 0.96390\n",
      "Epoch 58/100\n",
      "195/195 [==============================] - 179s 916ms/step - loss: 0.0808 - accuracy: 0.9732 - val_loss: 0.1411 - val_accuracy: 0.9557\n",
      "\n",
      "Epoch 00058: val_accuracy did not improve from 0.96390\n",
      "Epoch 59/100\n",
      "195/195 [==============================] - 178s 915ms/step - loss: 0.0929 - accuracy: 0.9689 - val_loss: 0.1291 - val_accuracy: 0.9619\n",
      "\n",
      "Epoch 00059: val_accuracy did not improve from 0.96390\n",
      "Epoch 60/100\n",
      "195/195 [==============================] - 180s 925ms/step - loss: 0.0753 - accuracy: 0.9747 - val_loss: 0.1173 - val_accuracy: 0.9644\n",
      "\n",
      "Epoch 00060: val_accuracy improved from 0.96390 to 0.96435, saving model to /home/CNN4Cl1P64C100EpNNVNKf_model.h5\n",
      "Epoch 61/100\n",
      "195/195 [==============================] - 180s 922ms/step - loss: 0.0762 - accuracy: 0.9738 - val_loss: 0.1369 - val_accuracy: 0.9591\n",
      "\n",
      "Epoch 00061: val_accuracy did not improve from 0.96435\n",
      "Epoch 62/100\n",
      "195/195 [==============================] - 180s 922ms/step - loss: 0.0901 - accuracy: 0.9705 - val_loss: 0.1119 - val_accuracy: 0.9671\n",
      "\n",
      "Epoch 00062: val_accuracy improved from 0.96435 to 0.96708, saving model to /home/CNN4Cl1P64C100EpNNVNKf_model.h5\n",
      "Epoch 63/100\n",
      "195/195 [==============================] - 180s 921ms/step - loss: 0.0659 - accuracy: 0.9786 - val_loss: 0.1573 - val_accuracy: 0.9482\n",
      "\n",
      "Epoch 00063: val_accuracy did not improve from 0.96708\n",
      "Epoch 64/100\n",
      "195/195 [==============================] - 178s 913ms/step - loss: 0.0837 - accuracy: 0.9728 - val_loss: 0.1413 - val_accuracy: 0.9516\n",
      "\n",
      "Epoch 00064: val_accuracy did not improve from 0.96708\n",
      "Epoch 65/100\n",
      "195/195 [==============================] - 178s 913ms/step - loss: 0.0676 - accuracy: 0.9778 - val_loss: 0.1491 - val_accuracy: 0.9530\n",
      "\n",
      "Epoch 00065: val_accuracy did not improve from 0.96708\n",
      "Epoch 66/100\n",
      "195/195 [==============================] - 178s 913ms/step - loss: 0.0704 - accuracy: 0.9768 - val_loss: 0.1516 - val_accuracy: 0.9550\n",
      "\n",
      "Epoch 00066: val_accuracy did not improve from 0.96708\n",
      "Epoch 67/100\n",
      "195/195 [==============================] - 179s 919ms/step - loss: 0.0823 - accuracy: 0.9727 - val_loss: 0.1492 - val_accuracy: 0.9541\n",
      "\n",
      "Epoch 00067: val_accuracy did not improve from 0.96708\n",
      "Epoch 68/100\n",
      "195/195 [==============================] - 179s 918ms/step - loss: 0.0639 - accuracy: 0.9791 - val_loss: 0.1177 - val_accuracy: 0.9646\n",
      "\n",
      "Epoch 00068: val_accuracy did not improve from 0.96708\n",
      "Epoch 69/100\n",
      "195/195 [==============================] - 179s 917ms/step - loss: 0.0540 - accuracy: 0.9816 - val_loss: 0.1335 - val_accuracy: 0.9607\n",
      "\n",
      "Epoch 00069: val_accuracy did not improve from 0.96708\n",
      "Epoch 70/100\n",
      "195/195 [==============================] - 178s 915ms/step - loss: 0.0607 - accuracy: 0.9793 - val_loss: 0.1223 - val_accuracy: 0.9644\n",
      "\n",
      "Epoch 00070: val_accuracy did not improve from 0.96708\n",
      "Epoch 71/100\n",
      "195/195 [==============================] - 178s 911ms/step - loss: 0.0572 - accuracy: 0.9808 - val_loss: 0.1458 - val_accuracy: 0.9537\n",
      "\n",
      "Epoch 00071: val_accuracy did not improve from 0.96708\n",
      "Epoch 72/100\n",
      "195/195 [==============================] - 178s 911ms/step - loss: 0.0553 - accuracy: 0.9810 - val_loss: 0.1144 - val_accuracy: 0.9653\n",
      "\n",
      "Epoch 00072: val_accuracy did not improve from 0.96708\n",
      "Epoch 73/100\n",
      "195/195 [==============================] - 178s 912ms/step - loss: 0.0595 - accuracy: 0.9801 - val_loss: 0.1395 - val_accuracy: 0.9559\n",
      "\n",
      "Epoch 00073: val_accuracy did not improve from 0.96708\n",
      "Epoch 74/100\n",
      "195/195 [==============================] - 178s 914ms/step - loss: 0.0599 - accuracy: 0.9785 - val_loss: 0.1154 - val_accuracy: 0.9646\n",
      "\n",
      "Epoch 00074: val_accuracy did not improve from 0.96708\n",
      "Epoch 75/100\n",
      "195/195 [==============================] - 178s 915ms/step - loss: 0.0713 - accuracy: 0.9759 - val_loss: 0.1320 - val_accuracy: 0.9625\n",
      "\n",
      "Epoch 00075: val_accuracy did not improve from 0.96708\n",
      "Epoch 76/100\n",
      "195/195 [==============================] - 178s 913ms/step - loss: 0.0644 - accuracy: 0.9792 - val_loss: 0.1198 - val_accuracy: 0.9641\n",
      "\n",
      "Epoch 00076: val_accuracy did not improve from 0.96708\n",
      "Epoch 77/100\n",
      "195/195 [==============================] - 178s 913ms/step - loss: 0.0544 - accuracy: 0.9817 - val_loss: 0.1236 - val_accuracy: 0.9644\n",
      "\n",
      "Epoch 00077: val_accuracy did not improve from 0.96708\n",
      "Epoch 78/100\n",
      "195/195 [==============================] - 178s 913ms/step - loss: 0.0591 - accuracy: 0.9814 - val_loss: 0.1626 - val_accuracy: 0.9582\n",
      "\n",
      "Epoch 00078: val_accuracy did not improve from 0.96708\n",
      "Epoch 79/100\n",
      "195/195 [==============================] - 178s 916ms/step - loss: 0.0669 - accuracy: 0.9801 - val_loss: 0.1723 - val_accuracy: 0.9503\n",
      "\n",
      "Epoch 00079: val_accuracy did not improve from 0.96708\n",
      "Epoch 80/100\n",
      "195/195 [==============================] - 180s 924ms/step - loss: 0.0536 - accuracy: 0.9833 - val_loss: 0.1136 - val_accuracy: 0.9680\n",
      "\n",
      "Epoch 00080: val_accuracy improved from 0.96708 to 0.96798, saving model to /home/CNN4Cl1P64C100EpNNVNKf_model.h5\n",
      "Epoch 81/100\n",
      "195/195 [==============================] - 180s 922ms/step - loss: 0.0599 - accuracy: 0.9818 - val_loss: 0.1221 - val_accuracy: 0.9634\n",
      "\n",
      "Epoch 00081: val_accuracy did not improve from 0.96798\n",
      "Epoch 82/100\n",
      "195/195 [==============================] - 178s 911ms/step - loss: 0.0476 - accuracy: 0.9846 - val_loss: 0.1074 - val_accuracy: 0.9684\n",
      "\n",
      "Epoch 00082: val_accuracy improved from 0.96798 to 0.96844, saving model to /home/CNN4Cl1P64C100EpNNVNKf_model.h5\n",
      "Epoch 83/100\n",
      "195/195 [==============================] - 178s 912ms/step - loss: 0.0614 - accuracy: 0.9817 - val_loss: 0.1703 - val_accuracy: 0.9553\n",
      "\n",
      "Epoch 00083: val_accuracy did not improve from 0.96844\n",
      "Epoch 84/100\n",
      "195/195 [==============================] - 178s 912ms/step - loss: 0.0689 - accuracy: 0.9815 - val_loss: 0.1297 - val_accuracy: 0.9621\n",
      "\n",
      "Epoch 00084: val_accuracy did not improve from 0.96844\n",
      "Epoch 85/100\n",
      "195/195 [==============================] - 178s 912ms/step - loss: 0.0483 - accuracy: 0.9851 - val_loss: 0.1168 - val_accuracy: 0.9682\n",
      "\n",
      "Epoch 00085: val_accuracy did not improve from 0.96844\n",
      "Epoch 86/100\n",
      "195/195 [==============================] - 178s 913ms/step - loss: 0.0438 - accuracy: 0.9859 - val_loss: 0.1339 - val_accuracy: 0.9616\n",
      "\n",
      "Epoch 00086: val_accuracy did not improve from 0.96844\n",
      "Epoch 87/100\n",
      "195/195 [==============================] - 178s 911ms/step - loss: 0.0385 - accuracy: 0.9874 - val_loss: 0.1204 - val_accuracy: 0.9671\n",
      "\n",
      "Epoch 00087: val_accuracy did not improve from 0.96844\n",
      "Epoch 88/100\n",
      "195/195 [==============================] - 178s 911ms/step - loss: 0.0384 - accuracy: 0.9876 - val_loss: 0.1232 - val_accuracy: 0.9664\n",
      "\n",
      "Epoch 00088: val_accuracy did not improve from 0.96844\n",
      "Epoch 89/100\n",
      "195/195 [==============================] - 178s 912ms/step - loss: 0.0425 - accuracy: 0.9856 - val_loss: 0.1346 - val_accuracy: 0.9612\n",
      "\n",
      "Epoch 00089: val_accuracy did not improve from 0.96844\n",
      "Epoch 90/100\n",
      "195/195 [==============================] - 178s 912ms/step - loss: 0.0463 - accuracy: 0.9856 - val_loss: 0.1395 - val_accuracy: 0.9589\n",
      "\n",
      "Epoch 00090: val_accuracy did not improve from 0.96844\n",
      "Epoch 91/100\n",
      "195/195 [==============================] - 179s 920ms/step - loss: 0.0409 - accuracy: 0.9865 - val_loss: 0.1245 - val_accuracy: 0.9653\n",
      "\n",
      "Epoch 00091: val_accuracy did not improve from 0.96844\n",
      "Epoch 92/100\n",
      "195/195 [==============================] - 180s 924ms/step - loss: 0.0642 - accuracy: 0.9790 - val_loss: 0.1272 - val_accuracy: 0.9614\n",
      "\n",
      "Epoch 00092: val_accuracy did not improve from 0.96844\n",
      "Epoch 93/100\n",
      "195/195 [==============================] - 180s 924ms/step - loss: 0.0570 - accuracy: 0.9820 - val_loss: 0.1195 - val_accuracy: 0.9673\n",
      "\n",
      "Epoch 00093: val_accuracy did not improve from 0.96844\n",
      "Epoch 94/100\n",
      "195/195 [==============================] - 180s 924ms/step - loss: 0.0495 - accuracy: 0.9851 - val_loss: 0.1222 - val_accuracy: 0.9678\n",
      "\n",
      "Epoch 00094: val_accuracy did not improve from 0.96844\n",
      "Epoch 95/100\n",
      "195/195 [==============================] - 180s 923ms/step - loss: 0.0440 - accuracy: 0.9857 - val_loss: 0.1271 - val_accuracy: 0.9668\n",
      "\n",
      "Epoch 00095: val_accuracy did not improve from 0.96844\n",
      "Epoch 96/100\n",
      "195/195 [==============================] - 179s 917ms/step - loss: 0.0400 - accuracy: 0.9870 - val_loss: 0.1081 - val_accuracy: 0.9752\n",
      "\n",
      "Epoch 00096: val_accuracy improved from 0.96844 to 0.97525, saving model to /home/CNN4Cl1P64C100EpNNVNKf_model.h5\n",
      "Epoch 97/100\n",
      "195/195 [==============================] - 179s 916ms/step - loss: 0.0353 - accuracy: 0.9890 - val_loss: 0.1054 - val_accuracy: 0.9698\n",
      "\n",
      "Epoch 00097: val_accuracy did not improve from 0.97525\n",
      "Epoch 98/100\n",
      "195/195 [==============================] - 180s 922ms/step - loss: 0.0279 - accuracy: 0.9909 - val_loss: 0.1092 - val_accuracy: 0.9707\n",
      "\n",
      "Epoch 00098: val_accuracy did not improve from 0.97525\n",
      "Epoch 99/100\n",
      "195/195 [==============================] - 178s 915ms/step - loss: 0.0325 - accuracy: 0.9895 - val_loss: 0.1162 - val_accuracy: 0.9705\n",
      "\n",
      "Epoch 00099: val_accuracy did not improve from 0.97525\n",
      "Epoch 100/100\n",
      "195/195 [==============================] - 178s 915ms/step - loss: 0.0449 - accuracy: 0.9859 - val_loss: 0.1228 - val_accuracy: 0.9650\n",
      "\n",
      "Epoch 00100: val_accuracy did not improve from 0.97525\n"
     ]
    }
   ],
   "source": [
    "start_time = time.time()\n",
    "history = model.fit(X_train, y_train, validation_split=0.15, callbacks=callbacks_list, batch_size=128, epochs=100)\n",
    "end_time = time.time() - start_time"
   ]
  },
  {
   "cell_type": "code",
   "execution_count": 59,
   "id": "wY5RYvv8KC5o",
   "metadata": {
    "id": "wY5RYvv8KC5o"
   },
   "outputs": [],
   "source": [
    "model.save(\"/home/CNN4Cl1P64C100EpNNVNKf_completemodel.h5\")"
   ]
  },
  {
   "cell_type": "code",
   "execution_count": 38,
   "id": "20gkx9EC7i90",
   "metadata": {
    "colab": {
     "base_uri": "https://localhost:8080/"
    },
    "id": "20gkx9EC7i90",
    "outputId": "4674b794-d5b6-49bd-c718-3bd9fdf2adf2"
   },
   "outputs": [
    {
     "name": "stdout",
     "output_type": "stream",
     "text": [
      "Time : 4.97 (h)\n"
     ]
    }
   ],
   "source": [
    "print(\"Time : {:.2f} (h)\".format(end_time/3600))"
   ]
  },
  {
   "cell_type": "code",
   "execution_count": 42,
   "id": "06eea502",
   "metadata": {
    "colab": {
     "base_uri": "https://localhost:8080/",
     "height": 513
    },
    "id": "06eea502",
    "outputId": "ce7ed916-7d57-4fb9-fdaa-a8305a4d64a3"
   },
   "outputs": [
    {
     "data": {
      "image/png": "[encoded data removed]",
      "text/plain": [
       "<Figure size 720x576 with 1 Axes>"
      ]
     },
     "metadata": {
      "needs_background": "light",
      "tags": []
     },
     "output_type": "display_data"
    }
   ],
   "source": [
    "plotAccuracy(\"Accuracy\")"
   ]
  },
  {
   "cell_type": "code",
   "execution_count": 43,
   "id": "94e1cb61",
   "metadata": {
    "colab": {
     "base_uri": "https://localhost:8080/",
     "height": 513
    },
    "id": "94e1cb61",
    "outputId": "2805abd6-06c7-461d-8d92-e875e919a493"
   },
   "outputs": [
    {
     "data": {
      "image/png": "[encoded data removed]",
      "text/plain": [
       "<Figure size 720x576 with 1 Axes>"
      ]
     },
     "metadata": {
      "needs_background": "light",
      "tags": []
     },
     "output_type": "display_data"
    }
   ],
   "source": [
    "plotLoss(\"Loss\")"
   ]
  },
  {
   "cell_type": "code",
   "execution_count": 44,
   "id": "841a6e03",
   "metadata": {
    "colab": {
     "base_uri": "https://localhost:8080/",
     "height": 501
    },
    "id": "841a6e03",
    "outputId": "7a08453e-b748-439a-e059-821f5199ac67",
    "scrolled": true
   },
   "outputs": [
    {
     "data": {
      "image/png": "[encoded data removed]",
      "text/plain": [
       "<Figure size 720x576 with 1 Axes>"
      ]
     },
     "metadata": {
      "needs_background": "light",
      "tags": []
     },
     "output_type": "display_data"
    }
   ],
   "source": [
    "plot_Experiment(history,1.2)"
   ]
  },
  {
   "cell_type": "markdown",
   "id": "15c9230c",
   "metadata": {
    "id": "15c9230c"
   },
   "source": [
    "# Model Results"
   ]
  },
  {
   "cell_type": "code",
   "execution_count": 48,
   "id": "VxAVrSxaG3Mf",
   "metadata": {
    "id": "VxAVrSxaG3Mf"
   },
   "outputs": [],
   "source": [
    "from tensorflow.keras.models import load_model"
   ]
  },
  {
   "cell_type": "code",
   "execution_count": 49,
   "id": "CMu1v9uwICLP",
   "metadata": {
    "id": "CMu1v9uwICLP"
   },
   "outputs": [],
   "source": [
    "#Load model with the best accuracy\n",
    "\n",
    "model_f = load_model(save_dir)"
   ]
  },
  {
   "cell_type": "code",
   "execution_count": 50,
   "id": "5e267be3",
   "metadata": {
    "id": "5e267be3"
   },
   "outputs": [],
   "source": [
    "X_test = tf.reshape(X_test, (X_test.shape[0],8,8))\n",
    "y_test = tf.reshape(y_test, (y_test.shape[0],1))\n",
    "X_test = tf.expand_dims(X_test, axis=-1)"
   ]
  },
  {
   "cell_type": "code",
   "execution_count": 51,
   "id": "ef67517e",
   "metadata": {
    "colab": {
     "base_uri": "https://localhost:8080/"
    },
    "id": "ef67517e",
    "outputId": "df595aca-1067-4b11-e5dd-7cba619ea573"
   },
   "outputs": [
    {
     "name": "stdout",
     "output_type": "stream",
     "text": [
      "58/58 [==============================] - 12s 199ms/step - loss: 0.1547 - accuracy: 0.9625\n",
      "['loss', 'accuracy']\n",
      "Baseline: accuracy: 96.25%: loss: 0.15\n"
     ]
    }
   ],
   "source": [
    "scores = model.evaluate(X_test, y_test, batch_size=128)\n",
    "print(model.metrics_names)\n",
    "acc, loss = scores[1]*100, scores[0]\n",
    "print('Baseline: accuracy: {:.2f}%: loss: {:.2f}'.format(acc, loss))"
   ]
  },
  {
   "cell_type": "markdown",
   "id": "08019848",
   "metadata": {
    "id": "08019848"
   },
   "source": [
    "## Generate predictions from the model"
   ]
  },
  {
   "cell_type": "code",
   "execution_count": 52,
   "id": "6c8bcff7",
   "metadata": {
    "id": "6c8bcff7"
   },
   "outputs": [],
   "source": [
    "predictions = np.argmax(model.predict(X_test), axis=1)"
   ]
  },
  {
   "cell_type": "markdown",
   "id": "d641ad40",
   "metadata": {
    "id": "d641ad40"
   },
   "source": [
    "## Confusion Matrix"
   ]
  },
  {
   "cell_type": "code",
   "execution_count": 53,
   "id": "eb5b709a",
   "metadata": {
    "colab": {
     "base_uri": "https://localhost:8080/",
     "height": 283
    },
    "id": "eb5b709a",
    "outputId": "966ccb33-09ce-48b4-d5a6-ecbaa58f7efb"
   },
   "outputs": [
    {
     "data": {
      "text/plain": [
       "<matplotlib.axes._subplots.AxesSubplot at 0x7fe379a8a150>"
      ]
     },
     "execution_count": 53,
     "metadata": {
      "tags": []
     },
     "output_type": "execute_result"
    },
    {
     "data": {
      "image/png": "[encoded data removed]",
      "text/plain": [
       "<Figure size 432x288 with 2 Axes>"
      ]
     },
     "metadata": {
      "needs_background": "light",
      "tags": []
     },
     "output_type": "display_data"
    }
   ],
   "source": [
    "cm = confusion_matrix(y_test, predictions)\n",
    "sn.heatmap(cm, annot=True, fmt='g', cmap='Blues', xticklabels=['Benign','Defacement','Malware','Phishing','Spam'],\n",
    "           yticklabels=['Benign','Defacement','Malware','Phishing','Spam'])"
   ]
  },
  {
   "cell_type": "code",
   "execution_count": 54,
   "id": "9b15a937",
   "metadata": {
    "colab": {
     "base_uri": "https://localhost:8080/",
     "height": 975
    },
    "id": "9b15a937",
    "outputId": "a6078868-37b0-4f81-f213-1fe2a5351074"
   },
   "outputs": [
    {
     "name": "stderr",
     "output_type": "stream",
     "text": [
      "/usr/local/lib/python3.7/dist-packages/tensorflow/python/keras/engine/sequential.py:430: UserWarning: `model.predict_proba()` is deprecated and will be removed after 2021-01-01. Please use `model.predict()` instead.\n",
      "  warnings.warn('`model.predict_proba()` is deprecated and '\n"
     ]
    },
    {
     "name": "stdout",
     "output_type": "stream",
     "text": [
      "[4.8080335e-09 8.4897334e-16 9.9999928e-01 1.4089145e-13 6.6231252e-07]\n",
      "CNN 2d  : ROC AUC=99.69 %\n"
     ]
    },
    {
     "data": {
      "image/png": "[encoded data removed]",
      "text/plain": [
       "<Figure size 1080x1080 with 1 Axes>"
      ]
     },
     "metadata": {
      "needs_background": "light",
      "tags": []
     },
     "output_type": "display_data"
    }
   ],
   "source": [
    "aucPlot(model, X_test, y_test, 'CNN 2d')"
   ]
  },
  {
   "cell_type": "markdown",
   "id": "GEHYjAKZJ39a",
   "metadata": {
    "id": "GEHYjAKZJ39a"
   },
   "source": [
    "# Testing model with the best accuracy"
   ]
  },
  {
   "cell_type": "code",
   "execution_count": 55,
   "id": "GBM5gA2ZKDAQ",
   "metadata": {
    "colab": {
     "base_uri": "https://localhost:8080/"
    },
    "id": "GBM5gA2ZKDAQ",
    "outputId": "18d0d663-76d5-4579-a2c3-a6d002df1811"
   },
   "outputs": [
    {
     "name": "stdout",
     "output_type": "stream",
     "text": [
      "58/58 [==============================] - 12s 198ms/step - loss: 0.1401 - accuracy: 0.9651\n",
      "['loss', 'accuracy']\n",
      "Baseline: accuracy: 96.51%: loss: 0.14\n"
     ]
    }
   ],
   "source": [
    "scores = model_f.evaluate(X_test, y_test, batch_size=128)\n",
    "print(model_f.metrics_names)\n",
    "acc, loss = scores[1]*100, scores[0]\n",
    "print('Baseline: accuracy: {:.2f}%: loss: {:.2f}'.format(acc, loss))"
   ]
  },
  {
   "cell_type": "code",
   "execution_count": 56,
   "id": "gwmU2uFEKGpi",
   "metadata": {
    "id": "gwmU2uFEKGpi"
   },
   "outputs": [],
   "source": [
    "predictions = np.argmax(model_f.predict(X_test), axis=1)"
   ]
  },
  {
   "cell_type": "code",
   "execution_count": 57,
   "id": "bKnhiZL-KKv6",
   "metadata": {
    "colab": {
     "base_uri": "https://localhost:8080/",
     "height": 283
    },
    "id": "bKnhiZL-KKv6",
    "outputId": "7f9b4d65-56b6-4b38-bc7a-a96211c3e791"
   },
   "outputs": [
    {
     "data": {
      "text/plain": [
       "<matplotlib.axes._subplots.AxesSubplot at 0x7fe37900ec90>"
      ]
     },
     "execution_count": 57,
     "metadata": {
      "tags": []
     },
     "output_type": "execute_result"
    },
    {
     "data": {
      "image/png": "[encoded data removed]",
      "text/plain": [
       "<Figure size 432x288 with 2 Axes>"
      ]
     },
     "metadata": {
      "needs_background": "light",
      "tags": []
     },
     "output_type": "display_data"
    }
   ],
   "source": [
    "cm = confusion_matrix(y_test, predictions)\n",
    "sn.heatmap(cm, annot=True, fmt='g', cmap='Blues', xticklabels=['Benign','Defacement','Malware','Phishing','Spam'],\n",
    "           yticklabels=['Benign','Defacement','Malware','Phishing','Spam'])"
   ]
  },
  {
   "cell_type": "code",
   "execution_count": 58,
   "id": "AwhZs28JKNHF",
   "metadata": {
    "colab": {
     "base_uri": "https://localhost:8080/",
     "height": 975
    },
    "id": "AwhZs28JKNHF",
    "outputId": "2f50c3d9-89ce-474c-f941-fb61dc6d2867"
   },
   "outputs": [
    {
     "name": "stderr",
     "output_type": "stream",
     "text": [
      "/usr/local/lib/python3.7/dist-packages/tensorflow/python/keras/engine/sequential.py:430: UserWarning: `model.predict_proba()` is deprecated and will be removed after 2021-01-01. Please use `model.predict()` instead.\n",
      "  warnings.warn('`model.predict_proba()` is deprecated and '\n"
     ]
    },
    {
     "name": "stdout",
     "output_type": "stream",
     "text": [
      "[8.6005673e-07 3.9246208e-13 9.9999917e-01 3.7326140e-12 1.1975567e-08]\n",
      "CNN 2d  : ROC AUC=99.71 %\n"
     ]
    },
    {
     "data": {
      "image/png": "[encoded data removed]",
      "text/plain": [
       "<Figure size 1080x1080 with 1 Axes>"
      ]
     },
     "metadata": {
      "needs_background": "light",
      "tags": []
     },
     "output_type": "display_data"
    }
   ],
   "source": [
    "aucPlot(model_f, X_test, y_test, 'CNN 2d')"
   ]
  }
 ],
 "metadata": {
  "colab": {
   "collapsed_sections": [],
   "name": "CNN4Cl1P64C200EpNNVNKf (1).ipynb",
   "provenance": []
  },
  "kernelspec": {
   "display_name": "Python 3",
   "language": "python",
   "name": "python3"
  },
  "language_info": {
   "codemirror_mode": {
    "name": "ipython",
    "version": 3
   },
   "file_extension": ".py",
   "mimetype": "text/x-python",
   "name": "python",
   "nbconvert_exporter": "python",
   "pygments_lexer": "ipython3",
   "version": "3.8.10"
  }
 },
 "nbformat": 4,
 "nbformat_minor": 5
}
