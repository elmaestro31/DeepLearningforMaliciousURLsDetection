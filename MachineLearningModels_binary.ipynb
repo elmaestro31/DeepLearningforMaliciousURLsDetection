{
 "cells": [
  {
   "cell_type": "code",
   "execution_count": 1,
   "id": "55295b0a",
   "metadata": {},
   "outputs": [],
   "source": [
    "import time\n",
    "import numpy as np\n",
    "import pandas as pd\n",
    "import seaborn as sn\n",
    "import matplotlib.pyplot as plt\n",
    "from sklearn.utils import shuffle\n",
    "from sklearn.metrics import confusion_matrix, classification_report, accuracy_score, roc_curve, roc_auc_score, auc\n",
    "from sklearn.linear_model import LogisticRegression\n",
    "from sklearn.tree import DecisionTreeClassifier\n",
    "from sklearn.neighbors import KNeighborsClassifier\n",
    "from sklearn.ensemble import RandomForestClassifier\n",
    "from sklearn.naive_bayes import GaussianNB\n",
    "from sklearn.svm import SVC\n",
    "from sklearn.feature_selection import chi2, SelectKBest\n",
    "from sklearn.model_selection import train_test_split, StratifiedKFold, cross_val_score\n",
    "from sklearn.preprocessing import LabelEncoder, MinMaxScaler"
   ]
  },
  {
   "cell_type": "markdown",
   "id": "a4e754d9",
   "metadata": {},
   "source": [
    "# Data Pre-processing"
   ]
  },
  {
   "cell_type": "code",
   "execution_count": 2,
   "id": "fd51f032",
   "metadata": {
    "scrolled": true
   },
   "outputs": [
    {
     "data": {
      "text/html": [
       "<div>\n",
       "<style scoped>\n",
       "    .dataframe tbody tr th:only-of-type {\n",
       "        vertical-align: middle;\n",
       "    }\n",
       "\n",
       "    .dataframe tbody tr th {\n",
       "        vertical-align: top;\n",
       "    }\n",
       "\n",
       "    .dataframe thead th {\n",
       "        text-align: right;\n",
       "    }\n",
       "</style>\n",
       "<table border=\"1\" class=\"dataframe\">\n",
       "  <thead>\n",
       "    <tr style=\"text-align: right;\">\n",
       "      <th></th>\n",
       "      <th>Querylength</th>\n",
       "      <th>domain_token_count</th>\n",
       "      <th>path_token_count</th>\n",
       "      <th>avgdomaintokenlen</th>\n",
       "      <th>longdomaintokenlen</th>\n",
       "      <th>avgpathtokenlen</th>\n",
       "      <th>tld</th>\n",
       "      <th>charcompvowels</th>\n",
       "      <th>charcompace</th>\n",
       "      <th>ldl_url</th>\n",
       "      <th>...</th>\n",
       "      <th>SymbolCount_FileName</th>\n",
       "      <th>SymbolCount_Extension</th>\n",
       "      <th>SymbolCount_Afterpath</th>\n",
       "      <th>Entropy_URL</th>\n",
       "      <th>Entropy_Domain</th>\n",
       "      <th>Entropy_DirectoryName</th>\n",
       "      <th>Entropy_Filename</th>\n",
       "      <th>Entropy_Extension</th>\n",
       "      <th>Entropy_Afterpath</th>\n",
       "      <th>URL_Type_obf_Type</th>\n",
       "    </tr>\n",
       "  </thead>\n",
       "  <tbody>\n",
       "    <tr>\n",
       "      <th>0</th>\n",
       "      <td>0</td>\n",
       "      <td>4</td>\n",
       "      <td>5</td>\n",
       "      <td>5.5</td>\n",
       "      <td>14</td>\n",
       "      <td>4.400000</td>\n",
       "      <td>4</td>\n",
       "      <td>8</td>\n",
       "      <td>3</td>\n",
       "      <td>0</td>\n",
       "      <td>...</td>\n",
       "      <td>1</td>\n",
       "      <td>0</td>\n",
       "      <td>-1</td>\n",
       "      <td>0.726298</td>\n",
       "      <td>0.784493</td>\n",
       "      <td>0.894886</td>\n",
       "      <td>0.850608</td>\n",
       "      <td>NaN</td>\n",
       "      <td>-1.0</td>\n",
       "      <td>Defacement</td>\n",
       "    </tr>\n",
       "    <tr>\n",
       "      <th>1</th>\n",
       "      <td>0</td>\n",
       "      <td>4</td>\n",
       "      <td>5</td>\n",
       "      <td>5.5</td>\n",
       "      <td>14</td>\n",
       "      <td>6.000000</td>\n",
       "      <td>4</td>\n",
       "      <td>12</td>\n",
       "      <td>4</td>\n",
       "      <td>0</td>\n",
       "      <td>...</td>\n",
       "      <td>0</td>\n",
       "      <td>0</td>\n",
       "      <td>-1</td>\n",
       "      <td>0.688635</td>\n",
       "      <td>0.784493</td>\n",
       "      <td>0.814725</td>\n",
       "      <td>0.859793</td>\n",
       "      <td>0.0</td>\n",
       "      <td>-1.0</td>\n",
       "      <td>Defacement</td>\n",
       "    </tr>\n",
       "    <tr>\n",
       "      <th>2</th>\n",
       "      <td>0</td>\n",
       "      <td>4</td>\n",
       "      <td>5</td>\n",
       "      <td>5.5</td>\n",
       "      <td>14</td>\n",
       "      <td>5.800000</td>\n",
       "      <td>4</td>\n",
       "      <td>12</td>\n",
       "      <td>5</td>\n",
       "      <td>0</td>\n",
       "      <td>...</td>\n",
       "      <td>0</td>\n",
       "      <td>0</td>\n",
       "      <td>-1</td>\n",
       "      <td>0.695049</td>\n",
       "      <td>0.784493</td>\n",
       "      <td>0.814725</td>\n",
       "      <td>0.801880</td>\n",
       "      <td>0.0</td>\n",
       "      <td>-1.0</td>\n",
       "      <td>Defacement</td>\n",
       "    </tr>\n",
       "    <tr>\n",
       "      <th>3</th>\n",
       "      <td>0</td>\n",
       "      <td>4</td>\n",
       "      <td>12</td>\n",
       "      <td>5.5</td>\n",
       "      <td>14</td>\n",
       "      <td>5.500000</td>\n",
       "      <td>4</td>\n",
       "      <td>32</td>\n",
       "      <td>16</td>\n",
       "      <td>0</td>\n",
       "      <td>...</td>\n",
       "      <td>0</td>\n",
       "      <td>0</td>\n",
       "      <td>-1</td>\n",
       "      <td>0.640130</td>\n",
       "      <td>0.784493</td>\n",
       "      <td>0.814725</td>\n",
       "      <td>0.663210</td>\n",
       "      <td>0.0</td>\n",
       "      <td>-1.0</td>\n",
       "      <td>Defacement</td>\n",
       "    </tr>\n",
       "    <tr>\n",
       "      <th>4</th>\n",
       "      <td>0</td>\n",
       "      <td>4</td>\n",
       "      <td>6</td>\n",
       "      <td>5.5</td>\n",
       "      <td>14</td>\n",
       "      <td>7.333334</td>\n",
       "      <td>4</td>\n",
       "      <td>18</td>\n",
       "      <td>11</td>\n",
       "      <td>0</td>\n",
       "      <td>...</td>\n",
       "      <td>0</td>\n",
       "      <td>0</td>\n",
       "      <td>-1</td>\n",
       "      <td>0.681307</td>\n",
       "      <td>0.784493</td>\n",
       "      <td>0.814725</td>\n",
       "      <td>0.804526</td>\n",
       "      <td>0.0</td>\n",
       "      <td>-1.0</td>\n",
       "      <td>Defacement</td>\n",
       "    </tr>\n",
       "  </tbody>\n",
       "</table>\n",
       "<p>5 rows × 80 columns</p>\n",
       "</div>"
      ],
      "text/plain": [
       "   Querylength  domain_token_count  path_token_count  avgdomaintokenlen  \\\n",
       "0            0                   4                 5                5.5   \n",
       "1            0                   4                 5                5.5   \n",
       "2            0                   4                 5                5.5   \n",
       "3            0                   4                12                5.5   \n",
       "4            0                   4                 6                5.5   \n",
       "\n",
       "   longdomaintokenlen  avgpathtokenlen  tld  charcompvowels  charcompace  \\\n",
       "0                  14         4.400000    4               8            3   \n",
       "1                  14         6.000000    4              12            4   \n",
       "2                  14         5.800000    4              12            5   \n",
       "3                  14         5.500000    4              32           16   \n",
       "4                  14         7.333334    4              18           11   \n",
       "\n",
       "   ldl_url  ...  SymbolCount_FileName  SymbolCount_Extension  \\\n",
       "0        0  ...                     1                      0   \n",
       "1        0  ...                     0                      0   \n",
       "2        0  ...                     0                      0   \n",
       "3        0  ...                     0                      0   \n",
       "4        0  ...                     0                      0   \n",
       "\n",
       "   SymbolCount_Afterpath  Entropy_URL  Entropy_Domain  Entropy_DirectoryName  \\\n",
       "0                     -1     0.726298        0.784493               0.894886   \n",
       "1                     -1     0.688635        0.784493               0.814725   \n",
       "2                     -1     0.695049        0.784493               0.814725   \n",
       "3                     -1     0.640130        0.784493               0.814725   \n",
       "4                     -1     0.681307        0.784493               0.814725   \n",
       "\n",
       "   Entropy_Filename  Entropy_Extension  Entropy_Afterpath  URL_Type_obf_Type  \n",
       "0          0.850608                NaN               -1.0         Defacement  \n",
       "1          0.859793                0.0               -1.0         Defacement  \n",
       "2          0.801880                0.0               -1.0         Defacement  \n",
       "3          0.663210                0.0               -1.0         Defacement  \n",
       "4          0.804526                0.0               -1.0         Defacement  \n",
       "\n",
       "[5 rows x 80 columns]"
      ]
     },
     "execution_count": 2,
     "metadata": {},
     "output_type": "execute_result"
    }
   ],
   "source": [
    "dataset = pd.read_csv(\"f:\\dataset\\All.csv\")\n",
    "dataset.head()"
   ]
  },
  {
   "cell_type": "code",
   "execution_count": 3,
   "id": "2549243d",
   "metadata": {},
   "outputs": [
    {
     "data": {
      "text/plain": [
       "<AxesSubplot:>"
      ]
     },
     "execution_count": 3,
     "metadata": {},
     "output_type": "execute_result"
    },
    {
     "data": {
      "image/png": "[encoded data removed]",
      "text/plain": [
       "<Figure size 432x288 with 1 Axes>"
      ]
     },
     "metadata": {
      "needs_background": "light"
     },
     "output_type": "display_data"
    }
   ],
   "source": [
    "dataset['URL_Type_obf_Type'].value_counts().plot(kind = 'barh')"
   ]
  },
  {
   "cell_type": "code",
   "execution_count": 4,
   "id": "67a99204",
   "metadata": {},
   "outputs": [
    {
     "name": "stdout",
     "output_type": "stream",
     "text": [
      "Querylength                       0\n",
      "domain_token_count                4\n",
      "path_token_count                  5\n",
      "avgdomaintokenlen               5.5\n",
      "longdomaintokenlen               14\n",
      "                            ...    \n",
      "Entropy_DirectoryName      0.894886\n",
      "Entropy_Filename           0.850608\n",
      "Entropy_Extension               NaN\n",
      "Entropy_Afterpath              -1.0\n",
      "URL_Type_obf_Type        Defacement\n",
      "Name: 0, Length: 80, dtype: object\n"
     ]
    }
   ],
   "source": [
    "print(dataset.iloc[0])"
   ]
  },
  {
   "cell_type": "code",
   "execution_count": 5,
   "id": "37e2ec65",
   "metadata": {
    "scrolled": true
   },
   "outputs": [
    {
     "name": "stdout",
     "output_type": "stream",
     "text": [
      "Defacement    7930\n",
      "benign        7781\n",
      "phishing      7586\n",
      "malware       6712\n",
      "spam          6698\n",
      "Name: URL_Type_obf_Type, dtype: int64\n"
     ]
    }
   ],
   "source": [
    "lb = 'URL_Type_obf_Type'\n",
    "print(dataset[lb].value_counts())"
   ]
  },
  {
   "cell_type": "code",
   "execution_count": 6,
   "id": "19912bbb",
   "metadata": {},
   "outputs": [
    {
     "data": {
      "text/html": [
       "<div>\n",
       "<style scoped>\n",
       "    .dataframe tbody tr th:only-of-type {\n",
       "        vertical-align: middle;\n",
       "    }\n",
       "\n",
       "    .dataframe tbody tr th {\n",
       "        vertical-align: top;\n",
       "    }\n",
       "\n",
       "    .dataframe thead th {\n",
       "        text-align: right;\n",
       "    }\n",
       "</style>\n",
       "<table border=\"1\" class=\"dataframe\">\n",
       "  <thead>\n",
       "    <tr style=\"text-align: right;\">\n",
       "      <th></th>\n",
       "      <th>Querylength</th>\n",
       "      <th>domain_token_count</th>\n",
       "      <th>path_token_count</th>\n",
       "      <th>avgdomaintokenlen</th>\n",
       "      <th>longdomaintokenlen</th>\n",
       "      <th>tld</th>\n",
       "      <th>charcompvowels</th>\n",
       "      <th>charcompace</th>\n",
       "      <th>ldl_url</th>\n",
       "      <th>ldl_domain</th>\n",
       "      <th>...</th>\n",
       "      <th>NumberRate_Domain</th>\n",
       "      <th>SymbolCount_URL</th>\n",
       "      <th>SymbolCount_Domain</th>\n",
       "      <th>SymbolCount_Directoryname</th>\n",
       "      <th>SymbolCount_FileName</th>\n",
       "      <th>SymbolCount_Extension</th>\n",
       "      <th>SymbolCount_Afterpath</th>\n",
       "      <th>Entropy_URL</th>\n",
       "      <th>Entropy_Domain</th>\n",
       "      <th>URL_Type_obf_Type</th>\n",
       "    </tr>\n",
       "  </thead>\n",
       "  <tbody>\n",
       "    <tr>\n",
       "      <th>0</th>\n",
       "      <td>0</td>\n",
       "      <td>4</td>\n",
       "      <td>5</td>\n",
       "      <td>5.5</td>\n",
       "      <td>14</td>\n",
       "      <td>4</td>\n",
       "      <td>8</td>\n",
       "      <td>3</td>\n",
       "      <td>0</td>\n",
       "      <td>0</td>\n",
       "      <td>...</td>\n",
       "      <td>0.0</td>\n",
       "      <td>8</td>\n",
       "      <td>3</td>\n",
       "      <td>2</td>\n",
       "      <td>1</td>\n",
       "      <td>0</td>\n",
       "      <td>-1</td>\n",
       "      <td>0.726298</td>\n",
       "      <td>0.784493</td>\n",
       "      <td>Defacement</td>\n",
       "    </tr>\n",
       "    <tr>\n",
       "      <th>1</th>\n",
       "      <td>0</td>\n",
       "      <td>4</td>\n",
       "      <td>5</td>\n",
       "      <td>5.5</td>\n",
       "      <td>14</td>\n",
       "      <td>4</td>\n",
       "      <td>12</td>\n",
       "      <td>4</td>\n",
       "      <td>0</td>\n",
       "      <td>0</td>\n",
       "      <td>...</td>\n",
       "      <td>0.0</td>\n",
       "      <td>8</td>\n",
       "      <td>3</td>\n",
       "      <td>3</td>\n",
       "      <td>0</td>\n",
       "      <td>0</td>\n",
       "      <td>-1</td>\n",
       "      <td>0.688635</td>\n",
       "      <td>0.784493</td>\n",
       "      <td>Defacement</td>\n",
       "    </tr>\n",
       "    <tr>\n",
       "      <th>2</th>\n",
       "      <td>0</td>\n",
       "      <td>4</td>\n",
       "      <td>5</td>\n",
       "      <td>5.5</td>\n",
       "      <td>14</td>\n",
       "      <td>4</td>\n",
       "      <td>12</td>\n",
       "      <td>5</td>\n",
       "      <td>0</td>\n",
       "      <td>0</td>\n",
       "      <td>...</td>\n",
       "      <td>0.0</td>\n",
       "      <td>8</td>\n",
       "      <td>3</td>\n",
       "      <td>3</td>\n",
       "      <td>0</td>\n",
       "      <td>0</td>\n",
       "      <td>-1</td>\n",
       "      <td>0.695049</td>\n",
       "      <td>0.784493</td>\n",
       "      <td>Defacement</td>\n",
       "    </tr>\n",
       "    <tr>\n",
       "      <th>3</th>\n",
       "      <td>0</td>\n",
       "      <td>4</td>\n",
       "      <td>12</td>\n",
       "      <td>5.5</td>\n",
       "      <td>14</td>\n",
       "      <td>4</td>\n",
       "      <td>32</td>\n",
       "      <td>16</td>\n",
       "      <td>0</td>\n",
       "      <td>0</td>\n",
       "      <td>...</td>\n",
       "      <td>0.0</td>\n",
       "      <td>8</td>\n",
       "      <td>3</td>\n",
       "      <td>3</td>\n",
       "      <td>0</td>\n",
       "      <td>0</td>\n",
       "      <td>-1</td>\n",
       "      <td>0.640130</td>\n",
       "      <td>0.784493</td>\n",
       "      <td>Defacement</td>\n",
       "    </tr>\n",
       "    <tr>\n",
       "      <th>4</th>\n",
       "      <td>0</td>\n",
       "      <td>4</td>\n",
       "      <td>6</td>\n",
       "      <td>5.5</td>\n",
       "      <td>14</td>\n",
       "      <td>4</td>\n",
       "      <td>18</td>\n",
       "      <td>11</td>\n",
       "      <td>0</td>\n",
       "      <td>0</td>\n",
       "      <td>...</td>\n",
       "      <td>0.0</td>\n",
       "      <td>8</td>\n",
       "      <td>3</td>\n",
       "      <td>3</td>\n",
       "      <td>0</td>\n",
       "      <td>0</td>\n",
       "      <td>-1</td>\n",
       "      <td>0.681307</td>\n",
       "      <td>0.784493</td>\n",
       "      <td>Defacement</td>\n",
       "    </tr>\n",
       "  </tbody>\n",
       "</table>\n",
       "<p>5 rows × 71 columns</p>\n",
       "</div>"
      ],
      "text/plain": [
       "   Querylength  domain_token_count  path_token_count  avgdomaintokenlen  \\\n",
       "0            0                   4                 5                5.5   \n",
       "1            0                   4                 5                5.5   \n",
       "2            0                   4                 5                5.5   \n",
       "3            0                   4                12                5.5   \n",
       "4            0                   4                 6                5.5   \n",
       "\n",
       "   longdomaintokenlen  tld  charcompvowels  charcompace  ldl_url  ldl_domain  \\\n",
       "0                  14    4               8            3        0           0   \n",
       "1                  14    4              12            4        0           0   \n",
       "2                  14    4              12            5        0           0   \n",
       "3                  14    4              32           16        0           0   \n",
       "4                  14    4              18           11        0           0   \n",
       "\n",
       "   ...  NumberRate_Domain  SymbolCount_URL  SymbolCount_Domain  \\\n",
       "0  ...                0.0                8                   3   \n",
       "1  ...                0.0                8                   3   \n",
       "2  ...                0.0                8                   3   \n",
       "3  ...                0.0                8                   3   \n",
       "4  ...                0.0                8                   3   \n",
       "\n",
       "   SymbolCount_Directoryname  SymbolCount_FileName  SymbolCount_Extension  \\\n",
       "0                          2                     1                      0   \n",
       "1                          3                     0                      0   \n",
       "2                          3                     0                      0   \n",
       "3                          3                     0                      0   \n",
       "4                          3                     0                      0   \n",
       "\n",
       "   SymbolCount_Afterpath  Entropy_URL  Entropy_Domain  URL_Type_obf_Type  \n",
       "0                     -1     0.726298        0.784493         Defacement  \n",
       "1                     -1     0.688635        0.784493         Defacement  \n",
       "2                     -1     0.695049        0.784493         Defacement  \n",
       "3                     -1     0.640130        0.784493         Defacement  \n",
       "4                     -1     0.681307        0.784493         Defacement  \n",
       "\n",
       "[5 rows x 71 columns]"
      ]
     },
     "execution_count": 6,
     "metadata": {},
     "output_type": "execute_result"
    }
   ],
   "source": [
    "# Data cleansing (drop all rows containing NaN value)\n",
    "dataset = dataset.dropna(axis=1)\n",
    "dataset = dataset.replace(np.Infinity, np.nan).dropna(axis=0)\n",
    "dataset.head()"
   ]
  },
  {
   "cell_type": "code",
   "execution_count": 7,
   "id": "ad7babd0",
   "metadata": {},
   "outputs": [
    {
     "data": {
      "text/plain": [
       "<AxesSubplot:>"
      ]
     },
     "execution_count": 7,
     "metadata": {},
     "output_type": "execute_result"
    },
    {
     "data": {
      "image/png": "[encoded data removed]",
      "text/plain": [
       "<Figure size 432x288 with 1 Axes>"
      ]
     },
     "metadata": {
      "needs_background": "light"
     },
     "output_type": "display_data"
    }
   ],
   "source": [
    "dataset['URL_Type_obf_Type'].value_counts().plot(kind = 'barh')"
   ]
  },
  {
   "cell_type": "code",
   "execution_count": 8,
   "id": "61a1afcc",
   "metadata": {},
   "outputs": [
    {
     "data": {
      "text/plain": [
       "(36697, 71)"
      ]
     },
     "execution_count": 8,
     "metadata": {},
     "output_type": "execute_result"
    }
   ],
   "source": [
    "dataset.shape"
   ]
  },
  {
   "cell_type": "code",
   "execution_count": 9,
   "id": "7473f6fa",
   "metadata": {},
   "outputs": [],
   "source": [
    "#Normalize features and split labels column\n",
    "scaler = MinMaxScaler()\n",
    "features = pd.DataFrame(scaler.fit_transform(dataset.loc[:, dataset.columns != lb]), columns=dataset.columns[:-1] )\n",
    "labels = dataset[lb]"
   ]
  },
  {
   "cell_type": "code",
   "execution_count": 10,
   "id": "e7b92fd7",
   "metadata": {},
   "outputs": [
    {
     "name": "stdout",
     "output_type": "stream",
     "text": [
      "   Querylength  domain_token_count  path_token_count  avgdomaintokenlen  \\\n",
      "0          0.0            0.117647          0.073529           0.142857   \n",
      "1          0.0            0.117647          0.073529           0.142857   \n",
      "2          0.0            0.117647          0.073529           0.142857   \n",
      "3          0.0            0.117647          0.176471           0.142857   \n",
      "4          0.0            0.117647          0.088235           0.142857   \n",
      "\n",
      "   longdomaintokenlen       tld  charcompvowels  charcompace  ldl_url  \\\n",
      "0            0.196721  0.117647        0.041451     0.021127      0.0   \n",
      "1            0.196721  0.117647        0.062176     0.028169      0.0   \n",
      "2            0.196721  0.117647        0.062176     0.035211      0.0   \n",
      "3            0.196721  0.117647        0.165803     0.112676      0.0   \n",
      "4            0.196721  0.117647        0.093264     0.077465      0.0   \n",
      "\n",
      "   ldl_domain  ...  NumberRate_URL  NumberRate_Domain  SymbolCount_URL  \\\n",
      "0         0.0  ...        0.022629                0.0         0.133333   \n",
      "1         0.0  ...        0.000000                0.0         0.133333   \n",
      "2         0.0  ...        0.000000                0.0         0.133333   \n",
      "3         0.0  ...        0.000000                0.0         0.133333   \n",
      "4         0.0  ...        0.000000                0.0         0.133333   \n",
      "\n",
      "   SymbolCount_Domain  SymbolCount_Directoryname  SymbolCount_FileName  \\\n",
      "0            0.117647                       0.12               0.04878   \n",
      "1            0.117647                       0.16               0.02439   \n",
      "2            0.117647                       0.16               0.02439   \n",
      "3            0.117647                       0.16               0.02439   \n",
      "4            0.117647                       0.16               0.02439   \n",
      "\n",
      "   SymbolCount_Extension  SymbolCount_Afterpath  Entropy_URL  Entropy_Domain  \n",
      "0                  0.025                    0.0     0.644621        0.508074  \n",
      "1                  0.025                    0.0     0.565470        0.508074  \n",
      "2                  0.025                    0.0     0.578950        0.508074  \n",
      "3                  0.025                    0.0     0.463537        0.508074  \n",
      "4                  0.025                    0.0     0.550071        0.508074  \n",
      "\n",
      "[5 rows x 70 columns]\n"
     ]
    }
   ],
   "source": [
    "print(features.head())"
   ]
  },
  {
   "cell_type": "code",
   "execution_count": 11,
   "id": "dbb752c6",
   "metadata": {},
   "outputs": [
    {
     "name": "stdout",
     "output_type": "stream",
     "text": [
      "Defacement    7930\n",
      "benign        7781\n",
      "phishing      7577\n",
      "malware       6711\n",
      "spam          6698\n",
      "Name: URL_Type_obf_Type, dtype: int64\n"
     ]
    }
   ],
   "source": [
    "print(labels.value_counts())"
   ]
  },
  {
   "cell_type": "markdown",
   "id": "ec779002",
   "metadata": {},
   "source": [
    "## Chi-score of features "
   ]
  },
  {
   "cell_type": "code",
   "execution_count": 12,
   "id": "ca7da5aa",
   "metadata": {},
   "outputs": [
    {
     "name": "stdout",
     "output_type": "stream",
     "text": [
      "Values in order of descending 64-values (higher=more significant)\n",
      "Index(['Entropy_URL', 'Path_LongestWordLength', 'isPortEighty', 'dld_domain',\n",
      "       'ldl_domain', 'dld_filename', 'Filename_LetterCount',\n",
      "       'File_name_DigitCount', 'sub-Directory_LongestWordLength',\n",
      "       'ldl_filename', 'host_letter_count', 'path_token_count', 'domainlength',\n",
      "       'this.fileExtLen', 'URL_sensitiveWord', 'Directory_DigitCount',\n",
      "       'Entropy_Domain', 'avgdomaintokenlen', 'charcompvowels',\n",
      "       'Domain_LongestWordLength', 'executable', 'longdomaintokenlen',\n",
      "       'host_DigitCount', 'URL_Letter_Count', 'charcompace', 'urlLen',\n",
      "       'pathurlRatio', 'pathDomainRatio', 'pathLength', 'subDirLen',\n",
      "       'fileNameLen', 'delimeter_Domain', 'Directory_LetterCount',\n",
      "       'CharacterContinuityRate', 'NumberRate_URL', 'spcharUrl',\n",
      "       'delimeter_path', 'LongestPathTokenLength', 'NumberofDotsinURL',\n",
      "       'Extension_LetterCount', 'SymbolCount_URL', 'SymbolCount_Directoryname',\n",
      "       'tld', 'domain_token_count', 'SymbolCount_Domain', 'URL_DigitCount',\n",
      "       'domainUrlRatio', 'Arguments_LongestWordLength', 'argDomanRatio',\n",
      "       'dld_url', 'ArgLen', 'Query_LetterCount', 'Querylength', 'ldl_url',\n",
      "       'ldl_path', 'dld_path', 'LongestVariableValue', 'SymbolCount_FileName',\n",
      "       'Extension_DigitCount', 'Query_DigitCount', 'SymbolCount_Extension',\n",
      "       'SymbolCount_Afterpath', 'ldl_getArg', 'dld_getArg'],\n",
      "      dtype='object')\n"
     ]
    }
   ],
   "source": [
    "chi_score = chi2(features, labels)\n",
    "p_values = pd.Series(chi_score[1],index = features.columns)\n",
    "p_values.sort_values(ascending = False , inplace = True)\n",
    "#p_values.plot.bar()\n",
    "print('Values in order of descending 64-values (higher=more significant)')\n",
    "print(p_values.index[:64])"
   ]
  },
  {
   "cell_type": "markdown",
   "id": "4a0f5d82",
   "metadata": {},
   "source": [
    "## Dataset with 64th first rank features in chi-score"
   ]
  },
  {
   "cell_type": "code",
   "execution_count": 13,
   "id": "d66d5703",
   "metadata": {
    "scrolled": true
   },
   "outputs": [
    {
     "data": {
      "text/html": [
       "<div>\n",
       "<style scoped>\n",
       "    .dataframe tbody tr th:only-of-type {\n",
       "        vertical-align: middle;\n",
       "    }\n",
       "\n",
       "    .dataframe tbody tr th {\n",
       "        vertical-align: top;\n",
       "    }\n",
       "\n",
       "    .dataframe thead th {\n",
       "        text-align: right;\n",
       "    }\n",
       "</style>\n",
       "<table border=\"1\" class=\"dataframe\">\n",
       "  <thead>\n",
       "    <tr style=\"text-align: right;\">\n",
       "      <th></th>\n",
       "      <th>Entropy_URL</th>\n",
       "      <th>Path_LongestWordLength</th>\n",
       "      <th>isPortEighty</th>\n",
       "      <th>dld_domain</th>\n",
       "      <th>ldl_domain</th>\n",
       "      <th>dld_filename</th>\n",
       "      <th>Filename_LetterCount</th>\n",
       "      <th>File_name_DigitCount</th>\n",
       "      <th>sub-Directory_LongestWordLength</th>\n",
       "      <th>ldl_filename</th>\n",
       "      <th>...</th>\n",
       "      <th>dld_path</th>\n",
       "      <th>LongestVariableValue</th>\n",
       "      <th>SymbolCount_FileName</th>\n",
       "      <th>Extension_DigitCount</th>\n",
       "      <th>Query_DigitCount</th>\n",
       "      <th>SymbolCount_Extension</th>\n",
       "      <th>SymbolCount_Afterpath</th>\n",
       "      <th>ldl_getArg</th>\n",
       "      <th>dld_getArg</th>\n",
       "      <th>URL_Type_obf_Type</th>\n",
       "    </tr>\n",
       "  </thead>\n",
       "  <tbody>\n",
       "    <tr>\n",
       "      <th>0</th>\n",
       "      <td>0.726298</td>\n",
       "      <td>13</td>\n",
       "      <td>-1</td>\n",
       "      <td>0</td>\n",
       "      <td>0</td>\n",
       "      <td>0</td>\n",
       "      <td>13</td>\n",
       "      <td>0</td>\n",
       "      <td>5</td>\n",
       "      <td>0</td>\n",
       "      <td>...</td>\n",
       "      <td>0</td>\n",
       "      <td>-1</td>\n",
       "      <td>1</td>\n",
       "      <td>1</td>\n",
       "      <td>-1</td>\n",
       "      <td>0</td>\n",
       "      <td>-1</td>\n",
       "      <td>0</td>\n",
       "      <td>0</td>\n",
       "      <td>Defacement</td>\n",
       "    </tr>\n",
       "    <tr>\n",
       "      <th>1</th>\n",
       "      <td>0.688635</td>\n",
       "      <td>13</td>\n",
       "      <td>-1</td>\n",
       "      <td>0</td>\n",
       "      <td>0</td>\n",
       "      <td>0</td>\n",
       "      <td>13</td>\n",
       "      <td>0</td>\n",
       "      <td>5</td>\n",
       "      <td>0</td>\n",
       "      <td>...</td>\n",
       "      <td>0</td>\n",
       "      <td>-1</td>\n",
       "      <td>0</td>\n",
       "      <td>0</td>\n",
       "      <td>-1</td>\n",
       "      <td>0</td>\n",
       "      <td>-1</td>\n",
       "      <td>0</td>\n",
       "      <td>0</td>\n",
       "      <td>Defacement</td>\n",
       "    </tr>\n",
       "    <tr>\n",
       "      <th>2</th>\n",
       "      <td>0.695049</td>\n",
       "      <td>13</td>\n",
       "      <td>-1</td>\n",
       "      <td>0</td>\n",
       "      <td>0</td>\n",
       "      <td>0</td>\n",
       "      <td>13</td>\n",
       "      <td>0</td>\n",
       "      <td>5</td>\n",
       "      <td>0</td>\n",
       "      <td>...</td>\n",
       "      <td>0</td>\n",
       "      <td>-1</td>\n",
       "      <td>0</td>\n",
       "      <td>0</td>\n",
       "      <td>-1</td>\n",
       "      <td>0</td>\n",
       "      <td>-1</td>\n",
       "      <td>0</td>\n",
       "      <td>0</td>\n",
       "      <td>Defacement</td>\n",
       "    </tr>\n",
       "    <tr>\n",
       "      <th>3</th>\n",
       "      <td>0.640130</td>\n",
       "      <td>13</td>\n",
       "      <td>-1</td>\n",
       "      <td>0</td>\n",
       "      <td>0</td>\n",
       "      <td>0</td>\n",
       "      <td>13</td>\n",
       "      <td>0</td>\n",
       "      <td>13</td>\n",
       "      <td>0</td>\n",
       "      <td>...</td>\n",
       "      <td>0</td>\n",
       "      <td>-1</td>\n",
       "      <td>0</td>\n",
       "      <td>0</td>\n",
       "      <td>-1</td>\n",
       "      <td>0</td>\n",
       "      <td>-1</td>\n",
       "      <td>0</td>\n",
       "      <td>0</td>\n",
       "      <td>Defacement</td>\n",
       "    </tr>\n",
       "    <tr>\n",
       "      <th>4</th>\n",
       "      <td>0.681307</td>\n",
       "      <td>13</td>\n",
       "      <td>-1</td>\n",
       "      <td>0</td>\n",
       "      <td>0</td>\n",
       "      <td>0</td>\n",
       "      <td>13</td>\n",
       "      <td>0</td>\n",
       "      <td>13</td>\n",
       "      <td>0</td>\n",
       "      <td>...</td>\n",
       "      <td>0</td>\n",
       "      <td>-1</td>\n",
       "      <td>0</td>\n",
       "      <td>0</td>\n",
       "      <td>-1</td>\n",
       "      <td>0</td>\n",
       "      <td>-1</td>\n",
       "      <td>0</td>\n",
       "      <td>0</td>\n",
       "      <td>Defacement</td>\n",
       "    </tr>\n",
       "  </tbody>\n",
       "</table>\n",
       "<p>5 rows × 65 columns</p>\n",
       "</div>"
      ],
      "text/plain": [
       "   Entropy_URL  Path_LongestWordLength  isPortEighty  dld_domain  ldl_domain  \\\n",
       "0     0.726298                      13            -1           0           0   \n",
       "1     0.688635                      13            -1           0           0   \n",
       "2     0.695049                      13            -1           0           0   \n",
       "3     0.640130                      13            -1           0           0   \n",
       "4     0.681307                      13            -1           0           0   \n",
       "\n",
       "   dld_filename  Filename_LetterCount  File_name_DigitCount  \\\n",
       "0             0                    13                     0   \n",
       "1             0                    13                     0   \n",
       "2             0                    13                     0   \n",
       "3             0                    13                     0   \n",
       "4             0                    13                     0   \n",
       "\n",
       "   sub-Directory_LongestWordLength  ldl_filename  ...  dld_path  \\\n",
       "0                                5             0  ...         0   \n",
       "1                                5             0  ...         0   \n",
       "2                                5             0  ...         0   \n",
       "3                               13             0  ...         0   \n",
       "4                               13             0  ...         0   \n",
       "\n",
       "   LongestVariableValue  SymbolCount_FileName  Extension_DigitCount  \\\n",
       "0                    -1                     1                     1   \n",
       "1                    -1                     0                     0   \n",
       "2                    -1                     0                     0   \n",
       "3                    -1                     0                     0   \n",
       "4                    -1                     0                     0   \n",
       "\n",
       "   Query_DigitCount  SymbolCount_Extension  SymbolCount_Afterpath  ldl_getArg  \\\n",
       "0                -1                      0                     -1           0   \n",
       "1                -1                      0                     -1           0   \n",
       "2                -1                      0                     -1           0   \n",
       "3                -1                      0                     -1           0   \n",
       "4                -1                      0                     -1           0   \n",
       "\n",
       "   dld_getArg  URL_Type_obf_Type  \n",
       "0           0         Defacement  \n",
       "1           0         Defacement  \n",
       "2           0         Defacement  \n",
       "3           0         Defacement  \n",
       "4           0         Defacement  \n",
       "\n",
       "[5 rows x 65 columns]"
      ]
     },
     "execution_count": 13,
     "metadata": {},
     "output_type": "execute_result"
    }
   ],
   "source": [
    "dataset_64 = dataset.copy()\n",
    "dataset_64 = dataset_64[p_values.index[:64].insert(65, lb)]\n",
    "dataset_64.head()"
   ]
  },
  {
   "cell_type": "markdown",
   "id": "fcae8510",
   "metadata": {},
   "source": [
    "## Creating features and labes"
   ]
  },
  {
   "cell_type": "code",
   "execution_count": 14,
   "id": "2378bb64",
   "metadata": {},
   "outputs": [
    {
     "name": "stdout",
     "output_type": "stream",
     "text": [
      "[ 7.26298195e-01  1.30000000e+01 -1.00000000e+00  0.00000000e+00\n",
      "  0.00000000e+00  0.00000000e+00  1.30000000e+01  0.00000000e+00\n",
      "  5.00000000e+00  0.00000000e+00  2.20000000e+01  5.00000000e+00\n",
      "  2.50000000e+01  1.00000000e+00  0.00000000e+00  0.00000000e+00\n",
      "  7.84493326e-01  5.50000000e+00  8.00000000e+00  1.40000000e+01\n",
      "  0.00000000e+00  1.40000000e+01  0.00000000e+00  4.70000000e+01\n",
      "  3.00000000e+00  5.80000000e+01  4.48275860e-01  1.04000000e+00\n",
      "  2.60000000e+01  2.60000000e+01  1.30000000e+01  0.00000000e+00\n",
      "  8.00000000e+00  6.00000000e-01  1.72413793e-02  3.00000000e+00\n",
      "  2.00000000e+00  1.30000000e+01  5.00000000e+00  0.00000000e+00\n",
      "  8.00000000e+00  2.00000000e+00  4.00000000e+00  4.00000000e+00\n",
      "  3.00000000e+00  1.00000000e+00  4.31034480e-01 -1.00000000e+00\n",
      "  8.00000000e-02  0.00000000e+00  2.00000000e+00 -1.00000000e+00\n",
      "  0.00000000e+00  0.00000000e+00  0.00000000e+00  0.00000000e+00\n",
      " -1.00000000e+00  1.00000000e+00  1.00000000e+00 -1.00000000e+00\n",
      "  0.00000000e+00 -1.00000000e+00  0.00000000e+00  0.00000000e+00]\n"
     ]
    }
   ],
   "source": [
    "features_64 = dataset_64.loc[:, dataset_64.columns != lb].to_numpy()\n",
    "print(features_64[0])"
   ]
  },
  {
   "cell_type": "markdown",
   "id": "cbdf4ff2",
   "metadata": {},
   "source": [
    "## Encoding labels"
   ]
  },
  {
   "cell_type": "code",
   "execution_count": 15,
   "id": "f2602dc8",
   "metadata": {},
   "outputs": [
    {
     "name": "stdout",
     "output_type": "stream",
     "text": [
      "0        1\n",
      "1        1\n",
      "2        1\n",
      "3        1\n",
      "4        1\n",
      "        ..\n",
      "36702    1\n",
      "36703    1\n",
      "36704    1\n",
      "36705    1\n",
      "36706    1\n",
      "Name: URL_Type_obf_Type, Length: 36697, dtype: int64\n",
      "1    28916\n",
      "0     7781\n",
      "Name: URL_Type_obf_Type, dtype: int64\n"
     ]
    },
    {
     "data": {
      "image/png": "[encoded data removed]",
      "text/plain": [
       "<Figure size 432x288 with 1 Axes>"
      ]
     },
     "metadata": {
      "needs_background": "light"
     },
     "output_type": "display_data"
    }
   ],
   "source": [
    "coding_labels = {\n",
    "    \"benign\" : 0,\n",
    "    \"Defacement\" : 1,\n",
    "    \"malware\" : 1,\n",
    "    \"phishing\" : 1,\n",
    "    \"spam\" : 1\n",
    "}\n",
    "labels_64 = dataset_64[lb].map(coding_labels)\n",
    "print(labels_64)\n",
    "print(labels_64.value_counts())\n",
    "labels_64.value_counts().plot(kind = 'barh')\n",
    "labels_64 = labels_64.to_numpy()"
   ]
  },
  {
   "cell_type": "markdown",
   "id": "73ab1af6",
   "metadata": {},
   "source": [
    "## Defining tets and visualisation plot Functions"
   ]
  },
  {
   "cell_type": "code",
   "execution_count": 16,
   "id": "b19d886f",
   "metadata": {},
   "outputs": [],
   "source": [
    "def compareModels(accuracies, results, classifiers):\n",
    "    comp = plt.figure(figsize=(10, 8))\n",
    "    comp.suptitle('Comparison of models')\n",
    "    x = comp.add_subplot(111)\n",
    "    plt.boxplot(results)\n",
    "    x.set_xticklabels(classifiers)\n",
    "    plt.show()"
   ]
  },
  {
   "cell_type": "code",
   "execution_count": 17,
   "id": "bf5bf5e1",
   "metadata": {},
   "outputs": [],
   "source": [
    "def testModel(model, X_test, y_test):\n",
    "    # make predictions on validation dataset\n",
    "    predictions = model.predict(X_test)\n",
    "    print(\"Accuracy = {:.2f}\".format(accuracy_score(y_test, predictions)*100))\n",
    "    print('Confusion Matrix:')\n",
    "    cm = confusion_matrix(y_test, predictions)\n",
    "    sn.heatmap(cm, annot=True, fmt='g', cmap='Blues', xticklabels=['Benign','Malicious'],\n",
    "           yticklabels=['Benign','Malicious'])\n",
    "    print('Classification Report:')\n",
    "    print(classification_report(y_test, predictions))\n"
   ]
  },
  {
   "cell_type": "code",
   "execution_count": 46,
   "id": "546adeaa",
   "metadata": {},
   "outputs": [],
   "source": [
    "def aucPlot(model, X_test, y_test, classifier):\n",
    "    lr_probs = model.predict_proba(X_test)\n",
    "    # keep probabilities for the positive outcome only\n",
    "    #lr_probs = lr_probs.reshape(lr_probs.shape[0], 2)\n",
    "    print(lr_probs[0])\n",
    "    #lr_probs = np.transpose([pred[:, 1] for pred in lr_probs])\n",
    "    # calculate scores\n",
    "    lr_auc = roc_auc_score(y_test, lr_probs[:,1])\n",
    "    # summarize scores\n",
    "    print(classifier, ' : ROC AUC=%.2f %%' % (lr_auc*100))\n",
    "    \n",
    "    # Compute ROC curve and ROC area for each class\n",
    "    fpr = dict()\n",
    "    tpr = dict()\n",
    "    roc_auc = dict()\n",
    "    \n",
    "    labels = ['Benign', 'Malicious']\n",
    "    colors = ['blue', 'red']\n",
    "    \n",
    "    n_classes = 2\n",
    "    for i in range(n_classes):\n",
    "        fpr[i], tpr[i], _ = roc_curve(y_test, lr_probs[:, i], pos_label=i)\n",
    "        roc_auc[i] = auc(fpr[i], tpr[i])\n",
    "    \n",
    "    # Plot of a ROC curve for a specific class\n",
    "    plt.figure(figsize=(15, 15))\n",
    "    for i in range(n_classes):  \n",
    "        plt.plot(fpr[i], tpr[i], color=colors[i], label=labels[i]+' ROC curve (area = %0.2f)' % roc_auc[i])\n",
    "        plt.plot([0, 1], [0, 1], 'k--')\n",
    "        plt.xlim([-0.01, 1.0])\n",
    "        plt.ylim([0.0, 1.05])\n",
    "        plt.xlabel('False Positive Rate')\n",
    "        plt.ylabel('True Positive Rate')\n",
    "        plt.title('Multi Class Classification')\n",
    "        plt.legend(loc=\"lower right\")\n",
    "    plt.show()"
   ]
  },
  {
   "cell_type": "markdown",
   "id": "3957ca6b",
   "metadata": {},
   "source": [
    "## Shuffeling and splitting data into train set and test set"
   ]
  },
  {
   "cell_type": "code",
   "execution_count": 19,
   "id": "222d5a5a",
   "metadata": {},
   "outputs": [],
   "source": [
    "X_train, X_test, y_train, y_test = train_test_split(features_64, labels_64, test_size=0.2, random_state=48)"
   ]
  },
  {
   "cell_type": "markdown",
   "id": "2bbc67cc",
   "metadata": {},
   "source": [
    "# Building and training models"
   ]
  },
  {
   "cell_type": "code",
   "execution_count": 20,
   "id": "1eaded50",
   "metadata": {},
   "outputs": [],
   "source": [
    "models = []\n",
    "models.append(('LogisticRegression', LogisticRegression(solver='liblinear', multi_class='auto')))\n",
    "models.append(('KNN', KNeighborsClassifier()))\n",
    "models.append(('DecisionTreeClassifier', DecisionTreeClassifier()))\n",
    "models.append(('SVM', SVC(gamma='auto')))\n",
    "models.append(('RandomForestClassifier', RandomForestClassifier(n_estimators=10)))\n",
    "models.append(('NaiveBayes', GaussianNB()))"
   ]
  },
  {
   "cell_type": "markdown",
   "id": "8154bc66",
   "metadata": {},
   "source": [
    "# Evaluate each model in turn using 10-fold cross-validation"
   ]
  },
  {
   "cell_type": "code",
   "execution_count": 21,
   "id": "3317134a",
   "metadata": {},
   "outputs": [
    {
     "name": "stdout",
     "output_type": "stream",
     "text": [
      "LogisticRegression: \t 0.925026 \t (0.004375) \t | time : 1.44 (m)\n",
      "KNN: \t 0.971489 \t (0.002800) \t | time : 38.39 (s)\n",
      "DecisionTreeClassifier: \t 0.985591 \t (0.002962) \t | time : 7.80 (s)\n",
      "SVM: \t 0.959805 \t (0.003136) \t | time : 66.14 (m)\n",
      "RandomForestClassifier: \t 0.990258 \t (0.001823) \t | time : 5.54 (s)\n",
      "NaiveBayes: \t 0.636646 \t (0.010395) \t | time : 1.04 (s)\n"
     ]
    }
   ],
   "source": [
    "results = []\n",
    "classifiers = []\n",
    "accuracies = []\n",
    "\n",
    "for classifier, model in models:\n",
    "    kfold = StratifiedKFold(n_splits=10)\n",
    "    start_time = time.time()\n",
    "    cv_results = cross_val_score(model, X_train, y_train, cv=kfold, scoring='accuracy')\n",
    "    end_time = time.time() - start_time\n",
    "    if end_time > 60:\n",
    "        end_time = \"%.2f (m)\" % (end_time/60)\n",
    "    else:\n",
    "        end_time = \"%.2f (s)\" % (end_time)\n",
    "    accuracies.append((cv_results.mean(), classifier))\n",
    "    results.append(cv_results)\n",
    "    classifiers.append(classifier)\n",
    "    details = \"%s: \\t %f \\t (%f)\" % (classifier, cv_results.mean(), cv_results.std())\n",
    "    print(\"{} \\t | time : {}\".format(details, end_time))"
   ]
  },
  {
   "cell_type": "code",
   "execution_count": 22,
   "id": "102f77d9",
   "metadata": {},
   "outputs": [
    {
     "name": "stdout",
     "output_type": "stream",
     "text": [
      "RandomForestClassifier \t 99.03\n",
      "DecisionTreeClassifier \t 98.56\n",
      "KNN \t 97.15\n",
      "SVM \t 95.98\n",
      "LogisticRegression \t 92.50\n",
      "NaiveBayes \t 63.66\n"
     ]
    }
   ],
   "source": [
    "accuracies.sort(reverse=True)\n",
    "for a, c in accuracies:\n",
    "    print(\"{} \\t {:.2f}\".format(c, a*100))"
   ]
  },
  {
   "cell_type": "code",
   "execution_count": 23,
   "id": "34296bbe",
   "metadata": {},
   "outputs": [
    {
     "data": {
      "image/png": "[encoded data removed]",
      "text/plain": [
       "<Figure size 720x576 with 1 Axes>"
      ]
     },
     "metadata": {
      "needs_background": "light"
     },
     "output_type": "display_data"
    }
   ],
   "source": [
    "compareModels(accuracies, results, classifiers)"
   ]
  },
  {
   "cell_type": "markdown",
   "id": "a1a38d3c",
   "metadata": {},
   "source": [
    "# Training, testing and visualising best three models"
   ]
  },
  {
   "cell_type": "code",
   "execution_count": 33,
   "id": "cc67ffa1",
   "metadata": {
    "scrolled": true
   },
   "outputs": [
    {
     "name": "stdout",
     "output_type": "stream",
     "text": [
      "Accuracy = 98.98\n",
      "Confusion Matrix:\n",
      "Classification Report:\n",
      "              precision    recall  f1-score   support\n",
      "\n",
      "           0       0.98      0.98      0.98      1611\n",
      "           1       0.99      0.99      0.99      5729\n",
      "\n",
      "    accuracy                           0.99      7340\n",
      "   macro avg       0.99      0.98      0.99      7340\n",
      "weighted avg       0.99      0.99      0.99      7340\n",
      "\n"
     ]
    },
    {
     "data": {
      "image/png": "[encoded data removed]",
      "text/plain": [
       "<Figure size 432x288 with 2 Axes>"
      ]
     },
     "metadata": {
      "needs_background": "light"
     },
     "output_type": "display_data"
    }
   ],
   "source": [
    "rf = RandomForestClassifier(n_estimators=10)\n",
    "rf.fit(X_train, y_train)\n",
    "testModel(rf, X_test, y_test)"
   ]
  },
  {
   "cell_type": "code",
   "execution_count": 47,
   "id": "17b13a58",
   "metadata": {},
   "outputs": [
    {
     "name": "stdout",
     "output_type": "stream",
     "text": [
      "[0. 1.]\n",
      "RandomForestClassifier  : ROC AUC=99.76 %\n"
     ]
    },
    {
     "data": {
      "image/png": "[encoded data removed]",
      "text/plain": [
       "<Figure size 1080x1080 with 1 Axes>"
      ]
     },
     "metadata": {
      "needs_background": "light"
     },
     "output_type": "display_data"
    }
   ],
   "source": [
    "aucPlot(rf, X_test, y_test, 'RandomForestClassifier')"
   ]
  },
  {
   "cell_type": "code",
   "execution_count": 48,
   "id": "8bfefe31",
   "metadata": {},
   "outputs": [
    {
     "name": "stdout",
     "output_type": "stream",
     "text": [
      "Accuracy = 98.66\n",
      "Confusion Matrix:\n",
      "Classification Report:\n",
      "              precision    recall  f1-score   support\n",
      "\n",
      "           0       0.97      0.96      0.97      1611\n",
      "           1       0.99      0.99      0.99      5729\n",
      "\n",
      "    accuracy                           0.99      7340\n",
      "   macro avg       0.98      0.98      0.98      7340\n",
      "weighted avg       0.99      0.99      0.99      7340\n",
      "\n"
     ]
    },
    {
     "data": {
      "image/png": "[encoded data removed]",
      "text/plain": [
       "<Figure size 432x288 with 2 Axes>"
      ]
     },
     "metadata": {
      "needs_background": "light"
     },
     "output_type": "display_data"
    }
   ],
   "source": [
    "cart = DecisionTreeClassifier()\n",
    "cart.fit(X_train, y_train)\n",
    "testModel(cart, X_test, y_test)"
   ]
  },
  {
   "cell_type": "code",
   "execution_count": 49,
   "id": "608cf3af",
   "metadata": {},
   "outputs": [
    {
     "name": "stdout",
     "output_type": "stream",
     "text": [
      "[0. 1.]\n",
      "DecisionTreeClassifier  : ROC AUC=97.85 %\n"
     ]
    },
    {
     "data": {
      "image/png": "[encoded data removed]",
      "text/plain": [
       "<Figure size 1080x1080 with 1 Axes>"
      ]
     },
     "metadata": {
      "needs_background": "light"
     },
     "output_type": "display_data"
    }
   ],
   "source": [
    "aucPlot(cart, X_test, y_test, 'DecisionTreeClassifier')"
   ]
  },
  {
   "cell_type": "code",
   "execution_count": 50,
   "id": "d3fabddb",
   "metadata": {},
   "outputs": [
    {
     "name": "stdout",
     "output_type": "stream",
     "text": [
      "Accuracy = 97.18\n",
      "Confusion Matrix:\n",
      "Classification Report:\n",
      "              precision    recall  f1-score   support\n",
      "\n",
      "           0       0.95      0.92      0.93      1611\n",
      "           1       0.98      0.99      0.98      5729\n",
      "\n",
      "    accuracy                           0.97      7340\n",
      "   macro avg       0.96      0.95      0.96      7340\n",
      "weighted avg       0.97      0.97      0.97      7340\n",
      "\n"
     ]
    },
    {
     "data": {
      "image/png": "[encoded data removed]",
      "text/plain": [
       "<Figure size 432x288 with 2 Axes>"
      ]
     },
     "metadata": {
      "needs_background": "light"
     },
     "output_type": "display_data"
    }
   ],
   "source": [
    "knn = KNeighborsClassifier()\n",
    "knn.fit(X_train, y_train)\n",
    "testModel(knn, X_test, y_test)"
   ]
  },
  {
   "cell_type": "code",
   "execution_count": 51,
   "id": "dde792f2",
   "metadata": {},
   "outputs": [
    {
     "name": "stdout",
     "output_type": "stream",
     "text": [
      "[0. 1.]\n",
      "KNeighborsClassifier  : ROC AUC=98.59 %\n"
     ]
    },
    {
     "data": {
      "image/png": "[encoded data removed]",
      "text/plain": [
       "<Figure size 1080x1080 with 1 Axes>"
      ]
     },
     "metadata": {
      "needs_background": "light"
     },
     "output_type": "display_data"
    }
   ],
   "source": [
    "aucPlot(knn, X_test, y_test, 'KNeighborsClassifier')"
   ]
  }
 ],
 "metadata": {
  "kernelspec": {
   "display_name": "Python 3",
   "language": "python",
   "name": "python3"
  },
  "language_info": {
   "codemirror_mode": {
    "name": "ipython",
    "version": 3
   },
   "file_extension": ".py",
   "mimetype": "text/x-python",
   "name": "python",
   "nbconvert_exporter": "python",
   "pygments_lexer": "ipython3",
   "version": "3.8.10"
  }
 },
 "nbformat": 4,
 "nbformat_minor": 5
}
